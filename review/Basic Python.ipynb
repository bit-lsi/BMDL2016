{
 "cells": [
  {
   "cell_type": "markdown",
   "metadata": {},
   "source": [
    "# Basic python - Quick Review\n",
    "\n",
    "* [python website](https://www.python.org/)"
   ]
  },
  {
   "cell_type": "markdown",
   "metadata": {},
   "source": [
    "The Zen of Python is a set of principles that all python programs should follow."
   ]
  },
  {
   "cell_type": "code",
   "execution_count": 1,
   "metadata": {
    "collapsed": false
   },
   "outputs": [
    {
     "name": "stdout",
     "output_type": "stream",
     "text": [
      "The Zen of Python, by Tim Peters\n",
      "\n",
      "Beautiful is better than ugly.\n",
      "Explicit is better than implicit.\n",
      "Simple is better than complex.\n",
      "Complex is better than complicated.\n",
      "Flat is better than nested.\n",
      "Sparse is better than dense.\n",
      "Readability counts.\n",
      "Special cases aren't special enough to break the rules.\n",
      "Although practicality beats purity.\n",
      "Errors should never pass silently.\n",
      "Unless explicitly silenced.\n",
      "In the face of ambiguity, refuse the temptation to guess.\n",
      "There should be one-- and preferably only one --obvious way to do it.\n",
      "Although that way may not be obvious at first unless you're Dutch.\n",
      "Now is better than never.\n",
      "Although never is often better than *right* now.\n",
      "If the implementation is hard to explain, it's a bad idea.\n",
      "If the implementation is easy to explain, it may be a good idea.\n",
      "Namespaces are one honking great idea -- let's do more of those!\n"
     ]
    }
   ],
   "source": [
    "import this"
   ]
  },
  {
   "cell_type": "markdown",
   "metadata": {},
   "source": [
    "# Types\n",
    "\n",
    "All objects have a type, but they are not explicit (as in Java). Python follows the idea of duck-typing: if it quacks like a duck, it must be a duck. "
   ]
  },
  {
   "cell_type": "markdown",
   "metadata": {},
   "source": [
    "Integers are immutable"
   ]
  },
  {
   "cell_type": "code",
   "execution_count": 2,
   "metadata": {
    "collapsed": true
   },
   "outputs": [],
   "source": [
    "my_int = 2"
   ]
  },
  {
   "cell_type": "markdown",
   "metadata": {},
   "source": [
    "Floating point numbers"
   ]
  },
  {
   "cell_type": "code",
   "execution_count": 3,
   "metadata": {
    "collapsed": true
   },
   "outputs": [],
   "source": [
    "my_float = 4.12345986"
   ]
  },
  {
   "cell_type": "markdown",
   "metadata": {},
   "source": [
    "Strings can be constructed with multiple different types of quotes"
   ]
  },
  {
   "cell_type": "code",
   "execution_count": 4,
   "metadata": {
    "collapsed": true
   },
   "outputs": [],
   "source": [
    "my_string1 = 'Biological databases'\n",
    "my_string2 = \"Biological databases\"\n",
    "my_string3 = \"\"\"Spanning\n",
    "multiple\n",
    "lines\"\"\"\n",
    "my_string4 = '''Spanning\n",
    "multiple\n",
    "lines'''"
   ]
  },
  {
   "cell_type": "markdown",
   "metadata": {},
   "source": [
    "Booleans in python can be one of `True` or `False`. Comparison operations return booleans, and can be directly stored in variables."
   ]
  },
  {
   "cell_type": "code",
   "execution_count": 5,
   "metadata": {
    "collapsed": true
   },
   "outputs": [],
   "source": [
    "my_bool1 = True\n",
    "my_bool2 = False"
   ]
  },
  {
   "cell_type": "code",
   "execution_count": 6,
   "metadata": {
    "collapsed": false
   },
   "outputs": [
    {
     "data": {
      "text/plain": [
       "True"
      ]
     },
     "execution_count": 6,
     "metadata": {},
     "output_type": "execute_result"
    }
   ],
   "source": [
    "tautology = 1 == 1\n",
    "\n",
    "tautology"
   ]
  },
  {
   "cell_type": "markdown",
   "metadata": {},
   "source": [
    "Don't ever do this:\n",
    "\n",
    "```python\n",
    "if 5 < my_int or second_condition:\n",
    "    flag = True\n",
    "else:\n",
    "    flag = False\n",
    "```\n",
    "\n",
    "Do this instead:\n",
    "\n",
    "```python\n",
    "flag = 5 < my_int or second_condition\n",
    "```"
   ]
  },
  {
   "cell_type": "markdown",
   "metadata": {},
   "source": [
    "## Lists\n",
    "\n",
    "A list can contain any objects. It is also mutable. \n",
    "\n",
    "Lists are constructured with `list(iterable)` or with the following bracket syntax:"
   ]
  },
  {
   "cell_type": "code",
   "execution_count": 7,
   "metadata": {
    "collapsed": false
   },
   "outputs": [
    {
     "data": {
      "text/plain": [
       "[4.0, 'string', True, 1]"
      ]
     },
     "execution_count": 7,
     "metadata": {},
     "output_type": "execute_result"
    }
   ],
   "source": [
    "my_list1 = [4.0, 'string', True, 1]\n",
    "my_list1"
   ]
  },
  {
   "cell_type": "code",
   "execution_count": 8,
   "metadata": {
    "collapsed": false
   },
   "outputs": [
    {
     "data": {
      "text/plain": [
       "[0, 1, 4, 9]"
      ]
     },
     "execution_count": 8,
     "metadata": {},
     "output_type": "execute_result"
    }
   ],
   "source": [
    "my_list2 = list(i**2 for i in range(4))\n",
    "my_list2"
   ]
  },
  {
   "cell_type": "markdown",
   "metadata": {},
   "source": [
    "## Tuples\n",
    "\n",
    "Can contain mixed types. Immutable. They can be constructed with `tuple(iterable)`, parentheses, or just commas."
   ]
  },
  {
   "cell_type": "code",
   "execution_count": 9,
   "metadata": {
    "collapsed": false
   },
   "outputs": [
    {
     "data": {
      "text/plain": [
       "(4.0, 'string', True)"
      ]
     },
     "execution_count": 9,
     "metadata": {},
     "output_type": "execute_result"
    }
   ],
   "source": [
    "my_tuple = (4.0, 'string', True)\n",
    "my_tuple"
   ]
  },
  {
   "cell_type": "code",
   "execution_count": 10,
   "metadata": {
    "collapsed": false
   },
   "outputs": [
    {
     "data": {
      "text/plain": [
       "(5, 3, 5)"
      ]
     },
     "execution_count": 10,
     "metadata": {},
     "output_type": "execute_result"
    }
   ],
   "source": [
    "my_tuple2 = 5, 3, 5\n",
    "my_tuple2"
   ]
  },
  {
   "cell_type": "markdown",
   "metadata": {},
   "source": [
    "## Sets\n",
    "\n",
    "Unordered set, contains no duplicates. Can contain mixed types. Mutable. There are two ways to make sets - using `set(iterable)` or the bracket constructors"
   ]
  },
  {
   "cell_type": "code",
   "execution_count": 11,
   "metadata": {
    "collapsed": false
   },
   "outputs": [
    {
     "data": {
      "text/plain": [
       "{True, 4.0, 'string'}"
      ]
     },
     "execution_count": 11,
     "metadata": {},
     "output_type": "execute_result"
    }
   ],
   "source": [
    "my_set1 = {4.0, 'string', True}\n",
    "my_set1"
   ]
  },
  {
   "cell_type": "code",
   "execution_count": 12,
   "metadata": {
    "collapsed": false
   },
   "outputs": [
    {
     "data": {
      "text/plain": [
       "{'bla', 'blup'}"
      ]
     },
     "execution_count": 12,
     "metadata": {},
     "output_type": "execute_result"
    }
   ],
   "source": [
    "my_set2 = {'bla', 'bla', 'blup'}\n",
    "my_set2"
   ]
  },
  {
   "cell_type": "code",
   "execution_count": 13,
   "metadata": {
    "collapsed": false
   },
   "outputs": [
    {
     "data": {
      "text/plain": [
       "{3, 'a', 'b'}"
      ]
     },
     "execution_count": 13,
     "metadata": {},
     "output_type": "execute_result"
    }
   ],
   "source": [
    "my_set3 = set(['a', 'b', 3])\n",
    "my_set3 "
   ]
  },
  {
   "cell_type": "code",
   "execution_count": 14,
   "metadata": {
    "collapsed": false
   },
   "outputs": [
    {
     "data": {
      "text/plain": [
       "{0, 1, 2, 3, 4, 5}"
      ]
     },
     "execution_count": 14,
     "metadata": {},
     "output_type": "execute_result"
    }
   ],
   "source": [
    "my_set4 = set(i for i in range(6))\n",
    "my_set4"
   ]
  },
  {
   "cell_type": "markdown",
   "metadata": {},
   "source": [
    "## Dictionaries \n",
    "\n",
    "Dictionaries can either be built with the `dict(iterable of pairs)` or with the following bracket syntax:"
   ]
  },
  {
   "cell_type": "code",
   "execution_count": 15,
   "metadata": {
    "collapsed": false
   },
   "outputs": [
    {
     "data": {
      "text/plain": [
       "{3: False, 'key1': 1.0}"
      ]
     },
     "execution_count": 15,
     "metadata": {},
     "output_type": "execute_result"
    }
   ],
   "source": [
    "my_dict = {'key1': 1.0, 3: False}\n",
    "my_dict"
   ]
  },
  {
   "cell_type": "code",
   "execution_count": 16,
   "metadata": {
    "collapsed": false
   },
   "outputs": [
    {
     "data": {
      "text/plain": [
       "{0: 1, 2: 3}"
      ]
     },
     "execution_count": 16,
     "metadata": {},
     "output_type": "execute_result"
    }
   ],
   "source": [
    "my_dict2 = dict([(0,1), (2,3)])\n",
    "my_dict2"
   ]
  },
  {
   "cell_type": "markdown",
   "metadata": {},
   "source": [
    "# Accessing elements in `str`, `list`, and `tuple`"
   ]
  },
  {
   "cell_type": "markdown",
   "metadata": {},
   "source": [
    "Some objects with a `__getitem__` method, for which you can use the square brackets to access an item, support slicing. This inclues `str`, `tuple`, and `list`."
   ]
  },
  {
   "cell_type": "markdown",
   "metadata": {},
   "source": [
    "String slicing"
   ]
  },
  {
   "cell_type": "code",
   "execution_count": 17,
   "metadata": {
    "collapsed": false
   },
   "outputs": [
    {
     "name": "stdout",
     "output_type": "stream",
     "text": [
      "a\n",
      "bcde\n",
      "abc\n",
      "bc\n"
     ]
    }
   ],
   "source": [
    "my_string = \"abcde\"\n",
    "print(my_string[0]) # first character\n",
    "print(my_string[1:]) # from second character to the end\n",
    "print(my_string[:-2]) # from beginning until the second last character\n",
    "print(my_string[1:-2]) # from second character to second last character"
   ]
  },
  {
   "cell_type": "markdown",
   "metadata": {},
   "source": [
    "List slicing"
   ]
  },
  {
   "cell_type": "code",
   "execution_count": 18,
   "metadata": {
    "collapsed": false
   },
   "outputs": [
    {
     "name": "stdout",
     "output_type": "stream",
     "text": [
      "[0, 1, 4, 9]\n",
      "0\n",
      "[1, 4, 9]\n",
      "[0, 1]\n",
      "[1]\n"
     ]
    }
   ],
   "source": [
    "print(my_list2)\n",
    "print(my_list2[0]) # first character\n",
    "print(my_list2[1:]) # from second character to the end\n",
    "print(my_list2[:-2]) # from beginning until the second last character\n",
    "print(my_list2[1:-2]) # from second character to second last character"
   ]
  },
  {
   "cell_type": "markdown",
   "metadata": {},
   "source": [
    "Tuple slicing"
   ]
  },
  {
   "cell_type": "code",
   "execution_count": 19,
   "metadata": {
    "collapsed": false
   },
   "outputs": [
    {
     "name": "stdout",
     "output_type": "stream",
     "text": [
      "(4.0, 'string', True)\n",
      "4.0\n",
      "('string', True)\n",
      "(4.0,)\n",
      "()\n"
     ]
    }
   ],
   "source": [
    "print(my_tuple)\n",
    "print(my_tuple[0]) # first character\n",
    "print(my_tuple[1:]) # from second character to the end\n",
    "print(my_tuple[:-2]) # from beginning until the second last character\n",
    "print(my_tuple[1:-2]) # from second character to second last character"
   ]
  },
  {
   "cell_type": "markdown",
   "metadata": {},
   "source": [
    "# Accessing Items in Dictionaries\n",
    "\n"
   ]
  },
  {
   "cell_type": "code",
   "execution_count": 20,
   "metadata": {
    "collapsed": true
   },
   "outputs": [],
   "source": [
    "english_spanish_dictionary = {\n",
    "    'one':'uno',\n",
    "    'two':'dos',\n",
    "    'three':'tres'\n",
    "}"
   ]
  },
  {
   "cell_type": "markdown",
   "metadata": {},
   "source": [
    "`dict.keys()`, `dict.items()`, and `dict.values()` are all iterable"
   ]
  },
  {
   "cell_type": "code",
   "execution_count": 21,
   "metadata": {
    "collapsed": false
   },
   "outputs": [
    {
     "data": {
      "text/plain": [
       "dict_keys(['two', 'three', 'one'])"
      ]
     },
     "execution_count": 21,
     "metadata": {},
     "output_type": "execute_result"
    }
   ],
   "source": [
    "english_spanish_dictionary.keys()"
   ]
  },
  {
   "cell_type": "code",
   "execution_count": 22,
   "metadata": {
    "collapsed": false
   },
   "outputs": [
    {
     "data": {
      "text/plain": [
       "dict_items([('two', 'dos'), ('three', 'tres'), ('one', 'uno')])"
      ]
     },
     "execution_count": 22,
     "metadata": {},
     "output_type": "execute_result"
    }
   ],
   "source": [
    "english_spanish_dictionary.items()"
   ]
  },
  {
   "cell_type": "code",
   "execution_count": 23,
   "metadata": {
    "collapsed": false
   },
   "outputs": [
    {
     "data": {
      "text/plain": [
       "dict_values(['dos', 'tres', 'uno'])"
      ]
     },
     "execution_count": 23,
     "metadata": {},
     "output_type": "execute_result"
    }
   ],
   "source": [
    "english_spanish_dictionary.values()"
   ]
  },
  {
   "cell_type": "markdown",
   "metadata": {},
   "source": [
    "Square brackets with the apropriate key returns its corresponding value"
   ]
  },
  {
   "cell_type": "code",
   "execution_count": 24,
   "metadata": {
    "collapsed": false
   },
   "outputs": [
    {
     "data": {
      "text/plain": [
       "'tres'"
      ]
     },
     "execution_count": 24,
     "metadata": {},
     "output_type": "execute_result"
    }
   ],
   "source": [
    "english_spanish_dictionary['three']"
   ]
  },
  {
   "cell_type": "markdown",
   "metadata": {},
   "source": [
    "# Nested structures\n",
    "list, dict, tuple can be nested!\n",
    "examples"
   ]
  },
  {
   "cell_type": "markdown",
   "metadata": {},
   "source": [
    "## 2-dimensional "
   ]
  },
  {
   "cell_type": "code",
   "execution_count": 25,
   "metadata": {
    "collapsed": false
   },
   "outputs": [
    {
     "name": "stdout",
     "output_type": "stream",
     "text": [
      "[1, 2]\n",
      "3\n"
     ]
    }
   ],
   "source": [
    "nested_list = [[1,2],[3,4]]\n",
    "print(nested_list[0])\n",
    "print(nested_list[1][0])"
   ]
  },
  {
   "cell_type": "code",
   "execution_count": 26,
   "metadata": {
    "collapsed": false
   },
   "outputs": [
    {
     "name": "stdout",
     "output_type": "stream",
     "text": [
      "(1, 2)\n",
      "(3, (5, 6))\n",
      "(5, 6)\n",
      "5\n"
     ]
    }
   ],
   "source": [
    "nested_tuple = (1, 2), (3, (5, 6))\n",
    "print(nested_tuple[0])\n",
    "print(nested_tuple[1])\n",
    "print(nested_tuple[1][1])\n",
    "print(nested_tuple[1][1][0])"
   ]
  },
  {
   "cell_type": "markdown",
   "metadata": {},
   "source": [
    "## Deeply nested and mixed"
   ]
  },
  {
   "cell_type": "code",
   "execution_count": 27,
   "metadata": {
    "collapsed": false
   },
   "outputs": [
    {
     "data": {
      "text/plain": [
       "'uno'"
      ]
     },
     "execution_count": 27,
     "metadata": {},
     "output_type": "execute_result"
    }
   ],
   "source": [
    "mixed = ['one',(1,True,3.2,{'one':'uno'})]\n",
    "mixed[1][3]['one']"
   ]
  },
  {
   "cell_type": "markdown",
   "metadata": {},
   "source": [
    "## Unpacking a list / tuple of pairs into two lists / tuples :\n",
    "\n",
    "Use Zip * operator for easier and better code for unpacking tuple into two separate lists"
   ]
  },
  {
   "cell_type": "code",
   "execution_count": 28,
   "metadata": {
    "collapsed": false
   },
   "outputs": [
    {
     "name": "stdout",
     "output_type": "stream",
     "text": [
      "('1', '2', '3', '4')\n",
      "('a', 'b', 'c', 'd')\n"
     ]
    },
    {
     "data": {
      "text/plain": [
       "False"
      ]
     },
     "execution_count": 28,
     "metadata": {},
     "output_type": "execute_result"
    }
   ],
   "source": [
    "source_list = ('1','a'), ('2','b'), ('3','c'), ('4','d')\n",
    "list1, list2 = zip(*source_list)\n",
    "print(list1)\n",
    "print(list2)\n",
    "\n",
    "\n",
    "# Note that zip(*iterable) is its own inverse:\n",
    "\n",
    "list(source_list) == zip(*zip(*source_list))\n",
    "\n",
    "#When unpacking into two lists, this becomes:\n",
    "\n",
    "list1, list2 = zip(*source_list)\n",
    "list(source_list) == zip(list1, list2)\n"
   ]
  },
  {
   "cell_type": "markdown",
   "metadata": {},
   "source": [
    "# Statements and control flow\n",
    "## for loop"
   ]
  },
  {
   "cell_type": "markdown",
   "metadata": {},
   "source": [
    "Access element by element from a list or tuple"
   ]
  },
  {
   "cell_type": "code",
   "execution_count": 29,
   "metadata": {
    "collapsed": false
   },
   "outputs": [
    {
     "name": "stdout",
     "output_type": "stream",
     "text": [
      "in the loop\n",
      "one\n",
      "in the loop\n",
      "two\n",
      "in the loop\n",
      "three\n",
      "I'm not in the loop\n"
     ]
    }
   ],
   "source": [
    "my_list = ['one','two','three']\n",
    "for element in my_list:\n",
    "    print(\"in the loop\")\n",
    "    print(element)\n",
    "print(\"I'm not in the loop\")"
   ]
  },
  {
   "cell_type": "markdown",
   "metadata": {},
   "source": [
    "## if ... else \n",
    "check if somethin is true otherwise do something different"
   ]
  },
  {
   "cell_type": "code",
   "execution_count": 30,
   "metadata": {
    "collapsed": false
   },
   "outputs": [
    {
     "name": "stdout",
     "output_type": "stream",
     "text": [
      "Both persons have the same first name\n"
     ]
    }
   ],
   "source": [
    "person_1 = \"Max\"\n",
    "person_2 = \"Max\"\n",
    "if person_1 == person_2:\n",
    "    print(\"Both persons have the same first name\")\n",
    "else:\n",
    "    print(\"diffrent first names\")"
   ]
  },
  {
   "cell_type": "code",
   "execution_count": 31,
   "metadata": {
    "collapsed": false
   },
   "outputs": [
    {
     "name": "stdout",
     "output_type": "stream",
     "text": [
      "diffrent first names\n"
     ]
    }
   ],
   "source": [
    "person_1 = \"Max\"\n",
    "person_2 = \"Zara\"\n",
    "if person_1 == person_2:\n",
    "    print(\"Both persons have the same first name\")\n",
    "else:\n",
    "    print(\"diffrent first names\")"
   ]
  },
  {
   "cell_type": "markdown",
   "metadata": {},
   "source": [
    "# Functions\n",
    "\n",
    "Functions are reusable piece of code. They should only do one thing. This might be modifying a value, or it might be returning a new one. It should not do both."
   ]
  },
  {
   "cell_type": "code",
   "execution_count": 32,
   "metadata": {
    "collapsed": false
   },
   "outputs": [
    {
     "name": "stdout",
     "output_type": "stream",
     "text": [
      "99\n"
     ]
    }
   ],
   "source": [
    "# without return value, but print something\n",
    "def my_function(number):\n",
    "    print(number)\n",
    "    \n",
    "my_function(99)"
   ]
  },
  {
   "cell_type": "markdown",
   "metadata": {},
   "source": [
    "Functions take all values by reference, so don't do this:\n",
    "\n",
    "```python\n",
    "def add_one(number):\n",
    "    number = number + 1\n",
    "    return number\n",
    "```\n",
    "\n",
    "Do this instead:"
   ]
  },
  {
   "cell_type": "code",
   "execution_count": 33,
   "metadata": {
    "collapsed": false
   },
   "outputs": [
    {
     "data": {
      "text/plain": [
       "100"
      ]
     },
     "execution_count": 33,
     "metadata": {},
     "output_type": "execute_result"
    }
   ],
   "source": [
    "def add_one(number):\n",
    "    return number + 1\n",
    "\n",
    "add_one(99)"
   ]
  },
  {
   "cell_type": "code",
   "execution_count": 34,
   "metadata": {
    "collapsed": false
   },
   "outputs": [
    {
     "data": {
      "text/plain": [
       "101"
      ]
     },
     "execution_count": 34,
     "metadata": {},
     "output_type": "execute_result"
    }
   ],
   "source": [
    "add_one(add_one(99))"
   ]
  },
  {
   "cell_type": "markdown",
   "metadata": {},
   "source": [
    "## String functions\n",
    "\n",
    "Module - string\n",
    "Here we list some useful string functions, for more details and an extensive list on the same visit the Python doumentation."
   ]
  },
  {
   "cell_type": "markdown",
   "metadata": {},
   "source": [
    "* string.find :\n",
    "\n",
    "**Description**\n",
    "\n",
    "It determines if string str occurs in string, or in a substring of string if starting index beg and ending index end are given.\n",
    "\n",
    "**Syntax**\n",
    "\n",
    "string.find(str, beg=0, end=len(string))\n",
    "\n",
    "**Parameters**\n",
    "\n",
    "str -- This specifies the string to be searched.\n",
    "\n",
    "beg -- This is the starting index, by default its 0.\n",
    "\n",
    "end -- This is the ending index, by default its equal to the length of the string.\n",
    "\n",
    "**Return Value**\n",
    "\n",
    "Index if found and -1 otherwise."
   ]
  },
  {
   "cell_type": "code",
   "execution_count": 35,
   "metadata": {
    "collapsed": false
   },
   "outputs": [
    {
     "name": "stdout",
     "output_type": "stream",
     "text": [
      "20\n",
      "20\n",
      "-1\n"
     ]
    }
   ],
   "source": [
    "str1 = \"this is string.find example....!!!\";\n",
    "str2 = \"exam\";\n",
    "\n",
    "print(str1.find(str2))\n",
    "print(str1.find(str2, 10))\n",
    "print(str1.find(str2, 40))"
   ]
  },
  {
   "cell_type": "markdown",
   "metadata": {},
   "source": [
    "* string.split :\n",
    "    \n",
    "**Description**\n",
    "\n",
    "The method split() returns a list of all the words in the string, using str as the separator (splits on all whitespace if left unspecified), optionally limiting the number of splits to num.\n",
    "\n",
    "**Syntax**\n",
    "\n",
    "str.split(str=\"\", num=string.count(str))\n",
    "\n",
    "**Parameters**\n",
    "\n",
    "str -- This is any delimeter, by default it is space.\n",
    "\n",
    "num -- this is number of lines to be made\n",
    "\n",
    "**Return Value**\n",
    "\n",
    "This method returns a list of lines."
   ]
  },
  {
   "cell_type": "code",
   "execution_count": 36,
   "metadata": {
    "collapsed": false
   },
   "outputs": [
    {
     "name": "stdout",
     "output_type": "stream",
     "text": [
      "['Line1-abcdef', 'Line2-abc', 'Line4-abcd']\n",
      "['Line1-abcdef', 'Line2-abc Line4-abcd']\n"
     ]
    }
   ],
   "source": [
    "str3 = \"Line1-abcdef Line2-abc Line4-abcd\"\n",
    "print(str3.split( ))\n",
    "print(str3.split(' ', 1 )) # limits the number of times string is split to 1"
   ]
  },
  {
   "cell_type": "markdown",
   "metadata": {},
   "source": [
    "* string.join :\n",
    "\n",
    "**Description**\n",
    "\n",
    "The method join() returns a string in which the string elements of sequence have been joined by str separator.\n",
    "\n",
    "**Syntax**\n",
    "\n",
    "str.join(sequence)\n",
    "\n",
    "**Parameters**\n",
    "\n",
    "sequence -- This is a sequence of the elements to be joined.\n",
    "\n",
    "**Return Value**\n",
    "\n",
    "This method returns a string, which is the concatenation of the strings in the sequence seq. The separator between elements is the string providing this method."
   ]
  },
  {
   "cell_type": "code",
   "execution_count": 37,
   "metadata": {
    "collapsed": false
   },
   "outputs": [
    {
     "data": {
      "text/plain": [
       "'a-b-c'"
      ]
     },
     "execution_count": 37,
     "metadata": {},
     "output_type": "execute_result"
    }
   ],
   "source": [
    "s = \"-\"\n",
    "seq = \"a\", \"b\", \"c\" # This is sequence of strings.\n",
    "\n",
    "s.join( seq )"
   ]
  },
  {
   "cell_type": "markdown",
   "metadata": {},
   "source": [
    "* string.replace :\n",
    "\n",
    "**Description**\n",
    "\n",
    "The method replace() returns a copy of the string in which the occurrences of old have been replaced with new, optionally restricting the number of replacements to max.\n",
    "\n",
    "**Syntax**\n",
    "\n",
    "str.replace(old, new[, max])\n",
    "\n",
    "**Parameters**\n",
    "\n",
    "old -- This is old substring to be replaced.\n",
    "\n",
    "new -- This is new substring, which would replace old substring.\n",
    "\n",
    "max -- If this optional argument max is given, only the first count occurrences are replaced.\n",
    "\n",
    "**Return Value**\n",
    "\n",
    "This method returns a copy of the string with all occurrences of substring old replaced by new. If the optional argument max is given, only the first count occurrences are replaced."
   ]
  },
  {
   "cell_type": "code",
   "execution_count": 38,
   "metadata": {
    "collapsed": false
   },
   "outputs": [
    {
     "data": {
      "text/plain": [
       "'thwas was an example for replace!!! thwas was really a string'"
      ]
     },
     "execution_count": 38,
     "metadata": {},
     "output_type": "execute_result"
    }
   ],
   "source": [
    "str4 = \"this is an example for replace!!! this is really a string\";\n",
    "\n",
    "str4.replace(\"is\", \"was\")"
   ]
  },
  {
   "cell_type": "code",
   "execution_count": 39,
   "metadata": {
    "collapsed": false
   },
   "outputs": [
    {
     "data": {
      "text/plain": [
       "'thwas was an example for replace!!! thwas is really a string'"
      ]
     },
     "execution_count": 39,
     "metadata": {},
     "output_type": "execute_result"
    }
   ],
   "source": [
    "str4.replace(\"is\", \"was\", 3)"
   ]
  },
  {
   "cell_type": "markdown",
   "metadata": {},
   "source": [
    "* string.strip :\n",
    "\n",
    "**Description**\n",
    "\n",
    "The method strip() returns a copy of the string in which all chars have been stripped from the beginning and the end of the string (default whitespace characters).\n",
    "\n",
    "**Syntax**\n",
    "\n",
    "str.strip([chars]);\n",
    "\n",
    "**Parameters**\n",
    "\n",
    "chars -- The characters to be removed from beginning or end of the string.\n",
    "\n",
    "**Return Value**\n",
    "\n",
    "This method returns a copy of the string in which all chars have been stripped from the beginning and the end of the string."
   ]
  },
  {
   "cell_type": "code",
   "execution_count": 40,
   "metadata": {
    "collapsed": false
   },
   "outputs": [
    {
     "data": {
      "text/plain": [
       "'this is string example!!!'"
      ]
     },
     "execution_count": 40,
     "metadata": {},
     "output_type": "execute_result"
    }
   ],
   "source": [
    "str5 = \"0000000this is string example!!!0000000\";\n",
    "str5.strip( '0' )"
   ]
  }
 ],
 "metadata": {
  "kernelspec": {
   "display_name": "Python 3",
   "language": "python",
   "name": "python3"
  },
  "language_info": {
   "codemirror_mode": {
    "name": "ipython",
    "version": 3
   },
   "file_extension": ".py",
   "mimetype": "text/x-python",
   "name": "python",
   "nbconvert_exporter": "python",
   "pygments_lexer": "ipython3",
   "version": "3.5.2"
  }
 },
 "nbformat": 4,
 "nbformat_minor": 0
}
