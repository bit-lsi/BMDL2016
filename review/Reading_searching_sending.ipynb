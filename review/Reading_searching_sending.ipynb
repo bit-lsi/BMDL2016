{
 "cells": [
  {
   "cell_type": "markdown",
   "metadata": {},
   "source": [
    "# Build in functions and python modules"
   ]
  },
  {
   "cell_type": "markdown",
   "metadata": {},
   "source": [
    "## Build-in functions\n",
    "Python 2.7.12: https://docs.python.org/2/library/functions.html\n",
    "\n",
    "Python 3.6: https://docs.python.org/3.6/library/functions.html\n",
    "\n",
    "There are many build-in functions in python. You can use them to identify the type of a variable (type()), you can use them to check if an object is an instance of some specific class (isinstance()) and many other ways.\n",
    "\n",
    "Here we will use the build-in function open() to work with a file on your machine. The special thing about the build-in functions is: You don't need an import, you can use them in your code straight forword."
   ]
  },
  {
   "cell_type": "code",
   "execution_count": null,
   "metadata": {
    "collapsed": false
   },
   "outputs": [],
   "source": [
    "print('Type of \"1\":',type(1))\n",
    "print('Type of \"String\":',type(\"String\"))\n",
    "\n",
    "print('Is \"1\" a string?:',isinstance(1, str))"
   ]
  },
  {
   "cell_type": "markdown",
   "metadata": {
    "collapsed": false
   },
   "source": [
    "Now we need a file that is filled with informations that are interesting. Let's use a simplified file written in Biological Expression Language (BEL). The definitions for biological interactions look like this:\n",
    "\n",
    "p(HGNC:BCL2) -| p(HGNC:CYCS)\n",
    "\n",
    "This translates to:\n",
    "\n",
    "The protein BCL2 (defined in namespace HGNC) inhibits the protein CYCS (defined in HGNC).\n",
    "\n",
    "Let's open a file then and print it out line by line! To do so we will need to store it in some variable that will represent our file as a so called 'file descriptor' (fd). "
   ]
  },
  {
   "cell_type": "code",
   "execution_count": null,
   "metadata": {
    "collapsed": false
   },
   "outputs": [],
   "source": [
    "import os\n",
    "fd = open(os.sep.join(('..','data','reading_searching_sending','interactions.txt')),\"r\")"
   ]
  },
  {
   "cell_type": "markdown",
   "metadata": {},
   "source": [
    "The open() function will receive two parameters to operate properly. The first parameter is the path to the file we want to open. The second parameter defines the rights of the file descriptor. Weather it is allowed to read ('r'), write ('w') and so on. Here is a full table of the possible rights:\n",
    "\n",
    "'r' \topen for reading (default)\n",
    "\n",
    "'w' \topen for writing, truncating the file first\n",
    "\n",
    "'x' \topen for exclusive creation, failing if the file already exists\n",
    "\n",
    "'a' \topen for writing, appending to the end of the file if it exists\n",
    "\n",
    "'b' \tbinary mode\n",
    "\n",
    "'t' \ttext mode (default)\n",
    "\n",
    "'+' \topen a disk file for updating (reading and writing)\n",
    "\n",
    "'U' \tuniversal newlines mode (deprecated)\n"
   ]
  },
  {
   "cell_type": "code",
   "execution_count": null,
   "metadata": {
    "collapsed": false
   },
   "outputs": [],
   "source": [
    "type(fd)"
   ]
  },
  {
   "cell_type": "code",
   "execution_count": null,
   "metadata": {
    "collapsed": false
   },
   "outputs": [],
   "source": [
    "lines = fd.readlines()\n",
    "print(\"Type of lines:\", type(lines))\n",
    "print(lines)"
   ]
  },
  {
   "cell_type": "markdown",
   "metadata": {},
   "source": [
    "## re - Regular expression operations\n",
    "Python 2.7.12: https://docs.python.org/2/library/re.html\n",
    "\n",
    "Python 3.6: https://docs.python.org/3.6/library/re.html\n",
    "\n",
    "Regular expressions can be used to analyse given strings and filter for specific information. It can be used to read\n",
    "large text files and automatically extract the interessting data out of it.\n",
    "The re module enables these functionalities on python level."
   ]
  },
  {
   "cell_type": "code",
   "execution_count": null,
   "metadata": {
    "collapsed": true
   },
   "outputs": [],
   "source": [
    "import re"
   ]
  },
  {
   "cell_type": "markdown",
   "metadata": {},
   "source": [
    "The module requires a valid regular expression to be used. So the correct syntax is needed.\n",
    "\n",
    "Let's use the regular expression module to analyse a text and extact the interesting information.\n",
    "\n",
    "We need to setup a text that we want to analyse. Our goal is: Extract the information on which proteins are interacting and how they are interacting. First of all we have to write a pattern (regular expression) that represents our question."
   ]
  },
  {
   "cell_type": "code",
   "execution_count": null,
   "metadata": {
    "collapsed": true
   },
   "outputs": [],
   "source": [
    "text = \"Protein A interacts directly with protein B.\" # the text we want to analyse."
   ]
  },
  {
   "cell_type": "markdown",
   "metadata": {},
   "source": [
    "Basic syntax for regular expressions:\n",
    "\n",
    "'^' - Begining of expression.\n",
    "\n",
    "'(' - Begining of a group.\n",
    "\n",
    "')' - End of a group.\n",
    "\n",
    "'*' - 0 to n times.\n",
    "\n",
    "'+' - 1 to n times.\n",
    "\n",
    "'\\s' - Whitespace.\n",
    "\n",
    "'[a-z]' - Any lowercase letter.\n",
    "\n",
    "'[A-Z]' - Any upercase letter.\n",
    "\n",
    "'?' - Different meanings. Here: Next case reached?\n",
    "\n",
    "'$' - End of expression.\n",
    "\n",
    "We will define three groups in our pattern:\n",
    "\n",
    "1. First protein.\n",
    "2. The way it interacts.\n",
    "3. Second protein."
   ]
  },
  {
   "cell_type": "code",
   "execution_count": null,
   "metadata": {
    "collapsed": true
   },
   "outputs": [],
   "source": [
    "pattern_definition = \"^Protein\\s([A-Z]+)\\sinteracts\\s([a-z]+?)\\swith\\sprotein\\s([A-Z]+?)\\.$\""
   ]
  },
  {
   "cell_type": "markdown",
   "metadata": {},
   "source": [
    "Now we use the re.compile() method to create an object that represents our defined pattern."
   ]
  },
  {
   "cell_type": "code",
   "execution_count": null,
   "metadata": {
    "collapsed": false
   },
   "outputs": [],
   "source": [
    "pattern = re.compile(pattern_definition) # compiling the pattern_definition. Creates an object.\n",
    "type(pattern)"
   ]
  },
  {
   "cell_type": "markdown",
   "metadata": {},
   "source": [
    "Now we can use the pattern object to match it with the given text and extract the groups."
   ]
  },
  {
   "cell_type": "code",
   "execution_count": null,
   "metadata": {
    "collapsed": false
   },
   "outputs": [],
   "source": [
    "result = pattern.match(text)\n",
    "result.groups()"
   ]
  },
  {
   "cell_type": "markdown",
   "metadata": {},
   "source": [
    "Our patter can now be used to extract Information from texts similar to:\n",
    "\n",
    "Protein [Protein_name] interacts [interaction_type] with protein [Protein_name]."
   ]
  },
  {
   "cell_type": "code",
   "execution_count": null,
   "metadata": {
    "collapsed": false
   },
   "outputs": [],
   "source": [
    "text_2 = \"Protein SOMETHING interacts somehow with protein ANOTHER.\"\n",
    "pattern.match(text_2).groups()"
   ]
  },
  {
   "cell_type": "markdown",
   "metadata": {},
   "source": [
    "Lets make our pattern more generic, so it would find more results!\n",
    "\n",
    "Firstly: Lets exchange the definitions for letters ([a-z] / [A-Z]) with this: \\w. This change will allow us to find any Alphanumeric value in the text. \n",
    "\n",
    "Secondly: We have defined that the text will start with an uppercase 'Protein'. Definitions of upper- and lowercase may decrease the number of results. Lets get rid of that by adding an re.IGNORECASE (re.I) flag!"
   ]
  },
  {
   "cell_type": "code",
   "execution_count": null,
   "metadata": {
    "collapsed": false
   },
   "outputs": [],
   "source": [
    "pattern_definition_generic = \"^protein\\s(\\w+?)\\sinteracts\\s(\\w+?)\\swith\\sprotein\\s(\\w+?)\\.$\" # changed definition\n",
    "pattern_generic = re.compile(pattern_definition_generic, re.I) # we added re.I to ignore cases!\n",
    "print(\"Text_2 matches:\",pattern_generic.match(text_2).groups()) # lets see if the new definition works with text_2.\n",
    "\n",
    "text_3 = \"protein Some1 interacts badly with protein oTHER32.\" # new text to search in.\n",
    "print(\"Text_3 matches:\",pattern_generic.match(text_3).groups())"
   ]
  },
  {
   "cell_type": "markdown",
   "metadata": {},
   "source": [
    "At the moment we receive a tuple of strings. Without knowing the order of the elements in our pattern, we would not know which element is the subject and which one is the object of the interaction. Lets add something that will help us to identify the elements. A dictionary would be great here!"
   ]
  },
  {
   "cell_type": "code",
   "execution_count": null,
   "metadata": {
    "collapsed": false
   },
   "outputs": [],
   "source": [
    "pattern_definition_generic = \"^protein\\s(?P<subject>\\w+?)\\sinteracts\\s(?P<interaction_type>\\w+?)\\swith\\sprotein\\s(?P<object>\\w+?)\\.$\"\n",
    "pattern_generic = re.compile(pattern_definition_generic, re.I)\n",
    "print(\"Text_3 matches:\",pattern_generic.match(text_3).groupdict()) # we want to receive a dictionary!"
   ]
  },
  {
   "cell_type": "markdown",
   "metadata": {},
   "source": [
    "Lets make sure that we will identify interactions also if they are not a scentense as a whole!"
   ]
  },
  {
   "cell_type": "code",
   "execution_count": null,
   "metadata": {
    "collapsed": false
   },
   "outputs": [],
   "source": [
    "generic_pattern_definition = \".*?(protein\\s(?P<subject>[^\\s]\\w+?)\\sinteracts\\s(?P<interaction_type>\\w+?)\\swith\\sprotein\\s(?P<object>[^\\s]\\w+))\"\n",
    "generic_pattern = re.compile(generic_pattern_definition, re.I)\n",
    "\n",
    "text_4 = \"Our research resulted in protein Some1 interacts directly with protein SomeElse32!\" # new text to match against!\n",
    "print(\"Text_4 matches:\",generic_pattern.match(text_4).groupdict())"
   ]
  },
  {
   "cell_type": "markdown",
   "metadata": {},
   "source": [
    "## json - JSON encoder and decoder\n",
    "Python 2.7.12: https://docs.python.org/2/library/json.html\n",
    "\n",
    "Python 3.6: https://docs.python.org/3.6/library/json.html\n",
    "\n",
    "JSON (JavaScript Object Notation) is a datatype similiar to the python dictionary. It is wiledly used to exchange data in a normalized way. The json module of python provides an API to interact with JSON objects on python level."
   ]
  },
  {
   "cell_type": "code",
   "execution_count": null,
   "metadata": {
    "collapsed": true
   },
   "outputs": [],
   "source": [
    "import json"
   ]
  },
  {
   "cell_type": "markdown",
   "metadata": {},
   "source": [
    "Lets create a simple list of inormations."
   ]
  },
  {
   "cell_type": "code",
   "execution_count": null,
   "metadata": {
    "collapsed": false
   },
   "outputs": [],
   "source": [
    "data = [1, 'one', {'cat':'Katze','dog':'Hund','nothing':None,'thats_right':True,'thats_wrong':False}]\n",
    "type(data)"
   ]
  },
  {
   "cell_type": "markdown",
   "metadata": {},
   "source": [
    "The type of our data list is 'list' so it is a basic python datatype. In addition our list contains a python dictionary on position 3. Now we can transform our python list into a json object by using the json.dumps() method."
   ]
  },
  {
   "cell_type": "code",
   "execution_count": null,
   "metadata": {
    "collapsed": false
   },
   "outputs": [],
   "source": [
    "json_data = json.dumps(data)\n",
    "type(json_data)"
   ]
  },
  {
   "cell_type": "markdown",
   "metadata": {},
   "source": [
    "Whats that? The datatype of our json_data is a string? Thats right! Python does not know the type 'json' it transforms our data list into a json-like string. And we can also see that pythonic values like 'None', 'True' and 'False' where transformed to their JavaScript equivalents 'null', 'true' and 'false'!"
   ]
  },
  {
   "cell_type": "code",
   "execution_count": null,
   "metadata": {
    "collapsed": false
   },
   "outputs": [],
   "source": [
    "print(json_data)"
   ]
  },
  {
   "cell_type": "markdown",
   "metadata": {},
   "source": [
    "We can exchange this string with other users that use different programming languages with the annotation that the datatype is json. This allows the other users to read it (syntax) and extract the data directly.\n",
    "\n",
    "Now lets try to use our json data the other way arround and extract the informations from the string and transform it into a python-readable datatype. To fullfill this task we will use the json.loads() method."
   ]
  },
  {
   "cell_type": "code",
   "execution_count": null,
   "metadata": {
    "collapsed": false
   },
   "outputs": [],
   "source": [
    "python_data = json.loads(json_data)\n",
    "type(python_data)"
   ]
  },
  {
   "cell_type": "markdown",
   "metadata": {},
   "source": [
    "The json.loads() method transforms 'json strings' into python-readable objects. This allows us to use data from other users that was send to us in the json format directly in python."
   ]
  },
  {
   "cell_type": "markdown",
   "metadata": {},
   "source": [
    "# Excercise\n",
    "\n",
    "Let's combine the three approaches. \n",
    "\n",
    "1. First of all we want to load the interactions file into our program.\n",
    "2. Use the RE module to filter the lines for the information.\n",
    "3. Store the information in the JSON format and create a new file that contains this JSON string!\n",
    "4. Upload your solution and resulting JSON file to your GitHub.\n"
   ]
  },
  {
   "cell_type": "code",
   "execution_count": null,
   "metadata": {
    "collapsed": true
   },
   "outputs": [],
   "source": []
  }
 ],
 "metadata": {
  "kernelspec": {
   "display_name": "Python 3",
   "language": "python",
   "name": "python3"
  },
  "language_info": {
   "codemirror_mode": {
    "name": "ipython",
    "version": 3
   },
   "file_extension": ".py",
   "mimetype": "text/x-python",
   "name": "python",
   "nbconvert_exporter": "python",
   "pygments_lexer": "ipython3",
   "version": "3.5.1"
  }
 },
 "nbformat": 4,
 "nbformat_minor": 0
}
