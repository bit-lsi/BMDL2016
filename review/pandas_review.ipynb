{
 "cells": [
  {
   "cell_type": "markdown",
   "metadata": {},
   "source": [
    "This notebook is a primer on the `pandas` python package."
   ]
  },
  {
   "cell_type": "code",
   "execution_count": 1,
   "metadata": {
    "collapsed": true
   },
   "outputs": [],
   "source": [
    "import pandas as pd\n",
    "import numpy as np\n",
    "import matplotlib.pyplot as plt\n",
    "import string"
   ]
  },
  {
   "cell_type": "markdown",
   "metadata": {},
   "source": [
    "# Loading Data\n",
    "\n",
    "Pandas DataFrames wrap n by m matricies and give the rows and columns names"
   ]
  },
  {
   "cell_type": "code",
   "execution_count": 2,
   "metadata": {
    "collapsed": false
   },
   "outputs": [
    {
     "data": {
      "text/plain": [
       "array([[ 1.42762066,  0.32021434],\n",
       "       [ 1.24068247, -0.02979016],\n",
       "       [-1.08076537,  1.14271441],\n",
       "       [-0.91608445,  0.32465844],\n",
       "       [-0.7572041 ,  0.57001211]])"
      ]
     },
     "execution_count": 2,
     "metadata": {},
     "output_type": "execute_result"
    }
   ],
   "source": [
    "shape = 5, 2\n",
    "data = np.random.normal(size=shape)\n",
    "data"
   ]
  },
  {
   "cell_type": "code",
   "execution_count": 3,
   "metadata": {
    "collapsed": false
   },
   "outputs": [
    {
     "data": {
      "text/html": [
       "<div>\n",
       "<table border=\"1\" class=\"dataframe\">\n",
       "  <thead>\n",
       "    <tr style=\"text-align: right;\">\n",
       "      <th></th>\n",
       "      <th>0</th>\n",
       "      <th>1</th>\n",
       "    </tr>\n",
       "  </thead>\n",
       "  <tbody>\n",
       "    <tr>\n",
       "      <th>0</th>\n",
       "      <td>1.427621</td>\n",
       "      <td>0.320214</td>\n",
       "    </tr>\n",
       "    <tr>\n",
       "      <th>1</th>\n",
       "      <td>1.240682</td>\n",
       "      <td>-0.029790</td>\n",
       "    </tr>\n",
       "    <tr>\n",
       "      <th>2</th>\n",
       "      <td>-1.080765</td>\n",
       "      <td>1.142714</td>\n",
       "    </tr>\n",
       "    <tr>\n",
       "      <th>3</th>\n",
       "      <td>-0.916084</td>\n",
       "      <td>0.324658</td>\n",
       "    </tr>\n",
       "    <tr>\n",
       "      <th>4</th>\n",
       "      <td>-0.757204</td>\n",
       "      <td>0.570012</td>\n",
       "    </tr>\n",
       "  </tbody>\n",
       "</table>\n",
       "</div>"
      ],
      "text/latex": [
       "\\begin{center}{\\begin{tabular}{lrr}\n",
       "\\toprule\n",
       "{} &         0 &         1 \\\\\n",
       "\\midrule\n",
       "0 &  1.427621 &  0.320214 \\\\\n",
       "1 &  1.240682 & -0.029790 \\\\\n",
       "2 & -1.080765 &  1.142714 \\\\\n",
       "3 & -0.916084 &  0.324658 \\\\\n",
       "4 & -0.757204 &  0.570012 \\\\\n",
       "\\bottomrule\n",
       "\\end{tabular}\n",
       "}\\end{center}"
      ],
      "text/plain": [
       "          0         1\n",
       "0  1.427621  0.320214\n",
       "1  1.240682 -0.029790\n",
       "2 -1.080765  1.142714\n",
       "3 -0.916084  0.324658\n",
       "4 -0.757204  0.570012"
      ]
     },
     "execution_count": 3,
     "metadata": {},
     "output_type": "execute_result"
    }
   ],
   "source": [
    "df1 = pd.DataFrame(data)\n",
    "df1"
   ]
  },
  {
   "cell_type": "markdown",
   "metadata": {},
   "source": [
    "The first argument of `pd.DataFrame` is the array of data, then other arguments must be given by keywords. DataFrames are handled by Jupyter Notebook and displated with nice HTML tables."
   ]
  },
  {
   "cell_type": "code",
   "execution_count": 4,
   "metadata": {
    "collapsed": false
   },
   "outputs": [
    {
     "data": {
      "text/html": [
       "<div>\n",
       "<table border=\"1\" class=\"dataframe\">\n",
       "  <thead>\n",
       "    <tr style=\"text-align: right;\">\n",
       "      <th></th>\n",
       "      <th>A</th>\n",
       "      <th>B</th>\n",
       "    </tr>\n",
       "  </thead>\n",
       "  <tbody>\n",
       "    <tr>\n",
       "      <th>Row 1</th>\n",
       "      <td>1.427621</td>\n",
       "      <td>0.320214</td>\n",
       "    </tr>\n",
       "    <tr>\n",
       "      <th>Row 2</th>\n",
       "      <td>1.240682</td>\n",
       "      <td>-0.029790</td>\n",
       "    </tr>\n",
       "    <tr>\n",
       "      <th>Row 3</th>\n",
       "      <td>-1.080765</td>\n",
       "      <td>1.142714</td>\n",
       "    </tr>\n",
       "    <tr>\n",
       "      <th>Row 4</th>\n",
       "      <td>-0.916084</td>\n",
       "      <td>0.324658</td>\n",
       "    </tr>\n",
       "    <tr>\n",
       "      <th>Row 5</th>\n",
       "      <td>-0.757204</td>\n",
       "      <td>0.570012</td>\n",
       "    </tr>\n",
       "  </tbody>\n",
       "</table>\n",
       "</div>"
      ],
      "text/latex": [
       "\\begin{center}{\\begin{tabular}{lrr}\n",
       "\\toprule\n",
       "{} &         A &         B \\\\\n",
       "\\midrule\n",
       "Row 1 &  1.427621 &  0.320214 \\\\\n",
       "Row 2 &  1.240682 & -0.029790 \\\\\n",
       "Row 3 & -1.080765 &  1.142714 \\\\\n",
       "Row 4 & -0.916084 &  0.324658 \\\\\n",
       "Row 5 & -0.757204 &  0.570012 \\\\\n",
       "\\bottomrule\n",
       "\\end{tabular}\n",
       "}\\end{center}"
      ],
      "text/plain": [
       "              A         B\n",
       "Row 1  1.427621  0.320214\n",
       "Row 2  1.240682 -0.029790\n",
       "Row 3 -1.080765  1.142714\n",
       "Row 4 -0.916084  0.324658\n",
       "Row 5 -0.757204  0.570012"
      ]
     },
     "execution_count": 4,
     "metadata": {},
     "output_type": "execute_result"
    }
   ],
   "source": [
    "n_row, n_col = data.shape\n",
    "index = ('Row {}'.format(i + 1) for i in range(n_row))\n",
    "columns = (string.ascii_uppercase[i] for i in range(n_col))\n",
    "\n",
    "df1 = pd.DataFrame(data, columns=columns, index=index)\n",
    "df1"
   ]
  },
  {
   "cell_type": "markdown",
   "metadata": {},
   "source": [
    "Data can also be loaded as key-value dictionaries where the keys are the columns and the values are arrays of the same lengths.\n",
    "\n",
    "`df.head()` is used to show the first couple rows"
   ]
  },
  {
   "cell_type": "code",
   "execution_count": 5,
   "metadata": {
    "collapsed": false
   },
   "outputs": [
    {
     "data": {
      "text/html": [
       "<div>\n",
       "<table border=\"1\" class=\"dataframe\">\n",
       "  <thead>\n",
       "    <tr style=\"text-align: right;\">\n",
       "      <th></th>\n",
       "      <th>A</th>\n",
       "      <th>B</th>\n",
       "      <th>C</th>\n",
       "    </tr>\n",
       "  </thead>\n",
       "  <tbody>\n",
       "    <tr>\n",
       "      <th>0</th>\n",
       "      <td>1.924308</td>\n",
       "      <td>0.587634</td>\n",
       "      <td>1.030674</td>\n",
       "    </tr>\n",
       "    <tr>\n",
       "      <th>1</th>\n",
       "      <td>-0.367491</td>\n",
       "      <td>0.905730</td>\n",
       "      <td>0.856806</td>\n",
       "    </tr>\n",
       "    <tr>\n",
       "      <th>2</th>\n",
       "      <td>0.755114</td>\n",
       "      <td>2.685315</td>\n",
       "      <td>2.855100</td>\n",
       "    </tr>\n",
       "    <tr>\n",
       "      <th>3</th>\n",
       "      <td>-0.446229</td>\n",
       "      <td>0.652486</td>\n",
       "      <td>0.920460</td>\n",
       "    </tr>\n",
       "    <tr>\n",
       "      <th>4</th>\n",
       "      <td>-0.098542</td>\n",
       "      <td>0.041206</td>\n",
       "      <td>0.273549</td>\n",
       "    </tr>\n",
       "  </tbody>\n",
       "</table>\n",
       "</div>"
      ],
      "text/latex": [
       "\\begin{center}{\\begin{tabular}{lrrr}\n",
       "\\toprule\n",
       "{} &         A &         B &         C \\\\\n",
       "\\midrule\n",
       "0 &  1.924308 &  0.587634 &  1.030674 \\\\\n",
       "1 & -0.367491 &  0.905730 &  0.856806 \\\\\n",
       "2 &  0.755114 &  2.685315 &  2.855100 \\\\\n",
       "3 & -0.446229 &  0.652486 &  0.920460 \\\\\n",
       "4 & -0.098542 &  0.041206 &  0.273549 \\\\\n",
       "\\bottomrule\n",
       "\\end{tabular}\n",
       "}\\end{center}"
      ],
      "text/plain": [
       "          A         B         C\n",
       "0  1.924308  0.587634  1.030674\n",
       "1 -0.367491  0.905730  0.856806\n",
       "2  0.755114  2.685315  2.855100\n",
       "3 -0.446229  0.652486  0.920460\n",
       "4 -0.098542  0.041206  0.273549"
      ]
     },
     "execution_count": 5,
     "metadata": {},
     "output_type": "execute_result"
    }
   ],
   "source": [
    "n_rows = 700\n",
    "a_data = np.random.normal(size=n_rows)\n",
    "b_data = np.random.exponential(size=n_rows)\n",
    "c_data = np.random.normal(size=n_rows, scale=0.4) + b_data\n",
    "\n",
    "data_dict = {\n",
    "    'A': a_data,\n",
    "    'B': b_data,\n",
    "    'C': c_data\n",
    "}\n",
    "\n",
    "df2 = pd.DataFrame(data_dict)\n",
    "df2.head()"
   ]
  },
  {
   "cell_type": "markdown",
   "metadata": {},
   "source": [
    "# Summarizing Data"
   ]
  },
  {
   "cell_type": "markdown",
   "metadata": {},
   "source": [
    "Some statistics can be taken quickly on a dataframe with `DataFrame.describe`"
   ]
  },
  {
   "cell_type": "code",
   "execution_count": 6,
   "metadata": {
    "collapsed": false
   },
   "outputs": [
    {
     "data": {
      "text/html": [
       "<div>\n",
       "<table border=\"1\" class=\"dataframe\">\n",
       "  <thead>\n",
       "    <tr style=\"text-align: right;\">\n",
       "      <th></th>\n",
       "      <th>A</th>\n",
       "      <th>B</th>\n",
       "      <th>C</th>\n",
       "    </tr>\n",
       "  </thead>\n",
       "  <tbody>\n",
       "    <tr>\n",
       "      <th>count</th>\n",
       "      <td>700.000000</td>\n",
       "      <td>700.000000</td>\n",
       "      <td>700.000000</td>\n",
       "    </tr>\n",
       "    <tr>\n",
       "      <th>mean</th>\n",
       "      <td>-0.142119</td>\n",
       "      <td>1.013424</td>\n",
       "      <td>1.034638</td>\n",
       "    </tr>\n",
       "    <tr>\n",
       "      <th>std</th>\n",
       "      <td>0.998623</td>\n",
       "      <td>0.970803</td>\n",
       "      <td>1.035636</td>\n",
       "    </tr>\n",
       "    <tr>\n",
       "      <th>min</th>\n",
       "      <td>-2.988590</td>\n",
       "      <td>0.001064</td>\n",
       "      <td>-0.942273</td>\n",
       "    </tr>\n",
       "    <tr>\n",
       "      <th>25%</th>\n",
       "      <td>-0.812968</td>\n",
       "      <td>0.303998</td>\n",
       "      <td>0.352326</td>\n",
       "    </tr>\n",
       "    <tr>\n",
       "      <th>50%</th>\n",
       "      <td>-0.095954</td>\n",
       "      <td>0.765065</td>\n",
       "      <td>0.839153</td>\n",
       "    </tr>\n",
       "    <tr>\n",
       "      <th>75%</th>\n",
       "      <td>0.561150</td>\n",
       "      <td>1.396272</td>\n",
       "      <td>1.446239</td>\n",
       "    </tr>\n",
       "    <tr>\n",
       "      <th>max</th>\n",
       "      <td>2.530053</td>\n",
       "      <td>7.451031</td>\n",
       "      <td>6.612465</td>\n",
       "    </tr>\n",
       "  </tbody>\n",
       "</table>\n",
       "</div>"
      ],
      "text/latex": [
       "\\begin{center}{\\begin{tabular}{lrrr}\n",
       "\\toprule\n",
       "{} &           A &           B &           C \\\\\n",
       "\\midrule\n",
       "count &  700.000000 &  700.000000 &  700.000000 \\\\\n",
       "mean  &   -0.142119 &    1.013424 &    1.034638 \\\\\n",
       "std   &    0.998623 &    0.970803 &    1.035636 \\\\\n",
       "min   &   -2.988590 &    0.001064 &   -0.942273 \\\\\n",
       "25\\%   &   -0.812968 &    0.303998 &    0.352326 \\\\\n",
       "50\\%   &   -0.095954 &    0.765065 &    0.839153 \\\\\n",
       "75\\%   &    0.561150 &    1.396272 &    1.446239 \\\\\n",
       "max   &    2.530053 &    7.451031 &    6.612465 \\\\\n",
       "\\bottomrule\n",
       "\\end{tabular}\n",
       "}\\end{center}"
      ],
      "text/plain": [
       "                A           B           C\n",
       "count  700.000000  700.000000  700.000000\n",
       "mean    -0.142119    1.013424    1.034638\n",
       "std      0.998623    0.970803    1.035636\n",
       "min     -2.988590    0.001064   -0.942273\n",
       "25%     -0.812968    0.303998    0.352326\n",
       "50%     -0.095954    0.765065    0.839153\n",
       "75%      0.561150    1.396272    1.446239\n",
       "max      2.530053    7.451031    6.612465"
      ]
     },
     "execution_count": 6,
     "metadata": {},
     "output_type": "execute_result"
    }
   ],
   "source": [
    "df2.describe()"
   ]
  },
  {
   "cell_type": "markdown",
   "metadata": {},
   "source": [
    "The distributions of each column can be quickly plotted with `matplotlib` using `DataFrame.hist`"
   ]
  },
  {
   "cell_type": "code",
   "execution_count": 7,
   "metadata": {
    "collapsed": false
   },
   "outputs": [
    {
     "data": {
      "image/png": "[encoded data removed]",
      "text/plain": [
       "<matplotlib.figure.Figure at 0x10de06ba8>"
      ]
     },
     "metadata": {},
     "output_type": "display_data"
    }
   ],
   "source": [
    "df2.hist()\n",
    "plt.show()"
   ]
  },
  {
   "cell_type": "markdown",
   "metadata": {},
   "source": [
    "The pairwise distributions of each feature can be explored with `pd.tools.plotting.scatter_matrix`. This plot uncovers the relationship between columns B and C, mainly that column C was prepared by adding gaussian noise to column B."
   ]
  },
  {
   "cell_type": "code",
   "execution_count": 8,
   "metadata": {
    "collapsed": false
   },
   "outputs": [
    {
     "data": {
      "image/png": "[encoded data removed]",
      "text/plain": [
       "<matplotlib.figure.Figure at 0x10e07e748>"
      ]
     },
     "metadata": {},
     "output_type": "display_data"
    }
   ],
   "source": [
    "pd.tools.plotting.scatter_matrix(df2)\n",
    "plt.show()"
   ]
  },
  {
   "cell_type": "markdown",
   "metadata": {},
   "source": [
    "# Accessing Data"
   ]
  },
  {
   "cell_type": "code",
   "execution_count": 9,
   "metadata": {
    "collapsed": false
   },
   "outputs": [
    {
     "data": {
      "text/plain": [
       "Row 1    1.427621\n",
       "Row 2    1.240682\n",
       "Row 3   -1.080765\n",
       "Row 4   -0.916084\n",
       "Row 5   -0.757204\n",
       "Name: A, dtype: float64"
      ]
     },
     "execution_count": 9,
     "metadata": {},
     "output_type": "execute_result"
    }
   ],
   "source": [
    "df1['A']"
   ]
  },
  {
   "cell_type": "code",
   "execution_count": 10,
   "metadata": {
    "collapsed": false
   },
   "outputs": [
    {
     "data": {
      "text/plain": [
       "Row 1     True\n",
       "Row 2     True\n",
       "Row 3    False\n",
       "Row 4    False\n",
       "Row 5    False\n",
       "Name: A, dtype: bool"
      ]
     },
     "execution_count": 10,
     "metadata": {},
     "output_type": "execute_result"
    }
   ],
   "source": [
    "condition = df1['A'] > 0.6\n",
    "condition"
   ]
  },
  {
   "cell_type": "code",
   "execution_count": 11,
   "metadata": {
    "collapsed": false
   },
   "outputs": [
    {
     "data": {
      "text/html": [
       "<div>\n",
       "<table border=\"1\" class=\"dataframe\">\n",
       "  <thead>\n",
       "    <tr style=\"text-align: right;\">\n",
       "      <th></th>\n",
       "      <th>A</th>\n",
       "      <th>B</th>\n",
       "    </tr>\n",
       "  </thead>\n",
       "  <tbody>\n",
       "    <tr>\n",
       "      <th>Row 1</th>\n",
       "      <td>1.427621</td>\n",
       "      <td>0.320214</td>\n",
       "    </tr>\n",
       "    <tr>\n",
       "      <th>Row 2</th>\n",
       "      <td>1.240682</td>\n",
       "      <td>-0.029790</td>\n",
       "    </tr>\n",
       "  </tbody>\n",
       "</table>\n",
       "</div>"
      ],
      "text/latex": [
       "\\begin{center}{\\begin{tabular}{lrr}\n",
       "\\toprule\n",
       "{} &         A &         B \\\\\n",
       "\\midrule\n",
       "Row 1 &  1.427621 &  0.320214 \\\\\n",
       "Row 2 &  1.240682 & -0.029790 \\\\\n",
       "\\bottomrule\n",
       "\\end{tabular}\n",
       "}\\end{center}"
      ],
      "text/plain": [
       "              A         B\n",
       "Row 1  1.427621  0.320214\n",
       "Row 2  1.240682 -0.029790"
      ]
     },
     "execution_count": 11,
     "metadata": {},
     "output_type": "execute_result"
    }
   ],
   "source": [
    "df1.loc[condition]"
   ]
  },
  {
   "cell_type": "code",
   "execution_count": 12,
   "metadata": {
    "collapsed": false
   },
   "outputs": [
    {
     "data": {
      "text/plain": [
       "Row 1    1.427621\n",
       "Row 2    1.240682\n",
       "Name: A, dtype: float64"
      ]
     },
     "execution_count": 12,
     "metadata": {},
     "output_type": "execute_result"
    }
   ],
   "source": [
    "df1.loc[condition, 'A']"
   ]
  },
  {
   "cell_type": "code",
   "execution_count": 13,
   "metadata": {
    "collapsed": false
   },
   "outputs": [
    {
     "data": {
      "text/html": [
       "<div>\n",
       "<table border=\"1\" class=\"dataframe\">\n",
       "  <thead>\n",
       "    <tr style=\"text-align: right;\">\n",
       "      <th></th>\n",
       "      <th>A</th>\n",
       "      <th>B</th>\n",
       "    </tr>\n",
       "  </thead>\n",
       "  <tbody>\n",
       "    <tr>\n",
       "      <th>Row 1</th>\n",
       "      <td>1.427621</td>\n",
       "      <td>0.320214</td>\n",
       "    </tr>\n",
       "    <tr>\n",
       "      <th>Row 2</th>\n",
       "      <td>1.240682</td>\n",
       "      <td>-0.029790</td>\n",
       "    </tr>\n",
       "  </tbody>\n",
       "</table>\n",
       "</div>"
      ],
      "text/latex": [
       "\\begin{center}{\\begin{tabular}{lrr}\n",
       "\\toprule\n",
       "{} &         A &         B \\\\\n",
       "\\midrule\n",
       "Row 1 &  1.427621 &  0.320214 \\\\\n",
       "Row 2 &  1.240682 & -0.029790 \\\\\n",
       "\\bottomrule\n",
       "\\end{tabular}\n",
       "}\\end{center}"
      ],
      "text/plain": [
       "              A         B\n",
       "Row 1  1.427621  0.320214\n",
       "Row 2  1.240682 -0.029790"
      ]
     },
     "execution_count": 13,
     "metadata": {},
     "output_type": "execute_result"
    }
   ],
   "source": [
    "df1.loc[condition, ['A', 'B']]"
   ]
  },
  {
   "cell_type": "code",
   "execution_count": 14,
   "metadata": {
    "collapsed": false
   },
   "outputs": [
    {
     "data": {
      "text/plain": [
       "A    1.427621\n",
       "B    0.320214\n",
       "Name: Row 1, dtype: float64"
      ]
     },
     "execution_count": 14,
     "metadata": {},
     "output_type": "execute_result"
    }
   ],
   "source": [
    "df1.iloc[0]"
   ]
  },
  {
   "cell_type": "code",
   "execution_count": 15,
   "metadata": {
    "collapsed": false
   },
   "outputs": [
    {
     "data": {
      "text/html": [
       "<div>\n",
       "<table border=\"1\" class=\"dataframe\">\n",
       "  <thead>\n",
       "    <tr style=\"text-align: right;\">\n",
       "      <th></th>\n",
       "      <th>A</th>\n",
       "      <th>B</th>\n",
       "    </tr>\n",
       "  </thead>\n",
       "  <tbody>\n",
       "    <tr>\n",
       "      <th>Row 1</th>\n",
       "      <td>1.427621</td>\n",
       "      <td>0.320214</td>\n",
       "    </tr>\n",
       "    <tr>\n",
       "      <th>Row 2</th>\n",
       "      <td>1.240682</td>\n",
       "      <td>-0.029790</td>\n",
       "    </tr>\n",
       "  </tbody>\n",
       "</table>\n",
       "</div>"
      ],
      "text/latex": [
       "\\begin{center}{\\begin{tabular}{lrr}\n",
       "\\toprule\n",
       "{} &         A &         B \\\\\n",
       "\\midrule\n",
       "Row 1 &  1.427621 &  0.320214 \\\\\n",
       "Row 2 &  1.240682 & -0.029790 \\\\\n",
       "\\bottomrule\n",
       "\\end{tabular}\n",
       "}\\end{center}"
      ],
      "text/plain": [
       "              A         B\n",
       "Row 1  1.427621  0.320214\n",
       "Row 2  1.240682 -0.029790"
      ]
     },
     "execution_count": 15,
     "metadata": {},
     "output_type": "execute_result"
    }
   ],
   "source": [
    "df1.iloc[[0, 1]]"
   ]
  },
  {
   "cell_type": "code",
   "execution_count": 16,
   "metadata": {
    "collapsed": false
   },
   "outputs": [
    {
     "data": {
      "text/html": [
       "<div>\n",
       "<table border=\"1\" class=\"dataframe\">\n",
       "  <thead>\n",
       "    <tr style=\"text-align: right;\">\n",
       "      <th></th>\n",
       "      <th>A</th>\n",
       "      <th>B</th>\n",
       "    </tr>\n",
       "  </thead>\n",
       "  <tbody>\n",
       "    <tr>\n",
       "      <th>Row 1</th>\n",
       "      <td>1.427621</td>\n",
       "      <td>0.320214</td>\n",
       "    </tr>\n",
       "    <tr>\n",
       "      <th>Row 2</th>\n",
       "      <td>1.240682</td>\n",
       "      <td>-0.029790</td>\n",
       "    </tr>\n",
       "  </tbody>\n",
       "</table>\n",
       "</div>"
      ],
      "text/latex": [
       "\\begin{center}{\\begin{tabular}{lrr}\n",
       "\\toprule\n",
       "{} &         A &         B \\\\\n",
       "\\midrule\n",
       "Row 1 &  1.427621 &  0.320214 \\\\\n",
       "Row 2 &  1.240682 & -0.029790 \\\\\n",
       "\\bottomrule\n",
       "\\end{tabular}\n",
       "}\\end{center}"
      ],
      "text/plain": [
       "              A         B\n",
       "Row 1  1.427621  0.320214\n",
       "Row 2  1.240682 -0.029790"
      ]
     },
     "execution_count": 16,
     "metadata": {},
     "output_type": "execute_result"
    }
   ],
   "source": [
    "df1.iloc[range(2)]"
   ]
  },
  {
   "cell_type": "markdown",
   "metadata": {},
   "source": [
    "# Analyzing Data"
   ]
  },
  {
   "cell_type": "code",
   "execution_count": 21,
   "metadata": {
    "collapsed": false
   },
   "outputs": [
    {
     "data": {
      "text/plain": [
       "0    False\n",
       "1    False\n",
       "2    False\n",
       "3    False\n",
       "4    False\n",
       "Name: A, dtype: bool"
      ]
     },
     "execution_count": 21,
     "metadata": {},
     "output_type": "execute_result"
    }
   ],
   "source": [
    "condition = df2['A'] > 2\n",
    "condition.head()"
   ]
  },
  {
   "cell_type": "code",
   "execution_count": 22,
   "metadata": {
    "collapsed": false
   },
   "outputs": [
    {
     "data": {
      "text/plain": [
       "6"
      ]
     },
     "execution_count": 22,
     "metadata": {},
     "output_type": "execute_result"
    }
   ],
   "source": [
    "condition.sum()"
   ]
  },
  {
   "cell_type": "code",
   "execution_count": 37,
   "metadata": {
    "collapsed": false
   },
   "outputs": [
    {
     "data": {
      "text/plain": [
       "(0.809119581003785,\n",
       " 0.4316922982547915,\n",
       " 0.15194349141350916,\n",
       " 1.3961292942484822)"
      ]
     },
     "execution_count": 37,
     "metadata": {},
     "output_type": "execute_result"
    }
   ],
   "source": [
    "sliced = df2.loc[condition, 'B']\n",
    "\n",
    "sliced.mean(), sliced.std(), sliced.min(), sliced.max()"
   ]
  },
  {
   "cell_type": "code",
   "execution_count": 38,
   "metadata": {
    "collapsed": false
   },
   "outputs": [
    {
     "data": {
      "text/plain": [
       "0.01    0.169447\n",
       "0.05    0.239459\n",
       "0.95    1.302545\n",
       "0.99    1.377412\n",
       "Name: B, dtype: float64"
      ]
     },
     "execution_count": 38,
     "metadata": {},
     "output_type": "execute_result"
    }
   ],
   "source": [
    "sliced.quantile([0.01, 0.05, 0.95, 0.99])"
   ]
  },
  {
   "cell_type": "code",
   "execution_count": 35,
   "metadata": {
    "collapsed": false
   },
   "outputs": [
    {
     "data": {
      "text/plain": [
       "count    6.000000\n",
       "mean     0.809120\n",
       "std      0.431692\n",
       "min      0.151943\n",
       "25%      0.591005\n",
       "50%      0.891425\n",
       "75%      0.997553\n",
       "max      1.396129\n",
       "Name: B, dtype: float64"
      ]
     },
     "execution_count": 35,
     "metadata": {},
     "output_type": "execute_result"
    }
   ],
   "source": [
    "sliced.describe()"
   ]
  }
 ],
 "metadata": {
  "kernelspec": {
   "display_name": "Python 3",
   "language": "python",
   "name": "python3"
  },
  "language_info": {
   "codemirror_mode": {
    "name": "ipython",
    "version": 3
   },
   "file_extension": ".py",
   "mimetype": "text/x-python",
   "name": "python",
   "nbconvert_exporter": "python",
   "pygments_lexer": "ipython3",
   "version": "3.5.2"
  }
 },
 "nbformat": 4,
 "nbformat_minor": 1
}
