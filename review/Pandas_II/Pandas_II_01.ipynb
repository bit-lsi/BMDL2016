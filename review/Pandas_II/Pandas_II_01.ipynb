{
 "cells": [
  {
   "cell_type": "markdown",
   "metadata": {},
   "source": [
    "<a name='top'></a>\n",
    "# Python pandas "
   ]
  },
  {
   "cell_type": "code",
   "execution_count": 2,
   "metadata": {
    "collapsed": false
   },
   "outputs": [],
   "source": [
    "# conventional way to import pandas\n",
    "import pandas as pd\n",
    "import os\n",
    "myDataFolder=os.path.join(os.environ['BUG_FREE_EUREKA_BASE'],'data','exercise05')+os.sep\n",
    "%matplotlib inline"
   ]
  },
  {
   "cell_type": "markdown",
   "metadata": {},
   "source": [
    "## How do I read a tabular data file into pandas?"
   ]
  },
  {
   "cell_type": "code",
   "execution_count": 3,
   "metadata": {
    "collapsed": true
   },
   "outputs": [],
   "source": [
    "# read a dataset of BEL (Biological Expression Language) nodes into a dataframe\n",
    "pathToFile = os.path.join(myDataFolder,'nodes_in_Alzheimer_BEL_disease_network.tsv')"
   ]
  },
  {
   "cell_type": "markdown",
   "metadata": {},
   "source": [
    "read the data"
   ]
  },
  {
   "cell_type": "code",
   "execution_count": 4,
   "metadata": {
    "collapsed": false
   },
   "outputs": [],
   "source": [
    "df = pd.read_table(pathToFile)"
   ]
  },
  {
   "cell_type": "markdown",
   "metadata": {},
   "source": [
    "Pandas documentation for [**`read_table`**](http://pandas.pydata.org/pandas-docs/stable/generated/pandas.read_table.html)"
   ]
  },
  {
   "cell_type": "markdown",
   "metadata": {},
   "source": [
    "It's always smart to get a first impression what in the table/dataFrame by size (number of elements), shape (dimensions), head and describe"
   ]
  },
  {
   "cell_type": "code",
   "execution_count": 5,
   "metadata": {
    "collapsed": false
   },
   "outputs": [
    {
     "data": {
      "text/plain": [
       "(166978, (11927, 14))"
      ]
     },
     "execution_count": 5,
     "metadata": {},
     "output_type": "execute_result"
    }
   ],
   "source": [
    "df.size,df.shape"
   ]
  },
  {
   "cell_type": "code",
   "execution_count": 6,
   "metadata": {
    "collapsed": false
   },
   "outputs": [
    {
     "data": {
      "text/html": [
       "<div>\n",
       "<table border=\"1\" class=\"dataframe\">\n",
       "  <thead>\n",
       "    <tr style=\"text-align: right;\">\n",
       "      <th></th>\n",
       "      <th>node_id</th>\n",
       "      <th>BEL</th>\n",
       "      <th>aminoacid_Code_1</th>\n",
       "      <th>aminoacid_Code_2</th>\n",
       "      <th>function</th>\n",
       "      <th>list</th>\n",
       "      <th>modification</th>\n",
       "      <th>namespace</th>\n",
       "      <th>node_id.1</th>\n",
       "      <th>p_modType</th>\n",
       "      <th>position</th>\n",
       "      <th>undefined_namespace</th>\n",
       "      <th>valid_NSV</th>\n",
       "      <th>value</th>\n",
       "    </tr>\n",
       "  </thead>\n",
       "  <tbody>\n",
       "    <tr>\n",
       "      <th>0</th>\n",
       "      <td>1</td>\n",
       "      <td>a(CHEBI:\"gamma-secretase inhibitor\")</td>\n",
       "      <td>NaN</td>\n",
       "      <td>NaN</td>\n",
       "      <td>a</td>\n",
       "      <td>NaN</td>\n",
       "      <td>NaN</td>\n",
       "      <td>CHEBI</td>\n",
       "      <td>1</td>\n",
       "      <td>NaN</td>\n",
       "      <td>NaN</td>\n",
       "      <td>NaN</td>\n",
       "      <td>NaN</td>\n",
       "      <td>gamma-secretase inhibitor</td>\n",
       "    </tr>\n",
       "    <tr>\n",
       "      <th>1</th>\n",
       "      <td>2</td>\n",
       "      <td>complex(SCOMP:\"gamma Secretase Complex\")</td>\n",
       "      <td>NaN</td>\n",
       "      <td>NaN</td>\n",
       "      <td>complex</td>\n",
       "      <td>NaN</td>\n",
       "      <td>NaN</td>\n",
       "      <td>SCOMP</td>\n",
       "      <td>2</td>\n",
       "      <td>NaN</td>\n",
       "      <td>NaN</td>\n",
       "      <td>NaN</td>\n",
       "      <td>NaN</td>\n",
       "      <td>\"gamma Secretase Complex\"</td>\n",
       "    </tr>\n",
       "    <tr>\n",
       "      <th>2</th>\n",
       "      <td>3</td>\n",
       "      <td>p(HGNC:\"BACE1\")</td>\n",
       "      <td>NaN</td>\n",
       "      <td>NaN</td>\n",
       "      <td>p</td>\n",
       "      <td>NaN</td>\n",
       "      <td>NaN</td>\n",
       "      <td>HGNC</td>\n",
       "      <td>3</td>\n",
       "      <td>NaN</td>\n",
       "      <td>NaN</td>\n",
       "      <td>NaN</td>\n",
       "      <td>True</td>\n",
       "      <td>BACE1</td>\n",
       "    </tr>\n",
       "    <tr>\n",
       "      <th>3</th>\n",
       "      <td>4</td>\n",
       "      <td>reaction(reactants(p(HGNC:APP)),products(a(ADO...</td>\n",
       "      <td>NaN</td>\n",
       "      <td>NaN</td>\n",
       "      <td>reaction</td>\n",
       "      <td>NaN</td>\n",
       "      <td>NaN</td>\n",
       "      <td>NaN</td>\n",
       "      <td>4</td>\n",
       "      <td>NaN</td>\n",
       "      <td>NaN</td>\n",
       "      <td>NaN</td>\n",
       "      <td>NaN</td>\n",
       "      <td>NaN</td>\n",
       "    </tr>\n",
       "    <tr>\n",
       "      <th>4</th>\n",
       "      <td>5</td>\n",
       "      <td>p(HGNC:\"APP\")</td>\n",
       "      <td>NaN</td>\n",
       "      <td>NaN</td>\n",
       "      <td>p</td>\n",
       "      <td>NaN</td>\n",
       "      <td>NaN</td>\n",
       "      <td>HGNC</td>\n",
       "      <td>5</td>\n",
       "      <td>NaN</td>\n",
       "      <td>NaN</td>\n",
       "      <td>NaN</td>\n",
       "      <td>True</td>\n",
       "      <td>APP</td>\n",
       "    </tr>\n",
       "    <tr>\n",
       "      <th>5</th>\n",
       "      <td>6</td>\n",
       "      <td>a(ADO:\"Abeta_42\")</td>\n",
       "      <td>NaN</td>\n",
       "      <td>NaN</td>\n",
       "      <td>a</td>\n",
       "      <td>NaN</td>\n",
       "      <td>NaN</td>\n",
       "      <td>ADO</td>\n",
       "      <td>6</td>\n",
       "      <td>NaN</td>\n",
       "      <td>NaN</td>\n",
       "      <td>NaN</td>\n",
       "      <td>True</td>\n",
       "      <td>Abeta_42</td>\n",
       "    </tr>\n",
       "    <tr>\n",
       "      <th>6</th>\n",
       "      <td>7</td>\n",
       "      <td>path(MESHD:\"Alzheimer Disease\")</td>\n",
       "      <td>NaN</td>\n",
       "      <td>NaN</td>\n",
       "      <td>path</td>\n",
       "      <td>NaN</td>\n",
       "      <td>NaN</td>\n",
       "      <td>MESHD</td>\n",
       "      <td>7</td>\n",
       "      <td>NaN</td>\n",
       "      <td>NaN</td>\n",
       "      <td>NaN</td>\n",
       "      <td>True</td>\n",
       "      <td>Alzheimer Disease</td>\n",
       "    </tr>\n",
       "    <tr>\n",
       "      <th>7</th>\n",
       "      <td>8</td>\n",
       "      <td>p(HGNC:\"CLSTN1\")</td>\n",
       "      <td>NaN</td>\n",
       "      <td>NaN</td>\n",
       "      <td>p</td>\n",
       "      <td>NaN</td>\n",
       "      <td>NaN</td>\n",
       "      <td>HGNC</td>\n",
       "      <td>8</td>\n",
       "      <td>NaN</td>\n",
       "      <td>NaN</td>\n",
       "      <td>NaN</td>\n",
       "      <td>True</td>\n",
       "      <td>CLSTN1</td>\n",
       "    </tr>\n",
       "    <tr>\n",
       "      <th>8</th>\n",
       "      <td>9</td>\n",
       "      <td>complex(p(HGNC:CLSTN1),p(HGNC:KLC1))</td>\n",
       "      <td>NaN</td>\n",
       "      <td>NaN</td>\n",
       "      <td>complex</td>\n",
       "      <td>True</td>\n",
       "      <td>NaN</td>\n",
       "      <td>NaN</td>\n",
       "      <td>9</td>\n",
       "      <td>NaN</td>\n",
       "      <td>NaN</td>\n",
       "      <td>NaN</td>\n",
       "      <td>NaN</td>\n",
       "      <td>NaN</td>\n",
       "    </tr>\n",
       "    <tr>\n",
       "      <th>9</th>\n",
       "      <td>10</td>\n",
       "      <td>p(HGNC:\"KLC1\")</td>\n",
       "      <td>NaN</td>\n",
       "      <td>NaN</td>\n",
       "      <td>p</td>\n",
       "      <td>NaN</td>\n",
       "      <td>NaN</td>\n",
       "      <td>HGNC</td>\n",
       "      <td>10</td>\n",
       "      <td>NaN</td>\n",
       "      <td>NaN</td>\n",
       "      <td>NaN</td>\n",
       "      <td>True</td>\n",
       "      <td>KLC1</td>\n",
       "    </tr>\n",
       "  </tbody>\n",
       "</table>\n",
       "</div>"
      ],
      "text/plain": [
       "   node_id                                                BEL  \\\n",
       "0        1               a(CHEBI:\"gamma-secretase inhibitor\")   \n",
       "1        2           complex(SCOMP:\"gamma Secretase Complex\")   \n",
       "2        3                                    p(HGNC:\"BACE1\")   \n",
       "3        4  reaction(reactants(p(HGNC:APP)),products(a(ADO...   \n",
       "4        5                                      p(HGNC:\"APP\")   \n",
       "5        6                                  a(ADO:\"Abeta_42\")   \n",
       "6        7                    path(MESHD:\"Alzheimer Disease\")   \n",
       "7        8                                   p(HGNC:\"CLSTN1\")   \n",
       "8        9               complex(p(HGNC:CLSTN1),p(HGNC:KLC1))   \n",
       "9       10                                     p(HGNC:\"KLC1\")   \n",
       "\n",
       "  aminoacid_Code_1 aminoacid_Code_2  function  list modification namespace  \\\n",
       "0              NaN              NaN         a   NaN          NaN     CHEBI   \n",
       "1              NaN              NaN   complex   NaN          NaN     SCOMP   \n",
       "2              NaN              NaN         p   NaN          NaN      HGNC   \n",
       "3              NaN              NaN  reaction   NaN          NaN       NaN   \n",
       "4              NaN              NaN         p   NaN          NaN      HGNC   \n",
       "5              NaN              NaN         a   NaN          NaN       ADO   \n",
       "6              NaN              NaN      path   NaN          NaN     MESHD   \n",
       "7              NaN              NaN         p   NaN          NaN      HGNC   \n",
       "8              NaN              NaN   complex  True          NaN       NaN   \n",
       "9              NaN              NaN         p   NaN          NaN      HGNC   \n",
       "\n",
       "   node_id.1 p_modType  position undefined_namespace valid_NSV  \\\n",
       "0          1       NaN       NaN                 NaN       NaN   \n",
       "1          2       NaN       NaN                 NaN       NaN   \n",
       "2          3       NaN       NaN                 NaN      True   \n",
       "3          4       NaN       NaN                 NaN       NaN   \n",
       "4          5       NaN       NaN                 NaN      True   \n",
       "5          6       NaN       NaN                 NaN      True   \n",
       "6          7       NaN       NaN                 NaN      True   \n",
       "7          8       NaN       NaN                 NaN      True   \n",
       "8          9       NaN       NaN                 NaN       NaN   \n",
       "9         10       NaN       NaN                 NaN      True   \n",
       "\n",
       "                       value  \n",
       "0  gamma-secretase inhibitor  \n",
       "1  \"gamma Secretase Complex\"  \n",
       "2                      BACE1  \n",
       "3                        NaN  \n",
       "4                        APP  \n",
       "5                   Abeta_42  \n",
       "6          Alzheimer Disease  \n",
       "7                     CLSTN1  \n",
       "8                        NaN  \n",
       "9                       KLC1  "
      ]
     },
     "execution_count": 6,
     "metadata": {},
     "output_type": "execute_result"
    }
   ],
   "source": [
    "# examine the first 10 rows\n",
    "df.head(10)"
   ]
  },
  {
   "cell_type": "markdown",
   "metadata": {},
   "source": [
    "We already see here that the first columns looks useless because we have already an index. But first let's check all column names"
   ]
  },
  {
   "cell_type": "code",
   "execution_count": 7,
   "metadata": {
    "collapsed": false
   },
   "outputs": [
    {
     "data": {
      "text/plain": [
       "Index(['node_id', 'BEL', 'aminoacid_Code_1', 'aminoacid_Code_2', 'function',\n",
       "       'list', 'modification', 'namespace', 'node_id.1', 'p_modType',\n",
       "       'position', 'undefined_namespace', 'valid_NSV', 'value'],\n",
       "      dtype='object')"
      ]
     },
     "execution_count": 7,
     "metadata": {},
     "output_type": "execute_result"
    }
   ],
   "source": [
    "df.columns"
   ]
  },
  {
   "cell_type": "markdown",
   "metadata": {},
   "source": [
    "Let's set the `index_id`"
   ]
  },
  {
   "cell_type": "code",
   "execution_count": 8,
   "metadata": {
    "collapsed": true
   },
   "outputs": [],
   "source": [
    "df.set_index('node_id', inplace=True)"
   ]
  },
  {
   "cell_type": "markdown",
   "metadata": {},
   "source": [
    "Let's check that with `columns`"
   ]
  },
  {
   "cell_type": "code",
   "execution_count": 9,
   "metadata": {
    "collapsed": false
   },
   "outputs": [
    {
     "data": {
      "text/plain": [
       "Index(['BEL', 'aminoacid_Code_1', 'aminoacid_Code_2', 'function', 'list',\n",
       "       'modification', 'namespace', 'node_id.1', 'p_modType', 'position',\n",
       "       'undefined_namespace', 'valid_NSV', 'value'],\n",
       "      dtype='object')"
      ]
     },
     "execution_count": 9,
     "metadata": {},
     "output_type": "execute_result"
    }
   ],
   "source": [
    "df.columns"
   ]
  },
  {
   "cell_type": "markdown",
   "metadata": {},
   "source": [
    "Let's change also the order of the columns because most interesting should be left."
   ]
  },
  {
   "cell_type": "code",
   "execution_count": 10,
   "metadata": {
    "collapsed": false
   },
   "outputs": [],
   "source": [
    "df = df[['BEL', 'function', 'namespace', 'value', 'valid_NSV', \n",
    "       'aminoacid_Code_2', 'aminoacid_Code_1', 'undefined_namespace',  \n",
    "       'modification', 'p_modType', 'list', 'position']].copy(deep=True)\n",
    "# deep copy because later we have problems to change our data frame"
   ]
  },
  {
   "cell_type": "code",
   "execution_count": 11,
   "metadata": {
    "collapsed": false
   },
   "outputs": [
    {
     "data": {
      "text/html": [
       "<div>\n",
       "<table border=\"1\" class=\"dataframe\">\n",
       "  <thead>\n",
       "    <tr style=\"text-align: right;\">\n",
       "      <th></th>\n",
       "      <th>BEL</th>\n",
       "      <th>function</th>\n",
       "      <th>namespace</th>\n",
       "      <th>value</th>\n",
       "      <th>valid_NSV</th>\n",
       "      <th>aminoacid_Code_2</th>\n",
       "      <th>aminoacid_Code_1</th>\n",
       "      <th>undefined_namespace</th>\n",
       "      <th>modification</th>\n",
       "      <th>p_modType</th>\n",
       "      <th>list</th>\n",
       "      <th>position</th>\n",
       "    </tr>\n",
       "    <tr>\n",
       "      <th>node_id</th>\n",
       "      <th></th>\n",
       "      <th></th>\n",
       "      <th></th>\n",
       "      <th></th>\n",
       "      <th></th>\n",
       "      <th></th>\n",
       "      <th></th>\n",
       "      <th></th>\n",
       "      <th></th>\n",
       "      <th></th>\n",
       "      <th></th>\n",
       "      <th></th>\n",
       "    </tr>\n",
       "  </thead>\n",
       "  <tbody>\n",
       "    <tr>\n",
       "      <th>1</th>\n",
       "      <td>a(CHEBI:\"gamma-secretase inhibitor\")</td>\n",
       "      <td>a</td>\n",
       "      <td>CHEBI</td>\n",
       "      <td>gamma-secretase inhibitor</td>\n",
       "      <td>NaN</td>\n",
       "      <td>NaN</td>\n",
       "      <td>NaN</td>\n",
       "      <td>NaN</td>\n",
       "      <td>NaN</td>\n",
       "      <td>NaN</td>\n",
       "      <td>NaN</td>\n",
       "      <td>NaN</td>\n",
       "    </tr>\n",
       "  </tbody>\n",
       "</table>\n",
       "</div>"
      ],
      "text/plain": [
       "                                          BEL function namespace  \\\n",
       "node_id                                                            \n",
       "1        a(CHEBI:\"gamma-secretase inhibitor\")        a     CHEBI   \n",
       "\n",
       "                             value valid_NSV aminoacid_Code_2  \\\n",
       "node_id                                                         \n",
       "1        gamma-secretase inhibitor       NaN              NaN   \n",
       "\n",
       "        aminoacid_Code_1 undefined_namespace modification p_modType list  \\\n",
       "node_id                                                                    \n",
       "1                    NaN                 NaN          NaN       NaN  NaN   \n",
       "\n",
       "         position  \n",
       "node_id            \n",
       "1             NaN  "
      ]
     },
     "execution_count": 11,
     "metadata": {},
     "output_type": "execute_result"
    }
   ],
   "source": [
    "df.head(1)"
   ]
  },
  {
   "cell_type": "markdown",
   "metadata": {},
   "source": [
    "We saw in a session before that `describe` gives us usefull information. That works here also?"
   ]
  },
  {
   "cell_type": "code",
   "execution_count": 12,
   "metadata": {
    "collapsed": false
   },
   "outputs": [
    {
     "name": "stderr",
     "output_type": "stream",
     "text": [
      "/home/ceb/projects/pybel/virtualenvs/pybel_0.1_py3/lib/python3.5/site-packages/numpy/lib/function_base.py:3834: RuntimeWarning: Invalid value encountered in percentile\n",
      "  RuntimeWarning)\n"
     ]
    },
    {
     "data": {
      "text/html": [
       "<div>\n",
       "<table border=\"1\" class=\"dataframe\">\n",
       "  <thead>\n",
       "    <tr style=\"text-align: right;\">\n",
       "      <th></th>\n",
       "      <th>position</th>\n",
       "    </tr>\n",
       "  </thead>\n",
       "  <tbody>\n",
       "    <tr>\n",
       "      <th>count</th>\n",
       "      <td>130.000000</td>\n",
       "    </tr>\n",
       "    <tr>\n",
       "      <th>mean</th>\n",
       "      <td>2595.946154</td>\n",
       "    </tr>\n",
       "    <tr>\n",
       "      <th>std</th>\n",
       "      <td>24114.045581</td>\n",
       "    </tr>\n",
       "    <tr>\n",
       "      <th>min</th>\n",
       "      <td>4.000000</td>\n",
       "    </tr>\n",
       "    <tr>\n",
       "      <th>25%</th>\n",
       "      <td>NaN</td>\n",
       "    </tr>\n",
       "    <tr>\n",
       "      <th>50%</th>\n",
       "      <td>NaN</td>\n",
       "    </tr>\n",
       "    <tr>\n",
       "      <th>75%</th>\n",
       "      <td>NaN</td>\n",
       "    </tr>\n",
       "    <tr>\n",
       "      <th>max</th>\n",
       "      <td>275341.000000</td>\n",
       "    </tr>\n",
       "  </tbody>\n",
       "</table>\n",
       "</div>"
      ],
      "text/plain": [
       "            position\n",
       "count     130.000000\n",
       "mean     2595.946154\n",
       "std     24114.045581\n",
       "min         4.000000\n",
       "25%              NaN\n",
       "50%              NaN\n",
       "75%              NaN\n",
       "max    275341.000000"
      ]
     },
     "execution_count": 12,
     "metadata": {},
     "output_type": "execute_result"
    }
   ],
   "source": [
    "df.describe()"
   ]
  },
  {
   "cell_type": "markdown",
   "metadata": {},
   "source": [
    "That looks not so good. Why that happens? Most of the columns are text and the one with integers have a lot of NaN (not a number). The category datatype make perhaps sense here. Do it later."
   ]
  },
  {
   "cell_type": "markdown",
   "metadata": {},
   "source": [
    "## How do I select a pandas Series from a DataFrame?"
   ]
  },
  {
   "cell_type": "code",
   "execution_count": 13,
   "metadata": {
    "collapsed": false
   },
   "outputs": [
    {
     "data": {
      "text/plain": [
       "node_id\n",
       "1            CHEBI\n",
       "2            SCOMP\n",
       "3             HGNC\n",
       "4              NaN\n",
       "5             HGNC\n",
       "6              ADO\n",
       "7            MESHD\n",
       "8             HGNC\n",
       "9              NaN\n",
       "10            HGNC\n",
       "11          MESHPP\n",
       "12             NaN\n",
       "13            HGNC\n",
       "14            HGNC\n",
       "15            HGNC\n",
       "16            HGNC\n",
       "17             NaN\n",
       "18             ADO\n",
       "19           CHEBI\n",
       "20           CHEBI\n",
       "21           CHEBI\n",
       "22           CHEBI\n",
       "23           CHEBI\n",
       "24            HGNC\n",
       "25            HGNC\n",
       "26             NaN\n",
       "27            HGNC\n",
       "28            HGNC\n",
       "29            HGNC\n",
       "30            HGNC\n",
       "           ...    \n",
       "11898         HGNC\n",
       "11899         NIFT\n",
       "11900        dbSNP\n",
       "11901         NIFT\n",
       "11902         NIFT\n",
       "11903         GOBP\n",
       "11904         NIFT\n",
       "11905        dbSNP\n",
       "11906        dbSNP\n",
       "11907         HGNC\n",
       "11908         NIFT\n",
       "11909         NIFT\n",
       "11910          NaN\n",
       "11911    UNDEFINED\n",
       "11912         BRCO\n",
       "11913          NaN\n",
       "11914         HGNC\n",
       "11915         NIFT\n",
       "11916         NIFT\n",
       "11917        dbSNP\n",
       "11918         NIFT\n",
       "11919         NIFT\n",
       "11920         NIFT\n",
       "11921         HGNC\n",
       "11922        dbSNP\n",
       "11923         NIFT\n",
       "11924        dbSNP\n",
       "11925         HGNC\n",
       "11926          NaN\n",
       "11927         NIFT\n",
       "Name: namespace, dtype: object"
      ]
     },
     "execution_count": 13,
     "metadata": {},
     "output_type": "execute_result"
    }
   ],
   "source": [
    "# select the 'namespace' Series using bracket notation\n",
    "df['namespace']\n",
    "\n",
    "# or equivalently, use dot notation, \n",
    "df.namespace"
   ]
  },
  {
   "cell_type": "markdown",
   "metadata": {},
   "source": [
    "**Bracket notation** will always work, whereas **dot notation** has limitations:\n",
    "\n",
    "- Dot notation doesn't work if there are **spaces** in the Series name\n",
    "- Dot notation doesn't work if the Series has the same name as a **DataFrame method or attribute** (like 'head' or 'shape')\n",
    "- Dot notation can't be used to define the name of a **new Series** (see below)"
   ]
  },
  {
   "cell_type": "markdown",
   "metadata": {},
   "source": [
    "Check the results: many repetitions. Let's analyse that."
   ]
  },
  {
   "cell_type": "code",
   "execution_count": 14,
   "metadata": {
    "collapsed": false
   },
   "outputs": [
    {
     "data": {
      "text/plain": [
       "HGNC         7636\n",
       "MGI          1079\n",
       "RGD           636\n",
       "GOBP          612\n",
       "CHEBI         339\n",
       "UNDEFINED     296\n",
       "dbSNP         161\n",
       "MESHD         124\n",
       "SCHEM          79\n",
       "SFAM           78\n",
       "PMIBP          32\n",
       "MESHPP         26\n",
       "GOCC           25\n",
       "PMICHEM        21\n",
       "NIFT           20\n",
       "ADO            15\n",
       "PTS            14\n",
       "SCOMP           9\n",
       "BRCO            9\n",
       "PMIPFAM         5\n",
       "CHEBIID         5\n",
       "MESHCS          4\n",
       "SDIS            3\n",
       "CHEMBL          3\n",
       "PMIDIS          2\n",
       "PMICOMP         2\n",
       "Name: namespace, dtype: int64"
      ]
     },
     "execution_count": 14,
     "metadata": {},
     "output_type": "execute_result"
    }
   ],
   "source": [
    "namespace_distribution = df.namespace.value_counts()\n",
    "namespace_distribution"
   ]
  },
  {
   "cell_type": "markdown",
   "metadata": {},
   "source": [
    "## How do I plot my results?"
   ]
  },
  {
   "cell_type": "markdown",
   "metadata": {},
   "source": [
    "plot this as bar plot"
   ]
  },
  {
   "cell_type": "code",
   "execution_count": 15,
   "metadata": {
    "collapsed": false
   },
   "outputs": [
    {
     "name": "stdout",
     "output_type": "stream",
     "text": [
      "<class 'pandas.core.series.Series'>\n"
     ]
    },
    {
     "data": {
      "image/png": "[encoded data removed]",
      "text/plain": [
       "<matplotlib.figure.Figure at 0x7f2ac6ac30b8>"
      ]
     },
     "metadata": {},
     "output_type": "display_data"
    }
   ],
   "source": [
    "namespace_distribution.plot(kind='bar')\n",
    "print(type(namespace_distribution))"
   ]
  },
  {
   "cell_type": "code",
   "execution_count": 16,
   "metadata": {
    "collapsed": false
   },
   "outputs": [
    {
     "data": {
      "text/plain": [
       "<matplotlib.axes._subplots.AxesSubplot at 0x7f2ac6995ef0>"
      ]
     },
     "execution_count": 16,
     "metadata": {},
     "output_type": "execute_result"
    },
    {
     "data": {
      "image/png": "[encoded data removed]",
      "text/plain": [
       "<matplotlib.figure.Figure at 0x7f2ac692fcc0>"
      ]
     },
     "metadata": {},
     "output_type": "display_data"
    }
   ],
   "source": [
    "namespace_distribution.plot(kind='pie',figsize=(6,6))"
   ]
  },
  {
   "cell_type": "markdown",
   "metadata": {},
   "source": [
    "## How do I create new columns?"
   ]
  },
  {
   "cell_type": "markdown",
   "metadata": {},
   "source": [
    "Let's create a new 'simpleBEL' Series with a simple BEL object name in the schema `function(namespace:value)`."
   ]
  },
  {
   "cell_type": "code",
   "execution_count": 17,
   "metadata": {
    "collapsed": false,
    "scrolled": true
   },
   "outputs": [
    {
     "data": {
      "text/html": [
       "<div>\n",
       "<table border=\"1\" class=\"dataframe\">\n",
       "  <thead>\n",
       "    <tr style=\"text-align: right;\">\n",
       "      <th></th>\n",
       "      <th>BEL</th>\n",
       "      <th>simpleBEL</th>\n",
       "    </tr>\n",
       "    <tr>\n",
       "      <th>node_id</th>\n",
       "      <th></th>\n",
       "      <th></th>\n",
       "    </tr>\n",
       "  </thead>\n",
       "  <tbody>\n",
       "    <tr>\n",
       "      <th>1</th>\n",
       "      <td>a(CHEBI:\"gamma-secretase inhibitor\")</td>\n",
       "      <td>a(CHEBI:\"gamma-secretase inhibitor\")</td>\n",
       "    </tr>\n",
       "  </tbody>\n",
       "</table>\n",
       "</div>"
      ],
      "text/plain": [
       "                                          BEL  \\\n",
       "node_id                                         \n",
       "1        a(CHEBI:\"gamma-secretase inhibitor\")   \n",
       "\n",
       "                                    simpleBEL  \n",
       "node_id                                        \n",
       "1        a(CHEBI:\"gamma-secretase inhibitor\")  "
      ]
     },
     "execution_count": 17,
     "metadata": {},
     "output_type": "execute_result"
    }
   ],
   "source": [
    "#(must use bracket notation to define the Series name)\n",
    "df['simpleBEL'] = df.function + \"(\" + df.namespace + ':\"' + df.value + '\")'\n",
    "df.loc[:,['BEL','simpleBEL']].head(1)"
   ]
  },
  {
   "cell_type": "code",
   "execution_count": 18,
   "metadata": {
    "collapsed": false
   },
   "outputs": [
    {
     "data": {
      "text/html": [
       "<div>\n",
       "<table border=\"1\" class=\"dataframe\">\n",
       "  <thead>\n",
       "    <tr style=\"text-align: right;\">\n",
       "      <th></th>\n",
       "      <th>BEL</th>\n",
       "      <th>simpleBEL</th>\n",
       "    </tr>\n",
       "    <tr>\n",
       "      <th>node_id</th>\n",
       "      <th></th>\n",
       "      <th></th>\n",
       "    </tr>\n",
       "  </thead>\n",
       "  <tbody>\n",
       "    <tr>\n",
       "      <th>2</th>\n",
       "      <td>complex(SCOMP:\"gamma Secretase Complex\")</td>\n",
       "      <td>complex(SCOMP:\"\"gamma Secretase Complex\"\")</td>\n",
       "    </tr>\n",
       "    <tr>\n",
       "      <th>29</th>\n",
       "      <td>g(HGNC:\"APP\",sub(G,275341,C))</td>\n",
       "      <td>g(HGNC:\"APP\")</td>\n",
       "    </tr>\n",
       "    <tr>\n",
       "      <th>30</th>\n",
       "      <td>p(HGNC:\"APP\",sub(V,717,L))</td>\n",
       "      <td>p(HGNC:\"APP\")</td>\n",
       "    </tr>\n",
       "    <tr>\n",
       "      <th>31</th>\n",
       "      <td>p(HGNC:\"PSEN2\",sub(N,141,I))</td>\n",
       "      <td>p(HGNC:\"PSEN2\")</td>\n",
       "    </tr>\n",
       "    <tr>\n",
       "      <th>32</th>\n",
       "      <td>g(HGNC:\"APP\",sub(G,717,C))</td>\n",
       "      <td>g(HGNC:\"APP\")</td>\n",
       "    </tr>\n",
       "  </tbody>\n",
       "</table>\n",
       "</div>"
      ],
      "text/plain": [
       "                                              BEL  \\\n",
       "node_id                                             \n",
       "2        complex(SCOMP:\"gamma Secretase Complex\")   \n",
       "29                  g(HGNC:\"APP\",sub(G,275341,C))   \n",
       "30                     p(HGNC:\"APP\",sub(V,717,L))   \n",
       "31                   p(HGNC:\"PSEN2\",sub(N,141,I))   \n",
       "32                     g(HGNC:\"APP\",sub(G,717,C))   \n",
       "\n",
       "                                          simpleBEL  \n",
       "node_id                                              \n",
       "2        complex(SCOMP:\"\"gamma Secretase Complex\"\")  \n",
       "29                                    g(HGNC:\"APP\")  \n",
       "30                                    p(HGNC:\"APP\")  \n",
       "31                                  p(HGNC:\"PSEN2\")  \n",
       "32                                    g(HGNC:\"APP\")  "
      ]
     },
     "execution_count": 18,
     "metadata": {},
     "output_type": "execute_result"
    }
   ],
   "source": [
    "df2 = df.loc[(df.BEL!=df.simpleBEL),['BEL','simpleBEL']]\n",
    "df2.dropna().head()"
   ]
  },
  {
   "cell_type": "markdown",
   "metadata": {},
   "source": [
    "[<a href=\"#top\">Back to top</a>]"
   ]
  },
  {
   "cell_type": "markdown",
   "metadata": {},
   "source": [
    "## Why do some pandas commands end with parentheses (and others don't)?"
   ]
  },
  {
   "cell_type": "markdown",
   "metadata": {},
   "source": [
    "**Methods** end with parentheses, while **attributes** don't:"
   ]
  },
  {
   "cell_type": "code",
   "execution_count": 19,
   "metadata": {
    "collapsed": false
   },
   "outputs": [
    {
     "data": {
      "text/html": [
       "<div>\n",
       "<table border=\"1\" class=\"dataframe\">\n",
       "  <thead>\n",
       "    <tr style=\"text-align: right;\">\n",
       "      <th></th>\n",
       "      <th>BEL</th>\n",
       "      <th>function</th>\n",
       "      <th>namespace</th>\n",
       "      <th>value</th>\n",
       "      <th>valid_NSV</th>\n",
       "      <th>aminoacid_Code_2</th>\n",
       "      <th>aminoacid_Code_1</th>\n",
       "      <th>undefined_namespace</th>\n",
       "      <th>modification</th>\n",
       "      <th>p_modType</th>\n",
       "      <th>list</th>\n",
       "      <th>position</th>\n",
       "      <th>simpleBEL</th>\n",
       "    </tr>\n",
       "    <tr>\n",
       "      <th>node_id</th>\n",
       "      <th></th>\n",
       "      <th></th>\n",
       "      <th></th>\n",
       "      <th></th>\n",
       "      <th></th>\n",
       "      <th></th>\n",
       "      <th></th>\n",
       "      <th></th>\n",
       "      <th></th>\n",
       "      <th></th>\n",
       "      <th></th>\n",
       "      <th></th>\n",
       "      <th></th>\n",
       "    </tr>\n",
       "  </thead>\n",
       "  <tbody>\n",
       "    <tr>\n",
       "      <th>1</th>\n",
       "      <td>a(CHEBI:\"gamma-secretase inhibitor\")</td>\n",
       "      <td>a</td>\n",
       "      <td>CHEBI</td>\n",
       "      <td>gamma-secretase inhibitor</td>\n",
       "      <td>NaN</td>\n",
       "      <td>NaN</td>\n",
       "      <td>NaN</td>\n",
       "      <td>NaN</td>\n",
       "      <td>NaN</td>\n",
       "      <td>NaN</td>\n",
       "      <td>NaN</td>\n",
       "      <td>NaN</td>\n",
       "      <td>a(CHEBI:\"gamma-secretase inhibitor\")</td>\n",
       "    </tr>\n",
       "    <tr>\n",
       "      <th>2</th>\n",
       "      <td>complex(SCOMP:\"gamma Secretase Complex\")</td>\n",
       "      <td>complex</td>\n",
       "      <td>SCOMP</td>\n",
       "      <td>\"gamma Secretase Complex\"</td>\n",
       "      <td>NaN</td>\n",
       "      <td>NaN</td>\n",
       "      <td>NaN</td>\n",
       "      <td>NaN</td>\n",
       "      <td>NaN</td>\n",
       "      <td>NaN</td>\n",
       "      <td>NaN</td>\n",
       "      <td>NaN</td>\n",
       "      <td>complex(SCOMP:\"\"gamma Secretase Complex\"\")</td>\n",
       "    </tr>\n",
       "    <tr>\n",
       "      <th>3</th>\n",
       "      <td>p(HGNC:\"BACE1\")</td>\n",
       "      <td>p</td>\n",
       "      <td>HGNC</td>\n",
       "      <td>BACE1</td>\n",
       "      <td>True</td>\n",
       "      <td>NaN</td>\n",
       "      <td>NaN</td>\n",
       "      <td>NaN</td>\n",
       "      <td>NaN</td>\n",
       "      <td>NaN</td>\n",
       "      <td>NaN</td>\n",
       "      <td>NaN</td>\n",
       "      <td>p(HGNC:\"BACE1\")</td>\n",
       "    </tr>\n",
       "    <tr>\n",
       "      <th>4</th>\n",
       "      <td>reaction(reactants(p(HGNC:APP)),products(a(ADO...</td>\n",
       "      <td>reaction</td>\n",
       "      <td>NaN</td>\n",
       "      <td>NaN</td>\n",
       "      <td>NaN</td>\n",
       "      <td>NaN</td>\n",
       "      <td>NaN</td>\n",
       "      <td>NaN</td>\n",
       "      <td>NaN</td>\n",
       "      <td>NaN</td>\n",
       "      <td>NaN</td>\n",
       "      <td>NaN</td>\n",
       "      <td>NaN</td>\n",
       "    </tr>\n",
       "    <tr>\n",
       "      <th>5</th>\n",
       "      <td>p(HGNC:\"APP\")</td>\n",
       "      <td>p</td>\n",
       "      <td>HGNC</td>\n",
       "      <td>APP</td>\n",
       "      <td>True</td>\n",
       "      <td>NaN</td>\n",
       "      <td>NaN</td>\n",
       "      <td>NaN</td>\n",
       "      <td>NaN</td>\n",
       "      <td>NaN</td>\n",
       "      <td>NaN</td>\n",
       "      <td>NaN</td>\n",
       "      <td>p(HGNC:\"APP\")</td>\n",
       "    </tr>\n",
       "  </tbody>\n",
       "</table>\n",
       "</div>"
      ],
      "text/plain": [
       "                                                       BEL  function  \\\n",
       "node_id                                                                \n",
       "1                     a(CHEBI:\"gamma-secretase inhibitor\")         a   \n",
       "2                 complex(SCOMP:\"gamma Secretase Complex\")   complex   \n",
       "3                                          p(HGNC:\"BACE1\")         p   \n",
       "4        reaction(reactants(p(HGNC:APP)),products(a(ADO...  reaction   \n",
       "5                                            p(HGNC:\"APP\")         p   \n",
       "\n",
       "        namespace                      value valid_NSV aminoacid_Code_2  \\\n",
       "node_id                                                                   \n",
       "1           CHEBI  gamma-secretase inhibitor       NaN              NaN   \n",
       "2           SCOMP  \"gamma Secretase Complex\"       NaN              NaN   \n",
       "3            HGNC                      BACE1      True              NaN   \n",
       "4             NaN                        NaN       NaN              NaN   \n",
       "5            HGNC                        APP      True              NaN   \n",
       "\n",
       "        aminoacid_Code_1 undefined_namespace modification p_modType list  \\\n",
       "node_id                                                                    \n",
       "1                    NaN                 NaN          NaN       NaN  NaN   \n",
       "2                    NaN                 NaN          NaN       NaN  NaN   \n",
       "3                    NaN                 NaN          NaN       NaN  NaN   \n",
       "4                    NaN                 NaN          NaN       NaN  NaN   \n",
       "5                    NaN                 NaN          NaN       NaN  NaN   \n",
       "\n",
       "         position                                   simpleBEL  \n",
       "node_id                                                        \n",
       "1             NaN        a(CHEBI:\"gamma-secretase inhibitor\")  \n",
       "2             NaN  complex(SCOMP:\"\"gamma Secretase Complex\"\")  \n",
       "3             NaN                             p(HGNC:\"BACE1\")  \n",
       "4             NaN                                         NaN  \n",
       "5             NaN                               p(HGNC:\"APP\")  "
      ]
     },
     "execution_count": 19,
     "metadata": {},
     "output_type": "execute_result"
    }
   ],
   "source": [
    "# example method: show the first 5 rows\n",
    "df.head()"
   ]
  },
  {
   "cell_type": "code",
   "execution_count": 20,
   "metadata": {
    "collapsed": false
   },
   "outputs": [
    {
     "name": "stderr",
     "output_type": "stream",
     "text": [
      "/home/ceb/projects/pybel/virtualenvs/pybel_0.1_py3/lib/python3.5/site-packages/numpy/lib/function_base.py:3834: RuntimeWarning: Invalid value encountered in percentile\n",
      "  RuntimeWarning)\n"
     ]
    },
    {
     "data": {
      "text/html": [
       "<div>\n",
       "<table border=\"1\" class=\"dataframe\">\n",
       "  <thead>\n",
       "    <tr style=\"text-align: right;\">\n",
       "      <th></th>\n",
       "      <th>position</th>\n",
       "    </tr>\n",
       "  </thead>\n",
       "  <tbody>\n",
       "    <tr>\n",
       "      <th>count</th>\n",
       "      <td>130.000000</td>\n",
       "    </tr>\n",
       "    <tr>\n",
       "      <th>mean</th>\n",
       "      <td>2595.946154</td>\n",
       "    </tr>\n",
       "    <tr>\n",
       "      <th>std</th>\n",
       "      <td>24114.045581</td>\n",
       "    </tr>\n",
       "    <tr>\n",
       "      <th>min</th>\n",
       "      <td>4.000000</td>\n",
       "    </tr>\n",
       "    <tr>\n",
       "      <th>25%</th>\n",
       "      <td>NaN</td>\n",
       "    </tr>\n",
       "    <tr>\n",
       "      <th>50%</th>\n",
       "      <td>NaN</td>\n",
       "    </tr>\n",
       "    <tr>\n",
       "      <th>75%</th>\n",
       "      <td>NaN</td>\n",
       "    </tr>\n",
       "    <tr>\n",
       "      <th>max</th>\n",
       "      <td>275341.000000</td>\n",
       "    </tr>\n",
       "  </tbody>\n",
       "</table>\n",
       "</div>"
      ],
      "text/plain": [
       "            position\n",
       "count     130.000000\n",
       "mean     2595.946154\n",
       "std     24114.045581\n",
       "min         4.000000\n",
       "25%              NaN\n",
       "50%              NaN\n",
       "75%              NaN\n",
       "max    275341.000000"
      ]
     },
     "execution_count": 20,
     "metadata": {},
     "output_type": "execute_result"
    }
   ],
   "source": [
    "# example method: calculate summary statistics\n",
    "df.describe()"
   ]
  },
  {
   "cell_type": "code",
   "execution_count": 21,
   "metadata": {
    "collapsed": false
   },
   "outputs": [
    {
     "data": {
      "text/plain": [
       "(11927, 13)"
      ]
     },
     "execution_count": 21,
     "metadata": {},
     "output_type": "execute_result"
    }
   ],
   "source": [
    "# example attribute: number of rows and columns\n",
    "df.shape"
   ]
  },
  {
   "cell_type": "code",
   "execution_count": 22,
   "metadata": {
    "collapsed": false,
    "scrolled": true
   },
   "outputs": [
    {
     "data": {
      "text/plain": [
       "BEL                     object\n",
       "function                object\n",
       "namespace               object\n",
       "value                   object\n",
       "valid_NSV               object\n",
       "aminoacid_Code_2        object\n",
       "aminoacid_Code_1        object\n",
       "undefined_namespace     object\n",
       "modification            object\n",
       "p_modType               object\n",
       "list                    object\n",
       "position               float64\n",
       "simpleBEL               object\n",
       "dtype: object"
      ]
     },
     "execution_count": 22,
     "metadata": {},
     "output_type": "execute_result"
    }
   ],
   "source": [
    "# example attribute: data type of each column\n",
    "df.dtypes"
   ]
  },
  {
   "cell_type": "code",
   "execution_count": 23,
   "metadata": {
    "collapsed": false
   },
   "outputs": [
    {
     "data": {
      "text/html": [
       "<div>\n",
       "<table border=\"1\" class=\"dataframe\">\n",
       "  <thead>\n",
       "    <tr style=\"text-align: right;\">\n",
       "      <th></th>\n",
       "      <th>BEL</th>\n",
       "      <th>function</th>\n",
       "      <th>namespace</th>\n",
       "      <th>value</th>\n",
       "      <th>valid_NSV</th>\n",
       "      <th>aminoacid_Code_2</th>\n",
       "      <th>aminoacid_Code_1</th>\n",
       "      <th>undefined_namespace</th>\n",
       "      <th>modification</th>\n",
       "      <th>p_modType</th>\n",
       "      <th>list</th>\n",
       "      <th>simpleBEL</th>\n",
       "    </tr>\n",
       "  </thead>\n",
       "  <tbody>\n",
       "    <tr>\n",
       "      <th>count</th>\n",
       "      <td>11927</td>\n",
       "      <td>11927</td>\n",
       "      <td>11235</td>\n",
       "      <td>11235</td>\n",
       "      <td>10247</td>\n",
       "      <td>54</td>\n",
       "      <td>149</td>\n",
       "      <td>1</td>\n",
       "      <td>270</td>\n",
       "      <td>211</td>\n",
       "      <td>672</td>\n",
       "      <td>11235</td>\n",
       "    </tr>\n",
       "    <tr>\n",
       "      <th>unique</th>\n",
       "      <td>11927</td>\n",
       "      <td>12</td>\n",
       "      <td>26</td>\n",
       "      <td>10205</td>\n",
       "      <td>1</td>\n",
       "      <td>15</td>\n",
       "      <td>17</td>\n",
       "      <td>1</td>\n",
       "      <td>2</td>\n",
       "      <td>6</td>\n",
       "      <td>1</td>\n",
       "      <td>10948</td>\n",
       "    </tr>\n",
       "    <tr>\n",
       "      <th>top</th>\n",
       "      <td>p(HGNC:\"ADM\")</td>\n",
       "      <td>p</td>\n",
       "      <td>HGNC</td>\n",
       "      <td>MAPT</td>\n",
       "      <td>True</td>\n",
       "      <td>A</td>\n",
       "      <td>S</td>\n",
       "      <td>\"HPA axis\"</td>\n",
       "      <td>pmod</td>\n",
       "      <td>P</td>\n",
       "      <td>True</td>\n",
       "      <td>p(HGNC:\"MAPT\")</td>\n",
       "    </tr>\n",
       "    <tr>\n",
       "      <th>freq</th>\n",
       "      <td>1</td>\n",
       "      <td>8988</td>\n",
       "      <td>7636</td>\n",
       "      <td>32</td>\n",
       "      <td>10247</td>\n",
       "      <td>12</td>\n",
       "      <td>45</td>\n",
       "      <td>1</td>\n",
       "      <td>211</td>\n",
       "      <td>181</td>\n",
       "      <td>672</td>\n",
       "      <td>30</td>\n",
       "    </tr>\n",
       "  </tbody>\n",
       "</table>\n",
       "</div>"
      ],
      "text/plain": [
       "                  BEL function namespace  value valid_NSV aminoacid_Code_2  \\\n",
       "count           11927    11927     11235  11235     10247               54   \n",
       "unique          11927       12        26  10205         1               15   \n",
       "top     p(HGNC:\"ADM\")        p      HGNC   MAPT      True                A   \n",
       "freq                1     8988      7636     32     10247               12   \n",
       "\n",
       "       aminoacid_Code_1 undefined_namespace modification p_modType  list  \\\n",
       "count               149                   1          270       211   672   \n",
       "unique               17                   1            2         6     1   \n",
       "top                   S          \"HPA axis\"         pmod         P  True   \n",
       "freq                 45                   1          211       181   672   \n",
       "\n",
       "             simpleBEL  \n",
       "count            11235  \n",
       "unique           10948  \n",
       "top     p(HGNC:\"MAPT\")  \n",
       "freq                30  "
      ]
     },
     "execution_count": 23,
     "metadata": {},
     "output_type": "execute_result"
    }
   ],
   "source": [
    "# use an optional parameter to the describe method to summarize only 'object' columns\n",
    "df.describe(include=['object'])"
   ]
  },
  {
   "cell_type": "markdown",
   "metadata": {},
   "source": [
    "Documentation for [**`describe`**](http://pandas.pydata.org/pandas-docs/stable/generated/pandas.DataFrame.describe.html)\n",
    "\n",
    "[<a href=\"#top\">Back to top</a>]"
   ]
  },
  {
   "cell_type": "markdown",
   "metadata": {},
   "source": [
    "## How do I rename columns in a pandas DataFrame?"
   ]
  },
  {
   "cell_type": "code",
   "execution_count": 24,
   "metadata": {
    "collapsed": false
   },
   "outputs": [
    {
     "data": {
      "text/plain": [
       "Index(['BEL', 'function', 'namespace', 'value', 'valid_NSV', 'aa2', 'aa1',\n",
       "       'undefined_namespace', 'modification', 'p_modType', 'list', 'position',\n",
       "       'simpleBEL'],\n",
       "      dtype='object')"
      ]
     },
     "execution_count": 24,
     "metadata": {},
     "output_type": "execute_result"
    }
   ],
   "source": [
    "# rename two of the columns by using the 'rename' method\n",
    "df.rename(columns={'aminoacid_Code_2':'aa2', 'aminoacid_Code_1':'aa1'}, inplace=True)\n",
    "df.columns"
   ]
  },
  {
   "cell_type": "markdown",
   "metadata": {},
   "source": [
    "Documentation for [**`rename`**](http://pandas.pydata.org/pandas-docs/stable/generated/pandas.DataFrame.rename.html)"
   ]
  },
  {
   "cell_type": "code",
   "execution_count": 25,
   "metadata": {
    "collapsed": false
   },
   "outputs": [
    {
     "data": {
      "text/plain": [
       "Index(['BEL', 'func', 'ns', 'val', 'ns_val_ok', 'aa2', 'aa1', 'uns', 'mod',\n",
       "       'pmodT', 'isList', 'pos', 'sBEL'],\n",
       "      dtype='object')"
      ]
     },
     "execution_count": 25,
     "metadata": {},
     "output_type": "execute_result"
    }
   ],
   "source": [
    "# replace all of the column names by overwriting the 'columns' attribute\n",
    "df_cols = ['BEL', 'func', 'ns', 'val', 'ns_val_ok', 'aa2', 'aa1',\n",
    "       'uns', 'mod', 'pmodT', 'isList', 'pos','sBEL']\n",
    "df.columns = df_cols\n",
    "df.columns"
   ]
  },
  {
   "cell_type": "code",
   "execution_count": 26,
   "metadata": {
    "collapsed": false
   },
   "outputs": [
    {
     "data": {
      "text/html": [
       "<div>\n",
       "<table border=\"1\" class=\"dataframe\">\n",
       "  <thead>\n",
       "    <tr style=\"text-align: right;\">\n",
       "      <th></th>\n",
       "      <th>BEL</th>\n",
       "      <th>func</th>\n",
       "      <th>ns</th>\n",
       "      <th>val</th>\n",
       "      <th>ns_val_ok</th>\n",
       "      <th>aa2</th>\n",
       "      <th>aa1</th>\n",
       "      <th>uns</th>\n",
       "      <th>mod</th>\n",
       "      <th>pmodT</th>\n",
       "      <th>isList</th>\n",
       "      <th>pos</th>\n",
       "      <th>sBEL</th>\n",
       "    </tr>\n",
       "    <tr>\n",
       "      <th>node_id</th>\n",
       "      <th></th>\n",
       "      <th></th>\n",
       "      <th></th>\n",
       "      <th></th>\n",
       "      <th></th>\n",
       "      <th></th>\n",
       "      <th></th>\n",
       "      <th></th>\n",
       "      <th></th>\n",
       "      <th></th>\n",
       "      <th></th>\n",
       "      <th></th>\n",
       "      <th></th>\n",
       "    </tr>\n",
       "  </thead>\n",
       "  <tbody>\n",
       "    <tr>\n",
       "      <th>1</th>\n",
       "      <td>a(CHEBI:\"gamma-secretase inhibitor\")</td>\n",
       "      <td>a</td>\n",
       "      <td>CHEBI</td>\n",
       "      <td>gamma-secretase inhibitor</td>\n",
       "      <td>NaN</td>\n",
       "      <td>NaN</td>\n",
       "      <td>NaN</td>\n",
       "      <td>NaN</td>\n",
       "      <td>NaN</td>\n",
       "      <td>NaN</td>\n",
       "      <td>NaN</td>\n",
       "      <td>NaN</td>\n",
       "      <td>a(CHEBI:\"gamma-secretase inhibitor\")</td>\n",
       "    </tr>\n",
       "    <tr>\n",
       "      <th>2</th>\n",
       "      <td>complex(SCOMP:\"gamma Secretase Complex\")</td>\n",
       "      <td>complex</td>\n",
       "      <td>SCOMP</td>\n",
       "      <td>\"gamma Secretase Complex\"</td>\n",
       "      <td>NaN</td>\n",
       "      <td>NaN</td>\n",
       "      <td>NaN</td>\n",
       "      <td>NaN</td>\n",
       "      <td>NaN</td>\n",
       "      <td>NaN</td>\n",
       "      <td>NaN</td>\n",
       "      <td>NaN</td>\n",
       "      <td>complex(SCOMP:\"\"gamma Secretase Complex\"\")</td>\n",
       "    </tr>\n",
       "    <tr>\n",
       "      <th>3</th>\n",
       "      <td>p(HGNC:\"BACE1\")</td>\n",
       "      <td>p</td>\n",
       "      <td>HGNC</td>\n",
       "      <td>BACE1</td>\n",
       "      <td>True</td>\n",
       "      <td>NaN</td>\n",
       "      <td>NaN</td>\n",
       "      <td>NaN</td>\n",
       "      <td>NaN</td>\n",
       "      <td>NaN</td>\n",
       "      <td>NaN</td>\n",
       "      <td>NaN</td>\n",
       "      <td>p(HGNC:\"BACE1\")</td>\n",
       "    </tr>\n",
       "    <tr>\n",
       "      <th>4</th>\n",
       "      <td>reaction(reactants(p(HGNC:APP)),products(a(ADO...</td>\n",
       "      <td>reaction</td>\n",
       "      <td>NaN</td>\n",
       "      <td>NaN</td>\n",
       "      <td>NaN</td>\n",
       "      <td>NaN</td>\n",
       "      <td>NaN</td>\n",
       "      <td>NaN</td>\n",
       "      <td>NaN</td>\n",
       "      <td>NaN</td>\n",
       "      <td>NaN</td>\n",
       "      <td>NaN</td>\n",
       "      <td>NaN</td>\n",
       "    </tr>\n",
       "    <tr>\n",
       "      <th>5</th>\n",
       "      <td>p(HGNC:\"APP\")</td>\n",
       "      <td>p</td>\n",
       "      <td>HGNC</td>\n",
       "      <td>APP</td>\n",
       "      <td>True</td>\n",
       "      <td>NaN</td>\n",
       "      <td>NaN</td>\n",
       "      <td>NaN</td>\n",
       "      <td>NaN</td>\n",
       "      <td>NaN</td>\n",
       "      <td>NaN</td>\n",
       "      <td>NaN</td>\n",
       "      <td>p(HGNC:\"APP\")</td>\n",
       "    </tr>\n",
       "  </tbody>\n",
       "</table>\n",
       "</div>"
      ],
      "text/plain": [
       "                                                       BEL      func     ns  \\\n",
       "node_id                                                                       \n",
       "1                     a(CHEBI:\"gamma-secretase inhibitor\")         a  CHEBI   \n",
       "2                 complex(SCOMP:\"gamma Secretase Complex\")   complex  SCOMP   \n",
       "3                                          p(HGNC:\"BACE1\")         p   HGNC   \n",
       "4        reaction(reactants(p(HGNC:APP)),products(a(ADO...  reaction    NaN   \n",
       "5                                            p(HGNC:\"APP\")         p   HGNC   \n",
       "\n",
       "                               val ns_val_ok  aa2  aa1  uns  mod pmodT isList  \\\n",
       "node_id                                                                         \n",
       "1        gamma-secretase inhibitor       NaN  NaN  NaN  NaN  NaN   NaN    NaN   \n",
       "2        \"gamma Secretase Complex\"       NaN  NaN  NaN  NaN  NaN   NaN    NaN   \n",
       "3                            BACE1      True  NaN  NaN  NaN  NaN   NaN    NaN   \n",
       "4                              NaN       NaN  NaN  NaN  NaN  NaN   NaN    NaN   \n",
       "5                              APP      True  NaN  NaN  NaN  NaN   NaN    NaN   \n",
       "\n",
       "         pos                                        sBEL  \n",
       "node_id                                                   \n",
       "1        NaN        a(CHEBI:\"gamma-secretase inhibitor\")  \n",
       "2        NaN  complex(SCOMP:\"\"gamma Secretase Complex\"\")  \n",
       "3        NaN                             p(HGNC:\"BACE1\")  \n",
       "4        NaN                                         NaN  \n",
       "5        NaN                               p(HGNC:\"APP\")  "
      ]
     },
     "execution_count": 26,
     "metadata": {},
     "output_type": "execute_result"
    }
   ],
   "source": [
    "df.head()"
   ]
  },
  {
   "cell_type": "markdown",
   "metadata": {},
   "source": [
    "[<a href=\"#top\">Back to top</a>]"
   ]
  },
  {
   "cell_type": "markdown",
   "metadata": {},
   "source": [
    "## How do I remove columns from a pandas DataFrame?"
   ]
  },
  {
   "cell_type": "code",
   "execution_count": 27,
   "metadata": {
    "collapsed": false
   },
   "outputs": [
    {
     "data": {
      "text/html": [
       "<div>\n",
       "<table border=\"1\" class=\"dataframe\">\n",
       "  <thead>\n",
       "    <tr style=\"text-align: right;\">\n",
       "      <th></th>\n",
       "      <th>BEL</th>\n",
       "      <th>func</th>\n",
       "      <th>ns</th>\n",
       "      <th>val</th>\n",
       "      <th>ns_val_ok</th>\n",
       "      <th>aa2</th>\n",
       "      <th>aa1</th>\n",
       "      <th>uns</th>\n",
       "      <th>mod</th>\n",
       "      <th>pmodT</th>\n",
       "      <th>isList</th>\n",
       "      <th>pos</th>\n",
       "    </tr>\n",
       "    <tr>\n",
       "      <th>node_id</th>\n",
       "      <th></th>\n",
       "      <th></th>\n",
       "      <th></th>\n",
       "      <th></th>\n",
       "      <th></th>\n",
       "      <th></th>\n",
       "      <th></th>\n",
       "      <th></th>\n",
       "      <th></th>\n",
       "      <th></th>\n",
       "      <th></th>\n",
       "      <th></th>\n",
       "    </tr>\n",
       "  </thead>\n",
       "  <tbody>\n",
       "    <tr>\n",
       "      <th>1</th>\n",
       "      <td>a(CHEBI:\"gamma-secretase inhibitor\")</td>\n",
       "      <td>a</td>\n",
       "      <td>CHEBI</td>\n",
       "      <td>gamma-secretase inhibitor</td>\n",
       "      <td>NaN</td>\n",
       "      <td>NaN</td>\n",
       "      <td>NaN</td>\n",
       "      <td>NaN</td>\n",
       "      <td>NaN</td>\n",
       "      <td>NaN</td>\n",
       "      <td>NaN</td>\n",
       "      <td>NaN</td>\n",
       "    </tr>\n",
       "    <tr>\n",
       "      <th>2</th>\n",
       "      <td>complex(SCOMP:\"gamma Secretase Complex\")</td>\n",
       "      <td>complex</td>\n",
       "      <td>SCOMP</td>\n",
       "      <td>\"gamma Secretase Complex\"</td>\n",
       "      <td>NaN</td>\n",
       "      <td>NaN</td>\n",
       "      <td>NaN</td>\n",
       "      <td>NaN</td>\n",
       "      <td>NaN</td>\n",
       "      <td>NaN</td>\n",
       "      <td>NaN</td>\n",
       "      <td>NaN</td>\n",
       "    </tr>\n",
       "    <tr>\n",
       "      <th>3</th>\n",
       "      <td>p(HGNC:\"BACE1\")</td>\n",
       "      <td>p</td>\n",
       "      <td>HGNC</td>\n",
       "      <td>BACE1</td>\n",
       "      <td>True</td>\n",
       "      <td>NaN</td>\n",
       "      <td>NaN</td>\n",
       "      <td>NaN</td>\n",
       "      <td>NaN</td>\n",
       "      <td>NaN</td>\n",
       "      <td>NaN</td>\n",
       "      <td>NaN</td>\n",
       "    </tr>\n",
       "    <tr>\n",
       "      <th>4</th>\n",
       "      <td>reaction(reactants(p(HGNC:APP)),products(a(ADO...</td>\n",
       "      <td>reaction</td>\n",
       "      <td>NaN</td>\n",
       "      <td>NaN</td>\n",
       "      <td>NaN</td>\n",
       "      <td>NaN</td>\n",
       "      <td>NaN</td>\n",
       "      <td>NaN</td>\n",
       "      <td>NaN</td>\n",
       "      <td>NaN</td>\n",
       "      <td>NaN</td>\n",
       "      <td>NaN</td>\n",
       "    </tr>\n",
       "    <tr>\n",
       "      <th>5</th>\n",
       "      <td>p(HGNC:\"APP\")</td>\n",
       "      <td>p</td>\n",
       "      <td>HGNC</td>\n",
       "      <td>APP</td>\n",
       "      <td>True</td>\n",
       "      <td>NaN</td>\n",
       "      <td>NaN</td>\n",
       "      <td>NaN</td>\n",
       "      <td>NaN</td>\n",
       "      <td>NaN</td>\n",
       "      <td>NaN</td>\n",
       "      <td>NaN</td>\n",
       "    </tr>\n",
       "  </tbody>\n",
       "</table>\n",
       "</div>"
      ],
      "text/plain": [
       "                                                       BEL      func     ns  \\\n",
       "node_id                                                                       \n",
       "1                     a(CHEBI:\"gamma-secretase inhibitor\")         a  CHEBI   \n",
       "2                 complex(SCOMP:\"gamma Secretase Complex\")   complex  SCOMP   \n",
       "3                                          p(HGNC:\"BACE1\")         p   HGNC   \n",
       "4        reaction(reactants(p(HGNC:APP)),products(a(ADO...  reaction    NaN   \n",
       "5                                            p(HGNC:\"APP\")         p   HGNC   \n",
       "\n",
       "                               val ns_val_ok  aa2  aa1  uns  mod pmodT isList  \\\n",
       "node_id                                                                         \n",
       "1        gamma-secretase inhibitor       NaN  NaN  NaN  NaN  NaN   NaN    NaN   \n",
       "2        \"gamma Secretase Complex\"       NaN  NaN  NaN  NaN  NaN   NaN    NaN   \n",
       "3                            BACE1      True  NaN  NaN  NaN  NaN   NaN    NaN   \n",
       "4                              NaN       NaN  NaN  NaN  NaN  NaN   NaN    NaN   \n",
       "5                              APP      True  NaN  NaN  NaN  NaN   NaN    NaN   \n",
       "\n",
       "         pos  \n",
       "node_id       \n",
       "1        NaN  \n",
       "2        NaN  \n",
       "3        NaN  \n",
       "4        NaN  \n",
       "5        NaN  "
      ]
     },
     "execution_count": 27,
     "metadata": {},
     "output_type": "execute_result"
    }
   ],
   "source": [
    "# remove a single column (axis=1 refers to columns)\n",
    "df.drop('sBEL', axis=1, inplace=True)\n",
    "df.head()"
   ]
  },
  {
   "cell_type": "markdown",
   "metadata": {},
   "source": [
    "Documentation for [**`drop`**](http://pandas.pydata.org/pandas-docs/stable/generated/pandas.DataFrame.drop.html)"
   ]
  },
  {
   "cell_type": "code",
   "execution_count": 28,
   "metadata": {
    "collapsed": false
   },
   "outputs": [
    {
     "data": {
      "text/html": [
       "<div>\n",
       "<table border=\"1\" class=\"dataframe\">\n",
       "  <thead>\n",
       "    <tr style=\"text-align: right;\">\n",
       "      <th></th>\n",
       "      <th>BEL</th>\n",
       "      <th>func</th>\n",
       "      <th>ns</th>\n",
       "    </tr>\n",
       "    <tr>\n",
       "      <th>node_id</th>\n",
       "      <th></th>\n",
       "      <th></th>\n",
       "      <th></th>\n",
       "    </tr>\n",
       "  </thead>\n",
       "  <tbody>\n",
       "    <tr>\n",
       "      <th>1</th>\n",
       "      <td>a(CHEBI:\"gamma-secretase inhibitor\")</td>\n",
       "      <td>a</td>\n",
       "      <td>CHEBI</td>\n",
       "    </tr>\n",
       "    <tr>\n",
       "      <th>2</th>\n",
       "      <td>complex(SCOMP:\"gamma Secretase Complex\")</td>\n",
       "      <td>complex</td>\n",
       "      <td>SCOMP</td>\n",
       "    </tr>\n",
       "    <tr>\n",
       "      <th>3</th>\n",
       "      <td>p(HGNC:\"BACE1\")</td>\n",
       "      <td>p</td>\n",
       "      <td>HGNC</td>\n",
       "    </tr>\n",
       "    <tr>\n",
       "      <th>4</th>\n",
       "      <td>reaction(reactants(p(HGNC:APP)),products(a(ADO...</td>\n",
       "      <td>reaction</td>\n",
       "      <td>NaN</td>\n",
       "    </tr>\n",
       "    <tr>\n",
       "      <th>5</th>\n",
       "      <td>p(HGNC:\"APP\")</td>\n",
       "      <td>p</td>\n",
       "      <td>HGNC</td>\n",
       "    </tr>\n",
       "  </tbody>\n",
       "</table>\n",
       "</div>"
      ],
      "text/plain": [
       "                                                       BEL      func     ns\n",
       "node_id                                                                    \n",
       "1                     a(CHEBI:\"gamma-secretase inhibitor\")         a  CHEBI\n",
       "2                 complex(SCOMP:\"gamma Secretase Complex\")   complex  SCOMP\n",
       "3                                          p(HGNC:\"BACE1\")         p   HGNC\n",
       "4        reaction(reactants(p(HGNC:APP)),products(a(ADO...  reaction    NaN\n",
       "5                                            p(HGNC:\"APP\")         p   HGNC"
      ]
     },
     "execution_count": 28,
     "metadata": {},
     "output_type": "execute_result"
    }
   ],
   "source": [
    "# remove multiple columns at once\n",
    "columns_to_remove = ['val', 'ns_val_ok', 'aa2', 'aa1',\n",
    "                     'uns', 'mod', 'pmodT', 'isList', 'pos']\n",
    "df.drop(columns_to_remove, axis=1, inplace=True)\n",
    "df.head()"
   ]
  },
  {
   "cell_type": "code",
   "execution_count": 29,
   "metadata": {
    "collapsed": false
   },
   "outputs": [
    {
     "data": {
      "text/html": [
       "<div>\n",
       "<table border=\"1\" class=\"dataframe\">\n",
       "  <thead>\n",
       "    <tr style=\"text-align: right;\">\n",
       "      <th></th>\n",
       "      <th>BEL</th>\n",
       "      <th>func</th>\n",
       "      <th>ns</th>\n",
       "    </tr>\n",
       "    <tr>\n",
       "      <th>node_id</th>\n",
       "      <th></th>\n",
       "      <th></th>\n",
       "      <th></th>\n",
       "    </tr>\n",
       "  </thead>\n",
       "  <tbody>\n",
       "    <tr>\n",
       "      <th>3</th>\n",
       "      <td>p(HGNC:\"BACE1\")</td>\n",
       "      <td>p</td>\n",
       "      <td>HGNC</td>\n",
       "    </tr>\n",
       "    <tr>\n",
       "      <th>4</th>\n",
       "      <td>reaction(reactants(p(HGNC:APP)),products(a(ADO...</td>\n",
       "      <td>reaction</td>\n",
       "      <td>NaN</td>\n",
       "    </tr>\n",
       "    <tr>\n",
       "      <th>5</th>\n",
       "      <td>p(HGNC:\"APP\")</td>\n",
       "      <td>p</td>\n",
       "      <td>HGNC</td>\n",
       "    </tr>\n",
       "    <tr>\n",
       "      <th>6</th>\n",
       "      <td>a(ADO:\"Abeta_42\")</td>\n",
       "      <td>a</td>\n",
       "      <td>ADO</td>\n",
       "    </tr>\n",
       "    <tr>\n",
       "      <th>7</th>\n",
       "      <td>path(MESHD:\"Alzheimer Disease\")</td>\n",
       "      <td>path</td>\n",
       "      <td>MESHD</td>\n",
       "    </tr>\n",
       "  </tbody>\n",
       "</table>\n",
       "</div>"
      ],
      "text/plain": [
       "                                                       BEL      func     ns\n",
       "node_id                                                                    \n",
       "3                                          p(HGNC:\"BACE1\")         p   HGNC\n",
       "4        reaction(reactants(p(HGNC:APP)),products(a(ADO...  reaction    NaN\n",
       "5                                            p(HGNC:\"APP\")         p   HGNC\n",
       "6                                        a(ADO:\"Abeta_42\")         a    ADO\n",
       "7                          path(MESHD:\"Alzheimer Disease\")      path  MESHD"
      ]
     },
     "execution_count": 29,
     "metadata": {},
     "output_type": "execute_result"
    }
   ],
   "source": [
    "# remove 2 rows at once (axis=0 refers to rows)\n",
    "df.drop([1, 2], axis=0, inplace=True)\n",
    "df.head()"
   ]
  },
  {
   "cell_type": "code",
   "execution_count": 30,
   "metadata": {
    "collapsed": false
   },
   "outputs": [
    {
     "data": {
      "text/html": [
       "<div>\n",
       "<table border=\"1\" class=\"dataframe\">\n",
       "  <thead>\n",
       "    <tr style=\"text-align: right;\">\n",
       "      <th></th>\n",
       "      <th>BEL</th>\n",
       "      <th>func</th>\n",
       "      <th>ns</th>\n",
       "    </tr>\n",
       "    <tr>\n",
       "      <th>node_id</th>\n",
       "      <th></th>\n",
       "      <th></th>\n",
       "      <th></th>\n",
       "    </tr>\n",
       "  </thead>\n",
       "  <tbody>\n",
       "    <tr>\n",
       "      <th>10</th>\n",
       "      <td>p(HGNC:\"KLC1\")</td>\n",
       "      <td>p</td>\n",
       "      <td>HGNC</td>\n",
       "    </tr>\n",
       "    <tr>\n",
       "      <th>11</th>\n",
       "      <td>bp(MESHPP:\"Axonal Transport\")</td>\n",
       "      <td>bp</td>\n",
       "      <td>MESHPP</td>\n",
       "    </tr>\n",
       "    <tr>\n",
       "      <th>12</th>\n",
       "      <td>list(p(HGNC:PSEN1),p(HGNC:NCSTN),p(HGNC:APH1A)...</td>\n",
       "      <td>list</td>\n",
       "      <td>NaN</td>\n",
       "    </tr>\n",
       "    <tr>\n",
       "      <th>13</th>\n",
       "      <td>p(HGNC:\"PSEN1\")</td>\n",
       "      <td>p</td>\n",
       "      <td>HGNC</td>\n",
       "    </tr>\n",
       "    <tr>\n",
       "      <th>14</th>\n",
       "      <td>p(HGNC:\"NCSTN\")</td>\n",
       "      <td>p</td>\n",
       "      <td>HGNC</td>\n",
       "    </tr>\n",
       "  </tbody>\n",
       "</table>\n",
       "</div>"
      ],
      "text/plain": [
       "                                                       BEL  func      ns\n",
       "node_id                                                                 \n",
       "10                                          p(HGNC:\"KLC1\")     p    HGNC\n",
       "11                           bp(MESHPP:\"Axonal Transport\")    bp  MESHPP\n",
       "12       list(p(HGNC:PSEN1),p(HGNC:NCSTN),p(HGNC:APH1A)...  list     NaN\n",
       "13                                         p(HGNC:\"PSEN1\")     p    HGNC\n",
       "14                                         p(HGNC:\"NCSTN\")     p    HGNC"
      ]
     },
     "execution_count": 30,
     "metadata": {},
     "output_type": "execute_result"
    }
   ],
   "source": [
    "# remove multiple rows at once (axis=0 refers to rows)\n",
    "df.drop(range(3,10), axis=0, inplace=True)\n",
    "df.head()"
   ]
  },
  {
   "cell_type": "markdown",
   "metadata": {},
   "source": [
    "[<a href=\"#top\">Back to top</a>]"
   ]
  },
  {
   "cell_type": "markdown",
   "metadata": {},
   "source": [
    "## How do I sort a pandas DataFrame or a Series?"
   ]
  },
  {
   "cell_type": "markdown",
   "metadata": {},
   "source": [
    "**Note:** None of the sorting methods below affect the underlying data. (In other words, the sorting is temporary)."
   ]
  },
  {
   "cell_type": "code",
   "execution_count": 31,
   "metadata": {
    "collapsed": false
   },
   "outputs": [
    {
     "name": "stdout",
     "output_type": "stream",
     "text": [
      "<class 'pandas.core.series.Series'>\n"
     ]
    },
    {
     "data": {
      "text/plain": [
       "node_id\n",
       "11524    ADO\n",
       "633      ADO\n",
       "11554    ADO\n",
       "1182     ADO\n",
       "2399     ADO\n",
       "Name: ns, dtype: object"
      ]
     },
     "execution_count": 31,
     "metadata": {},
     "output_type": "execute_result"
    }
   ],
   "source": [
    "# sort the 'ns' (namespace) Series in ascending order (returns a Series)\n",
    "sorted_ns = df.ns.sort_values().head()\n",
    "print(type(sorted_ns))\n",
    "sorted_ns"
   ]
  },
  {
   "cell_type": "code",
   "execution_count": 32,
   "metadata": {
    "collapsed": false
   },
   "outputs": [
    {
     "data": {
      "text/plain": [
       "node_id\n",
       "481     dbSNP\n",
       "563     dbSNP\n",
       "1025    dbSNP\n",
       "1024    dbSNP\n",
       "1994    dbSNP\n",
       "Name: ns, dtype: object"
      ]
     },
     "execution_count": 32,
     "metadata": {},
     "output_type": "execute_result"
    }
   ],
   "source": [
    "# sort in descending order instead\n",
    "df.ns.sort_values(ascending=False).head()"
   ]
  },
  {
   "cell_type": "markdown",
   "metadata": {},
   "source": [
    "Documentation for [**`sort_values`**](http://pandas.pydata.org/pandas-docs/stable/generated/pandas.Series.sort_values.html) for a **Series**. (Prior to version 0.17, use [**`order`**](http://pandas.pydata.org/pandas-docs/version/0.17.0/generated/pandas.Series.order.html) instead.)"
   ]
  },
  {
   "cell_type": "code",
   "execution_count": 33,
   "metadata": {
    "collapsed": false
   },
   "outputs": [
    {
     "data": {
      "text/html": [
       "<div>\n",
       "<table border=\"1\" class=\"dataframe\">\n",
       "  <thead>\n",
       "    <tr style=\"text-align: right;\">\n",
       "      <th></th>\n",
       "      <th>BEL</th>\n",
       "      <th>func</th>\n",
       "      <th>ns</th>\n",
       "    </tr>\n",
       "    <tr>\n",
       "      <th>node_id</th>\n",
       "      <th></th>\n",
       "      <th></th>\n",
       "      <th></th>\n",
       "    </tr>\n",
       "  </thead>\n",
       "  <tbody>\n",
       "    <tr>\n",
       "      <th>11524</th>\n",
       "      <td>a(ADO:\"presence_of_neuritic_plaque\")</td>\n",
       "      <td>a</td>\n",
       "      <td>ADO</td>\n",
       "    </tr>\n",
       "    <tr>\n",
       "      <th>633</th>\n",
       "      <td>a(ADO:\"alpha-soluble amyloid precursor protein\")</td>\n",
       "      <td>a</td>\n",
       "      <td>ADO</td>\n",
       "    </tr>\n",
       "    <tr>\n",
       "      <th>11554</th>\n",
       "      <td>path(ADO:\"sporadic_Alzheimer\")</td>\n",
       "      <td>path</td>\n",
       "      <td>ADO</td>\n",
       "    </tr>\n",
       "    <tr>\n",
       "      <th>1182</th>\n",
       "      <td>path(ADO:\"Late_Onset_Alzheimer_s_Disease\")</td>\n",
       "      <td>path</td>\n",
       "      <td>ADO</td>\n",
       "    </tr>\n",
       "    <tr>\n",
       "      <th>2399</th>\n",
       "      <td>a(ADO:\"senile_plaque\")</td>\n",
       "      <td>a</td>\n",
       "      <td>ADO</td>\n",
       "    </tr>\n",
       "  </tbody>\n",
       "</table>\n",
       "</div>"
      ],
      "text/plain": [
       "                                                      BEL  func   ns\n",
       "node_id                                                             \n",
       "11524                a(ADO:\"presence_of_neuritic_plaque\")     a  ADO\n",
       "633      a(ADO:\"alpha-soluble amyloid precursor protein\")     a  ADO\n",
       "11554                      path(ADO:\"sporadic_Alzheimer\")  path  ADO\n",
       "1182           path(ADO:\"Late_Onset_Alzheimer_s_Disease\")  path  ADO\n",
       "2399                               a(ADO:\"senile_plaque\")     a  ADO"
      ]
     },
     "execution_count": 33,
     "metadata": {},
     "output_type": "execute_result"
    }
   ],
   "source": [
    "# sort the entire DataFrame by 'ns' Series (returns a DataFrame)\n",
    "df.sort_values('ns').head()"
   ]
  },
  {
   "cell_type": "code",
   "execution_count": 34,
   "metadata": {
    "collapsed": false
   },
   "outputs": [
    {
     "data": {
      "text/html": [
       "<div>\n",
       "<table border=\"1\" class=\"dataframe\">\n",
       "  <thead>\n",
       "    <tr style=\"text-align: right;\">\n",
       "      <th></th>\n",
       "      <th>BEL</th>\n",
       "      <th>func</th>\n",
       "      <th>ns</th>\n",
       "    </tr>\n",
       "    <tr>\n",
       "      <th>node_id</th>\n",
       "      <th></th>\n",
       "      <th></th>\n",
       "      <th></th>\n",
       "    </tr>\n",
       "  </thead>\n",
       "  <tbody>\n",
       "    <tr>\n",
       "      <th>485</th>\n",
       "      <td>rxn(reactants(a(CHEBI:\"sialic acid\")),products...</td>\n",
       "      <td>rxn</td>\n",
       "      <td>NaN</td>\n",
       "    </tr>\n",
       "    <tr>\n",
       "      <th>3139</th>\n",
       "      <td>reaction(reactants(p(SFAM:\"NOTCH Family\")),pro...</td>\n",
       "      <td>reaction</td>\n",
       "      <td>NaN</td>\n",
       "    </tr>\n",
       "    <tr>\n",
       "      <th>11456</th>\n",
       "      <td>reaction(reactants(p(MGI:App)),products(a(\"amy...</td>\n",
       "      <td>reaction</td>\n",
       "      <td>NaN</td>\n",
       "    </tr>\n",
       "    <tr>\n",
       "      <th>11457</th>\n",
       "      <td>reaction(reactants(p(MGI:APP)),products(a(\"amy...</td>\n",
       "      <td>reaction</td>\n",
       "      <td>NaN</td>\n",
       "    </tr>\n",
       "    <tr>\n",
       "      <th>3144</th>\n",
       "      <td>reaction(reactants(p(HGNC:NOTCH4)),products(a(...</td>\n",
       "      <td>reaction</td>\n",
       "      <td>NaN</td>\n",
       "    </tr>\n",
       "  </tbody>\n",
       "</table>\n",
       "</div>"
      ],
      "text/plain": [
       "                                                       BEL      func   ns\n",
       "node_id                                                                  \n",
       "485      rxn(reactants(a(CHEBI:\"sialic acid\")),products...       rxn  NaN\n",
       "3139     reaction(reactants(p(SFAM:\"NOTCH Family\")),pro...  reaction  NaN\n",
       "11456    reaction(reactants(p(MGI:App)),products(a(\"amy...  reaction  NaN\n",
       "11457    reaction(reactants(p(MGI:APP)),products(a(\"amy...  reaction  NaN\n",
       "3144     reaction(reactants(p(HGNC:NOTCH4)),products(a(...  reaction  NaN"
      ]
     },
     "execution_count": 34,
     "metadata": {},
     "output_type": "execute_result"
    }
   ],
   "source": [
    "# sort in descending order instead\n",
    "df.sort_values('BEL', ascending=False).head()"
   ]
  },
  {
   "cell_type": "markdown",
   "metadata": {},
   "source": [
    "Documentation for [**`sort_values`**](http://pandas.pydata.org/pandas-docs/stable/generated/pandas.DataFrame.sort_values.html) for a **DataFrame**. (Prior to version 0.17, use [**`sort`**](http://pandas.pydata.org/pandas-docs/version/0.17.0/generated/pandas.DataFrame.sort.html) instead.)"
   ]
  },
  {
   "cell_type": "code",
   "execution_count": 35,
   "metadata": {
    "collapsed": false
   },
   "outputs": [
    {
     "data": {
      "text/html": [
       "<div>\n",
       "<table border=\"1\" class=\"dataframe\">\n",
       "  <thead>\n",
       "    <tr style=\"text-align: right;\">\n",
       "      <th></th>\n",
       "      <th>BEL</th>\n",
       "      <th>func</th>\n",
       "      <th>ns</th>\n",
       "    </tr>\n",
       "    <tr>\n",
       "      <th>node_id</th>\n",
       "      <th></th>\n",
       "      <th></th>\n",
       "      <th></th>\n",
       "    </tr>\n",
       "  </thead>\n",
       "  <tbody>\n",
       "    <tr>\n",
       "      <th>18</th>\n",
       "      <td>a(ADO:\"Abeta_40\")</td>\n",
       "      <td>a</td>\n",
       "      <td>ADO</td>\n",
       "    </tr>\n",
       "    <tr>\n",
       "      <th>633</th>\n",
       "      <td>a(ADO:\"alpha-soluble amyloid precursor protein\")</td>\n",
       "      <td>a</td>\n",
       "      <td>ADO</td>\n",
       "    </tr>\n",
       "    <tr>\n",
       "      <th>1662</th>\n",
       "      <td>a(ADO:\"amyloid_precursor_protein\")</td>\n",
       "      <td>a</td>\n",
       "      <td>ADO</td>\n",
       "    </tr>\n",
       "    <tr>\n",
       "      <th>1679</th>\n",
       "      <td>a(ADO:\"Abeta_1-40\")</td>\n",
       "      <td>a</td>\n",
       "      <td>ADO</td>\n",
       "    </tr>\n",
       "    <tr>\n",
       "      <th>2361</th>\n",
       "      <td>a(ADO:\"neuroprotectin\")</td>\n",
       "      <td>a</td>\n",
       "      <td>ADO</td>\n",
       "    </tr>\n",
       "  </tbody>\n",
       "</table>\n",
       "</div>"
      ],
      "text/plain": [
       "                                                      BEL func   ns\n",
       "node_id                                                            \n",
       "18                                      a(ADO:\"Abeta_40\")    a  ADO\n",
       "633      a(ADO:\"alpha-soluble amyloid precursor protein\")    a  ADO\n",
       "1662                   a(ADO:\"amyloid_precursor_protein\")    a  ADO\n",
       "1679                                  a(ADO:\"Abeta_1-40\")    a  ADO\n",
       "2361                              a(ADO:\"neuroprotectin\")    a  ADO"
      ]
     },
     "execution_count": 35,
     "metadata": {},
     "output_type": "execute_result"
    }
   ],
   "source": [
    "# sort the DataFrame first by 'content_rating', then by 'duration'\n",
    "df.sort_values(['func', 'ns']).head()"
   ]
  },
  {
   "cell_type": "markdown",
   "metadata": {},
   "source": [
    "[Summary of changes to the sorting API](http://pandas.pydata.org/pandas-docs/stable/whatsnew.html#changes-to-sorting-api) in pandas 0.17\n",
    "\n",
    "[<a href=\"#top\">Back to top</a>]"
   ]
  },
  {
   "cell_type": "markdown",
   "metadata": {},
   "source": [
    "## How do I join DataFrames?"
   ]
  },
  {
   "cell_type": "markdown",
   "metadata": {},
   "source": [
    "**Task**: Load the `networkx` graph and calcualte betweenness centrality for all nodes in my network. We will go more in details about graph algorithms and the graph library networkx later.  "
   ]
  },
  {
   "cell_type": "code",
   "execution_count": 36,
   "metadata": {
    "collapsed": true
   },
   "outputs": [],
   "source": [
    "import networkx as nx\n",
    "import pickle"
   ]
  },
  {
   "cell_type": "code",
   "execution_count": 37,
   "metadata": {
    "collapsed": false
   },
   "outputs": [],
   "source": [
    "graph = pickle.load(open(myDataFolder+'networkx.graph.AD.pickled',\"rb\"))"
   ]
  },
  {
   "cell_type": "markdown",
   "metadata": {},
   "source": [
    "Let's calculate the degree centrality for nodes.\n",
    "\n",
    "The degree centrality for a node v is the fraction of nodes it is connected to.\n",
    "\n",
    "**Notes**\n",
    "\n",
    "The degree centrality values are normalized by dividing by the maximum possible degree in a simple graph n-1 where n is the number of nodes in G.\n",
    "\n",
    "For multigraphs or graphs with self loops the maximum degree might be higher than n-1 and values of degree centrality greater than 1 are possible."
   ]
  },
  {
   "cell_type": "code",
   "execution_count": 38,
   "metadata": {
    "collapsed": false
   },
   "outputs": [
    {
     "data": {
      "text/plain": [
       "dict"
      ]
     },
     "execution_count": 38,
     "metadata": {},
     "output_type": "execute_result"
    }
   ],
   "source": [
    "results = nx.degree_centrality(graph)\n",
    "type(results)"
   ]
  },
  {
   "cell_type": "code",
   "execution_count": 39,
   "metadata": {
    "collapsed": false
   },
   "outputs": [
    {
     "data": {
      "text/plain": [
       "0.00025155123260103975"
      ]
     },
     "execution_count": 39,
     "metadata": {},
     "output_type": "execute_result"
    }
   ],
   "source": [
    "results[1] # degree centrality for node_id 1"
   ]
  },
  {
   "cell_type": "code",
   "execution_count": 40,
   "metadata": {
    "collapsed": false
   },
   "outputs": [
    {
     "data": {
      "text/plain": [
       "BEL     bp(MESHPP:\"Axonal Transport\")\n",
       "func                               bp\n",
       "ns                             MESHPP\n",
       "Name: 11, dtype: object"
      ]
     },
     "execution_count": 40,
     "metadata": {},
     "output_type": "execute_result"
    }
   ],
   "source": [
    "df.iloc[1,:]"
   ]
  },
  {
   "cell_type": "markdown",
   "metadata": {},
   "source": [
    "Now we can easyly create a new dataframe out of it"
   ]
  },
  {
   "cell_type": "code",
   "execution_count": 41,
   "metadata": {
    "collapsed": false
   },
   "outputs": [
    {
     "data": {
      "text/html": [
       "<div>\n",
       "<table border=\"1\" class=\"dataframe\">\n",
       "  <thead>\n",
       "    <tr style=\"text-align: right;\">\n",
       "      <th></th>\n",
       "      <th>node_id</th>\n",
       "      <th>degree_centrality</th>\n",
       "    </tr>\n",
       "  </thead>\n",
       "  <tbody>\n",
       "    <tr>\n",
       "      <th>0</th>\n",
       "      <td>1</td>\n",
       "      <td>0.000252</td>\n",
       "    </tr>\n",
       "  </tbody>\n",
       "</table>\n",
       "</div>"
      ],
      "text/plain": [
       "   node_id  degree_centrality\n",
       "0        1           0.000252"
      ]
     },
     "execution_count": 41,
     "metadata": {},
     "output_type": "execute_result"
    }
   ],
   "source": [
    "cols = ['node_id','degree_centrality']\n",
    "df_degree_centrality = pd.DataFrame(list(results.items()))\n",
    "df_degree_centrality.columns=cols\n",
    "df_degree_centrality.head(1)"
   ]
  },
  {
   "cell_type": "markdown",
   "metadata": {},
   "source": [
    "Because we made many changes we load the node table again"
   ]
  },
  {
   "cell_type": "code",
   "execution_count": 42,
   "metadata": {
    "collapsed": false
   },
   "outputs": [
    {
     "data": {
      "text/html": [
       "<div>\n",
       "<table border=\"1\" class=\"dataframe\">\n",
       "  <thead>\n",
       "    <tr style=\"text-align: right;\">\n",
       "      <th></th>\n",
       "      <th>node_id</th>\n",
       "      <th>BEL</th>\n",
       "      <th>aminoacid_Code_1</th>\n",
       "      <th>aminoacid_Code_2</th>\n",
       "      <th>function</th>\n",
       "      <th>list</th>\n",
       "      <th>modification</th>\n",
       "      <th>namespace</th>\n",
       "      <th>node_id.1</th>\n",
       "      <th>p_modType</th>\n",
       "      <th>position</th>\n",
       "      <th>undefined_namespace</th>\n",
       "      <th>valid_NSV</th>\n",
       "      <th>value</th>\n",
       "    </tr>\n",
       "  </thead>\n",
       "  <tbody>\n",
       "    <tr>\n",
       "      <th>0</th>\n",
       "      <td>1</td>\n",
       "      <td>a(CHEBI:\"gamma-secretase inhibitor\")</td>\n",
       "      <td>NaN</td>\n",
       "      <td>NaN</td>\n",
       "      <td>a</td>\n",
       "      <td>NaN</td>\n",
       "      <td>NaN</td>\n",
       "      <td>CHEBI</td>\n",
       "      <td>1</td>\n",
       "      <td>NaN</td>\n",
       "      <td>NaN</td>\n",
       "      <td>NaN</td>\n",
       "      <td>NaN</td>\n",
       "      <td>gamma-secretase inhibitor</td>\n",
       "    </tr>\n",
       "  </tbody>\n",
       "</table>\n",
       "</div>"
      ],
      "text/plain": [
       "   node_id                                   BEL aminoacid_Code_1  \\\n",
       "0        1  a(CHEBI:\"gamma-secretase inhibitor\")              NaN   \n",
       "\n",
       "  aminoacid_Code_2 function list modification namespace  node_id.1 p_modType  \\\n",
       "0              NaN        a  NaN          NaN     CHEBI          1       NaN   \n",
       "\n",
       "   position undefined_namespace valid_NSV                      value  \n",
       "0       NaN                 NaN       NaN  gamma-secretase inhibitor  "
      ]
     },
     "execution_count": 42,
     "metadata": {},
     "output_type": "execute_result"
    }
   ],
   "source": [
    "df = pd.read_table(pathToFile)\n",
    "df.head(1) # just for remember how nodes in df looks like"
   ]
  },
  {
   "cell_type": "code",
   "execution_count": 43,
   "metadata": {
    "collapsed": false
   },
   "outputs": [
    {
     "data": {
      "text/html": [
       "<div>\n",
       "<table border=\"1\" class=\"dataframe\">\n",
       "  <thead>\n",
       "    <tr style=\"text-align: right;\">\n",
       "      <th></th>\n",
       "      <th>BEL</th>\n",
       "      <th>degree_centrality</th>\n",
       "    </tr>\n",
       "  </thead>\n",
       "  <tbody>\n",
       "    <tr>\n",
       "      <th>0</th>\n",
       "      <td>a(CHEBI:\"gamma-secretase inhibitor\")</td>\n",
       "      <td>0.000252</td>\n",
       "    </tr>\n",
       "    <tr>\n",
       "      <th>1</th>\n",
       "      <td>complex(SCOMP:\"gamma Secretase Complex\")</td>\n",
       "      <td>0.005870</td>\n",
       "    </tr>\n",
       "    <tr>\n",
       "      <th>2</th>\n",
       "      <td>p(HGNC:\"BACE1\")</td>\n",
       "      <td>0.030605</td>\n",
       "    </tr>\n",
       "    <tr>\n",
       "      <th>3</th>\n",
       "      <td>reaction(reactants(p(HGNC:APP)),products(a(ADO...</td>\n",
       "      <td>0.002851</td>\n",
       "    </tr>\n",
       "    <tr>\n",
       "      <th>4</th>\n",
       "      <td>p(HGNC:\"APP\")</td>\n",
       "      <td>0.052239</td>\n",
       "    </tr>\n",
       "  </tbody>\n",
       "</table>\n",
       "</div>"
      ],
      "text/plain": [
       "                                                 BEL  degree_centrality\n",
       "0               a(CHEBI:\"gamma-secretase inhibitor\")           0.000252\n",
       "1           complex(SCOMP:\"gamma Secretase Complex\")           0.005870\n",
       "2                                    p(HGNC:\"BACE1\")           0.030605\n",
       "3  reaction(reactants(p(HGNC:APP)),products(a(ADO...           0.002851\n",
       "4                                      p(HGNC:\"APP\")           0.052239"
      ]
     },
     "execution_count": 43,
     "metadata": {},
     "output_type": "execute_result"
    }
   ],
   "source": [
    "df_merged = df.merge(df_degree_centrality, on='node_id')\n",
    "df_merged[['BEL','degree_centrality']].head()"
   ]
  },
  {
   "cell_type": "code",
   "execution_count": 44,
   "metadata": {
    "collapsed": false
   },
   "outputs": [
    {
     "data": {
      "text/html": [
       "<div>\n",
       "<table border=\"1\" class=\"dataframe\">\n",
       "  <thead>\n",
       "    <tr style=\"text-align: right;\">\n",
       "      <th></th>\n",
       "      <th>degree_centrality</th>\n",
       "    </tr>\n",
       "  </thead>\n",
       "  <tbody>\n",
       "    <tr>\n",
       "      <th>count</th>\n",
       "      <td>11927.000000</td>\n",
       "    </tr>\n",
       "    <tr>\n",
       "      <th>mean</th>\n",
       "      <td>0.000835</td>\n",
       "    </tr>\n",
       "    <tr>\n",
       "      <th>std</th>\n",
       "      <td>0.010714</td>\n",
       "    </tr>\n",
       "    <tr>\n",
       "      <th>min</th>\n",
       "      <td>0.000000</td>\n",
       "    </tr>\n",
       "    <tr>\n",
       "      <th>25%</th>\n",
       "      <td>0.000084</td>\n",
       "    </tr>\n",
       "    <tr>\n",
       "      <th>50%</th>\n",
       "      <td>0.000168</td>\n",
       "    </tr>\n",
       "    <tr>\n",
       "      <th>75%</th>\n",
       "      <td>0.000419</td>\n",
       "    </tr>\n",
       "    <tr>\n",
       "      <th>max</th>\n",
       "      <td>0.875147</td>\n",
       "    </tr>\n",
       "  </tbody>\n",
       "</table>\n",
       "</div>"
      ],
      "text/plain": [
       "       degree_centrality\n",
       "count       11927.000000\n",
       "mean            0.000835\n",
       "std             0.010714\n",
       "min             0.000000\n",
       "25%             0.000084\n",
       "50%             0.000168\n",
       "75%             0.000419\n",
       "max             0.875147"
      ]
     },
     "execution_count": 44,
     "metadata": {},
     "output_type": "execute_result"
    }
   ],
   "source": [
    "df_merged[['BEL','degree_centrality']].describe()"
   ]
  },
  {
   "cell_type": "markdown",
   "metadata": {},
   "source": [
    "Show nodes in the network with the highest degree"
   ]
  },
  {
   "cell_type": "code",
   "execution_count": 45,
   "metadata": {
    "collapsed": false
   },
   "outputs": [
    {
     "data": {
      "text/html": [
       "<div>\n",
       "<table border=\"1\" class=\"dataframe\">\n",
       "  <thead>\n",
       "    <tr style=\"text-align: right;\">\n",
       "      <th></th>\n",
       "      <th>BEL</th>\n",
       "      <th>degree_centrality</th>\n",
       "    </tr>\n",
       "  </thead>\n",
       "  <tbody>\n",
       "    <tr>\n",
       "      <th>5209</th>\n",
       "      <td>a(CHEBI:\"estradiol\")</td>\n",
       "      <td>0.875147</td>\n",
       "    </tr>\n",
       "    <tr>\n",
       "      <th>46</th>\n",
       "      <td>a(CHEBI:\"hydrogen peroxide\")</td>\n",
       "      <td>0.464028</td>\n",
       "    </tr>\n",
       "    <tr>\n",
       "      <th>2875</th>\n",
       "      <td>a(CHEBI:\"resveratrol\")</td>\n",
       "      <td>0.378417</td>\n",
       "    </tr>\n",
       "    <tr>\n",
       "      <th>6</th>\n",
       "      <td>path(MESHD:\"Alzheimer Disease\")</td>\n",
       "      <td>0.184722</td>\n",
       "    </tr>\n",
       "    <tr>\n",
       "      <th>1917</th>\n",
       "      <td>a(CHEBI:\"vitamin E\")</td>\n",
       "      <td>0.181788</td>\n",
       "    </tr>\n",
       "  </tbody>\n",
       "</table>\n",
       "</div>"
      ],
      "text/plain": [
       "                                  BEL  degree_centrality\n",
       "5209             a(CHEBI:\"estradiol\")           0.875147\n",
       "46       a(CHEBI:\"hydrogen peroxide\")           0.464028\n",
       "2875           a(CHEBI:\"resveratrol\")           0.378417\n",
       "6     path(MESHD:\"Alzheimer Disease\")           0.184722\n",
       "1917             a(CHEBI:\"vitamin E\")           0.181788"
      ]
     },
     "execution_count": 45,
     "metadata": {},
     "output_type": "execute_result"
    }
   ],
   "source": [
    "df_merged.sort_values(by='degree_centrality',ascending=False)[['BEL','degree_centrality']].head()"
   ]
  },
  {
   "cell_type": "markdown",
   "metadata": {},
   "source": [
    "## How do I filter rows of a pandas DataFrame by column value?"
   ]
  },
  {
   "cell_type": "markdown",
   "metadata": {},
   "source": [
    "**Goal:** Filter the DataFrame rows to only show nodes with a 'degree_centrality' of greater than 0.02 degree_centrality."
   ]
  },
  {
   "cell_type": "code",
   "execution_count": 46,
   "metadata": {
    "collapsed": false
   },
   "outputs": [],
   "source": [
    "# create a list in which each element refers to a DataFrame row: True if the row satisfies the condition, False otherwise\n",
    "booleans = []\n",
    "for degree_centrality in df_merged.degree_centrality:\n",
    "    if degree_centrality >= 0.06:\n",
    "        booleans.append(True)\n",
    "    else:\n",
    "        booleans.append(False)"
   ]
  },
  {
   "cell_type": "code",
   "execution_count": 47,
   "metadata": {
    "collapsed": false
   },
   "outputs": [
    {
     "data": {
      "text/plain": [
       "11927"
      ]
     },
     "execution_count": 47,
     "metadata": {},
     "output_type": "execute_result"
    }
   ],
   "source": [
    "# confirm that the list has the same length as the DataFrame\n",
    "len(booleans)"
   ]
  },
  {
   "cell_type": "code",
   "execution_count": 48,
   "metadata": {
    "collapsed": false
   },
   "outputs": [
    {
     "data": {
      "text/plain": [
       "[False, False, False, False, False, True, True, False, False, False]"
      ]
     },
     "execution_count": 48,
     "metadata": {},
     "output_type": "execute_result"
    }
   ],
   "source": [
    "# examine the first five list elements\n",
    "booleans[0:10]"
   ]
  },
  {
   "cell_type": "code",
   "execution_count": 49,
   "metadata": {
    "collapsed": false
   },
   "outputs": [
    {
     "data": {
      "text/plain": [
       "0    False\n",
       "1    False\n",
       "2    False\n",
       "3    False\n",
       "4    False\n",
       "dtype: bool"
      ]
     },
     "execution_count": 49,
     "metadata": {},
     "output_type": "execute_result"
    }
   ],
   "source": [
    "# convert the list to a Series\n",
    "degreeIsGreaterThan = pd.Series(booleans)\n",
    "degreeIsGreaterThan.head()"
   ]
  },
  {
   "cell_type": "code",
   "execution_count": 50,
   "metadata": {
    "collapsed": false
   },
   "outputs": [
    {
     "data": {
      "text/html": [
       "<div>\n",
       "<table border=\"1\" class=\"dataframe\">\n",
       "  <thead>\n",
       "    <tr style=\"text-align: right;\">\n",
       "      <th></th>\n",
       "      <th>node_id</th>\n",
       "      <th>BEL</th>\n",
       "      <th>aminoacid_Code_1</th>\n",
       "      <th>aminoacid_Code_2</th>\n",
       "      <th>function</th>\n",
       "      <th>list</th>\n",
       "      <th>modification</th>\n",
       "      <th>namespace</th>\n",
       "      <th>node_id.1</th>\n",
       "      <th>p_modType</th>\n",
       "      <th>position</th>\n",
       "      <th>undefined_namespace</th>\n",
       "      <th>valid_NSV</th>\n",
       "      <th>value</th>\n",
       "      <th>degree_centrality</th>\n",
       "    </tr>\n",
       "  </thead>\n",
       "  <tbody>\n",
       "    <tr>\n",
       "      <th>5</th>\n",
       "      <td>6</td>\n",
       "      <td>a(ADO:\"Abeta_42\")</td>\n",
       "      <td>NaN</td>\n",
       "      <td>NaN</td>\n",
       "      <td>a</td>\n",
       "      <td>NaN</td>\n",
       "      <td>NaN</td>\n",
       "      <td>ADO</td>\n",
       "      <td>6</td>\n",
       "      <td>NaN</td>\n",
       "      <td>NaN</td>\n",
       "      <td>NaN</td>\n",
       "      <td>True</td>\n",
       "      <td>Abeta_42</td>\n",
       "      <td>0.084186</td>\n",
       "    </tr>\n",
       "    <tr>\n",
       "      <th>6</th>\n",
       "      <td>7</td>\n",
       "      <td>path(MESHD:\"Alzheimer Disease\")</td>\n",
       "      <td>NaN</td>\n",
       "      <td>NaN</td>\n",
       "      <td>path</td>\n",
       "      <td>NaN</td>\n",
       "      <td>NaN</td>\n",
       "      <td>MESHD</td>\n",
       "      <td>7</td>\n",
       "      <td>NaN</td>\n",
       "      <td>NaN</td>\n",
       "      <td>NaN</td>\n",
       "      <td>True</td>\n",
       "      <td>Alzheimer Disease</td>\n",
       "      <td>0.184722</td>\n",
       "    </tr>\n",
       "    <tr>\n",
       "      <th>46</th>\n",
       "      <td>47</td>\n",
       "      <td>a(CHEBI:\"hydrogen peroxide\")</td>\n",
       "      <td>NaN</td>\n",
       "      <td>NaN</td>\n",
       "      <td>a</td>\n",
       "      <td>NaN</td>\n",
       "      <td>NaN</td>\n",
       "      <td>CHEBI</td>\n",
       "      <td>47</td>\n",
       "      <td>NaN</td>\n",
       "      <td>NaN</td>\n",
       "      <td>NaN</td>\n",
       "      <td>True</td>\n",
       "      <td>hydrogen peroxide</td>\n",
       "      <td>0.464028</td>\n",
       "    </tr>\n",
       "    <tr>\n",
       "      <th>66</th>\n",
       "      <td>67</td>\n",
       "      <td>a(CHEBI:\"nitric oxide\")</td>\n",
       "      <td>NaN</td>\n",
       "      <td>NaN</td>\n",
       "      <td>a</td>\n",
       "      <td>NaN</td>\n",
       "      <td>NaN</td>\n",
       "      <td>CHEBI</td>\n",
       "      <td>67</td>\n",
       "      <td>NaN</td>\n",
       "      <td>NaN</td>\n",
       "      <td>NaN</td>\n",
       "      <td>True</td>\n",
       "      <td>nitric oxide</td>\n",
       "      <td>0.068338</td>\n",
       "    </tr>\n",
       "    <tr>\n",
       "      <th>1917</th>\n",
       "      <td>1918</td>\n",
       "      <td>a(CHEBI:\"vitamin E\")</td>\n",
       "      <td>NaN</td>\n",
       "      <td>NaN</td>\n",
       "      <td>a</td>\n",
       "      <td>NaN</td>\n",
       "      <td>NaN</td>\n",
       "      <td>CHEBI</td>\n",
       "      <td>1918</td>\n",
       "      <td>NaN</td>\n",
       "      <td>NaN</td>\n",
       "      <td>NaN</td>\n",
       "      <td>True</td>\n",
       "      <td>vitamin E</td>\n",
       "      <td>0.181788</td>\n",
       "    </tr>\n",
       "    <tr>\n",
       "      <th>2875</th>\n",
       "      <td>2876</td>\n",
       "      <td>a(CHEBI:\"resveratrol\")</td>\n",
       "      <td>NaN</td>\n",
       "      <td>NaN</td>\n",
       "      <td>a</td>\n",
       "      <td>NaN</td>\n",
       "      <td>NaN</td>\n",
       "      <td>CHEBI</td>\n",
       "      <td>2876</td>\n",
       "      <td>NaN</td>\n",
       "      <td>NaN</td>\n",
       "      <td>NaN</td>\n",
       "      <td>True</td>\n",
       "      <td>resveratrol</td>\n",
       "      <td>0.378417</td>\n",
       "    </tr>\n",
       "    <tr>\n",
       "      <th>2876</th>\n",
       "      <td>2877</td>\n",
       "      <td>a(CHEBI:\"raloxifene\")</td>\n",
       "      <td>NaN</td>\n",
       "      <td>NaN</td>\n",
       "      <td>a</td>\n",
       "      <td>NaN</td>\n",
       "      <td>NaN</td>\n",
       "      <td>CHEBI</td>\n",
       "      <td>2877</td>\n",
       "      <td>NaN</td>\n",
       "      <td>NaN</td>\n",
       "      <td>NaN</td>\n",
       "      <td>True</td>\n",
       "      <td>raloxifene</td>\n",
       "      <td>0.117894</td>\n",
       "    </tr>\n",
       "    <tr>\n",
       "      <th>3764</th>\n",
       "      <td>3765</td>\n",
       "      <td>a(CHEBI:\"choline\")</td>\n",
       "      <td>NaN</td>\n",
       "      <td>NaN</td>\n",
       "      <td>a</td>\n",
       "      <td>NaN</td>\n",
       "      <td>NaN</td>\n",
       "      <td>CHEBI</td>\n",
       "      <td>3765</td>\n",
       "      <td>NaN</td>\n",
       "      <td>NaN</td>\n",
       "      <td>NaN</td>\n",
       "      <td>True</td>\n",
       "      <td>choline</td>\n",
       "      <td>0.102968</td>\n",
       "    </tr>\n",
       "    <tr>\n",
       "      <th>4321</th>\n",
       "      <td>4322</td>\n",
       "      <td>a(CHEBI:\"copper sulphate(5.H2O)\")</td>\n",
       "      <td>NaN</td>\n",
       "      <td>NaN</td>\n",
       "      <td>a</td>\n",
       "      <td>NaN</td>\n",
       "      <td>NaN</td>\n",
       "      <td>CHEBI</td>\n",
       "      <td>4322</td>\n",
       "      <td>NaN</td>\n",
       "      <td>NaN</td>\n",
       "      <td>NaN</td>\n",
       "      <td>True</td>\n",
       "      <td>copper sulphate(5.H2O)</td>\n",
       "      <td>0.078568</td>\n",
       "    </tr>\n",
       "    <tr>\n",
       "      <th>4896</th>\n",
       "      <td>4897</td>\n",
       "      <td>a(CHEBI:\"curcumin\")</td>\n",
       "      <td>NaN</td>\n",
       "      <td>NaN</td>\n",
       "      <td>a</td>\n",
       "      <td>NaN</td>\n",
       "      <td>NaN</td>\n",
       "      <td>CHEBI</td>\n",
       "      <td>4897</td>\n",
       "      <td>NaN</td>\n",
       "      <td>NaN</td>\n",
       "      <td>NaN</td>\n",
       "      <td>True</td>\n",
       "      <td>curcumin</td>\n",
       "      <td>0.139779</td>\n",
       "    </tr>\n",
       "    <tr>\n",
       "      <th>5209</th>\n",
       "      <td>5210</td>\n",
       "      <td>a(CHEBI:\"estradiol\")</td>\n",
       "      <td>NaN</td>\n",
       "      <td>NaN</td>\n",
       "      <td>a</td>\n",
       "      <td>NaN</td>\n",
       "      <td>NaN</td>\n",
       "      <td>CHEBI</td>\n",
       "      <td>5210</td>\n",
       "      <td>NaN</td>\n",
       "      <td>NaN</td>\n",
       "      <td>NaN</td>\n",
       "      <td>True</td>\n",
       "      <td>estradiol</td>\n",
       "      <td>0.875147</td>\n",
       "    </tr>\n",
       "    <tr>\n",
       "      <th>6891</th>\n",
       "      <td>6892</td>\n",
       "      <td>a(CHEBI:\"Folic Acid\")</td>\n",
       "      <td>NaN</td>\n",
       "      <td>NaN</td>\n",
       "      <td>a</td>\n",
       "      <td>NaN</td>\n",
       "      <td>NaN</td>\n",
       "      <td>CHEBI</td>\n",
       "      <td>6892</td>\n",
       "      <td>NaN</td>\n",
       "      <td>NaN</td>\n",
       "      <td>NaN</td>\n",
       "      <td>NaN</td>\n",
       "      <td>folic acid</td>\n",
       "      <td>0.130890</td>\n",
       "    </tr>\n",
       "    <tr>\n",
       "      <th>8483</th>\n",
       "      <td>8484</td>\n",
       "      <td>a(CHEBI:\"indomethacin\")</td>\n",
       "      <td>NaN</td>\n",
       "      <td>NaN</td>\n",
       "      <td>a</td>\n",
       "      <td>NaN</td>\n",
       "      <td>NaN</td>\n",
       "      <td>CHEBI</td>\n",
       "      <td>8484</td>\n",
       "      <td>NaN</td>\n",
       "      <td>NaN</td>\n",
       "      <td>NaN</td>\n",
       "      <td>NaN</td>\n",
       "      <td>indomethacin</td>\n",
       "      <td>0.091397</td>\n",
       "    </tr>\n",
       "    <tr>\n",
       "      <th>8595</th>\n",
       "      <td>8596</td>\n",
       "      <td>a(CHEBI:\"isotretinoin\")</td>\n",
       "      <td>NaN</td>\n",
       "      <td>NaN</td>\n",
       "      <td>a</td>\n",
       "      <td>NaN</td>\n",
       "      <td>NaN</td>\n",
       "      <td>CHEBI</td>\n",
       "      <td>8596</td>\n",
       "      <td>NaN</td>\n",
       "      <td>NaN</td>\n",
       "      <td>NaN</td>\n",
       "      <td>True</td>\n",
       "      <td>isotretinoin</td>\n",
       "      <td>0.071860</td>\n",
       "    </tr>\n",
       "    <tr>\n",
       "      <th>9333</th>\n",
       "      <td>9334</td>\n",
       "      <td>a(CHEBI:\"prazosin\")</td>\n",
       "      <td>NaN</td>\n",
       "      <td>NaN</td>\n",
       "      <td>a</td>\n",
       "      <td>NaN</td>\n",
       "      <td>NaN</td>\n",
       "      <td>CHEBI</td>\n",
       "      <td>9334</td>\n",
       "      <td>NaN</td>\n",
       "      <td>NaN</td>\n",
       "      <td>NaN</td>\n",
       "      <td>True</td>\n",
       "      <td>prazosin</td>\n",
       "      <td>0.060959</td>\n",
       "    </tr>\n",
       "    <tr>\n",
       "      <th>9718</th>\n",
       "      <td>9719</td>\n",
       "      <td>a(CHEBI:\"rosiglitazone\")</td>\n",
       "      <td>NaN</td>\n",
       "      <td>NaN</td>\n",
       "      <td>a</td>\n",
       "      <td>NaN</td>\n",
       "      <td>NaN</td>\n",
       "      <td>CHEBI</td>\n",
       "      <td>9719</td>\n",
       "      <td>NaN</td>\n",
       "      <td>NaN</td>\n",
       "      <td>NaN</td>\n",
       "      <td>True</td>\n",
       "      <td>rosiglitazone</td>\n",
       "      <td>0.155459</td>\n",
       "    </tr>\n",
       "    <tr>\n",
       "      <th>9923</th>\n",
       "      <td>9924</td>\n",
       "      <td>a(CHEBI:\"simvastatin\")</td>\n",
       "      <td>NaN</td>\n",
       "      <td>NaN</td>\n",
       "      <td>a</td>\n",
       "      <td>NaN</td>\n",
       "      <td>NaN</td>\n",
       "      <td>CHEBI</td>\n",
       "      <td>9924</td>\n",
       "      <td>NaN</td>\n",
       "      <td>NaN</td>\n",
       "      <td>NaN</td>\n",
       "      <td>True</td>\n",
       "      <td>simvastatin</td>\n",
       "      <td>0.108586</td>\n",
       "    </tr>\n",
       "  </tbody>\n",
       "</table>\n",
       "</div>"
      ],
      "text/plain": [
       "      node_id                                BEL aminoacid_Code_1  \\\n",
       "5           6                  a(ADO:\"Abeta_42\")              NaN   \n",
       "6           7    path(MESHD:\"Alzheimer Disease\")              NaN   \n",
       "46         47       a(CHEBI:\"hydrogen peroxide\")              NaN   \n",
       "66         67            a(CHEBI:\"nitric oxide\")              NaN   \n",
       "1917     1918               a(CHEBI:\"vitamin E\")              NaN   \n",
       "2875     2876             a(CHEBI:\"resveratrol\")              NaN   \n",
       "2876     2877              a(CHEBI:\"raloxifene\")              NaN   \n",
       "3764     3765                 a(CHEBI:\"choline\")              NaN   \n",
       "4321     4322  a(CHEBI:\"copper sulphate(5.H2O)\")              NaN   \n",
       "4896     4897                a(CHEBI:\"curcumin\")              NaN   \n",
       "5209     5210               a(CHEBI:\"estradiol\")              NaN   \n",
       "6891     6892              a(CHEBI:\"Folic Acid\")              NaN   \n",
       "8483     8484            a(CHEBI:\"indomethacin\")              NaN   \n",
       "8595     8596            a(CHEBI:\"isotretinoin\")              NaN   \n",
       "9333     9334                a(CHEBI:\"prazosin\")              NaN   \n",
       "9718     9719           a(CHEBI:\"rosiglitazone\")              NaN   \n",
       "9923     9924             a(CHEBI:\"simvastatin\")              NaN   \n",
       "\n",
       "     aminoacid_Code_2 function list modification namespace  node_id.1  \\\n",
       "5                 NaN        a  NaN          NaN       ADO          6   \n",
       "6                 NaN     path  NaN          NaN     MESHD          7   \n",
       "46                NaN        a  NaN          NaN     CHEBI         47   \n",
       "66                NaN        a  NaN          NaN     CHEBI         67   \n",
       "1917              NaN        a  NaN          NaN     CHEBI       1918   \n",
       "2875              NaN        a  NaN          NaN     CHEBI       2876   \n",
       "2876              NaN        a  NaN          NaN     CHEBI       2877   \n",
       "3764              NaN        a  NaN          NaN     CHEBI       3765   \n",
       "4321              NaN        a  NaN          NaN     CHEBI       4322   \n",
       "4896              NaN        a  NaN          NaN     CHEBI       4897   \n",
       "5209              NaN        a  NaN          NaN     CHEBI       5210   \n",
       "6891              NaN        a  NaN          NaN     CHEBI       6892   \n",
       "8483              NaN        a  NaN          NaN     CHEBI       8484   \n",
       "8595              NaN        a  NaN          NaN     CHEBI       8596   \n",
       "9333              NaN        a  NaN          NaN     CHEBI       9334   \n",
       "9718              NaN        a  NaN          NaN     CHEBI       9719   \n",
       "9923              NaN        a  NaN          NaN     CHEBI       9924   \n",
       "\n",
       "     p_modType  position undefined_namespace valid_NSV  \\\n",
       "5          NaN       NaN                 NaN      True   \n",
       "6          NaN       NaN                 NaN      True   \n",
       "46         NaN       NaN                 NaN      True   \n",
       "66         NaN       NaN                 NaN      True   \n",
       "1917       NaN       NaN                 NaN      True   \n",
       "2875       NaN       NaN                 NaN      True   \n",
       "2876       NaN       NaN                 NaN      True   \n",
       "3764       NaN       NaN                 NaN      True   \n",
       "4321       NaN       NaN                 NaN      True   \n",
       "4896       NaN       NaN                 NaN      True   \n",
       "5209       NaN       NaN                 NaN      True   \n",
       "6891       NaN       NaN                 NaN       NaN   \n",
       "8483       NaN       NaN                 NaN       NaN   \n",
       "8595       NaN       NaN                 NaN      True   \n",
       "9333       NaN       NaN                 NaN      True   \n",
       "9718       NaN       NaN                 NaN      True   \n",
       "9923       NaN       NaN                 NaN      True   \n",
       "\n",
       "                       value  degree_centrality  \n",
       "5                   Abeta_42           0.084186  \n",
       "6          Alzheimer Disease           0.184722  \n",
       "46         hydrogen peroxide           0.464028  \n",
       "66              nitric oxide           0.068338  \n",
       "1917               vitamin E           0.181788  \n",
       "2875             resveratrol           0.378417  \n",
       "2876              raloxifene           0.117894  \n",
       "3764                 choline           0.102968  \n",
       "4321  copper sulphate(5.H2O)           0.078568  \n",
       "4896                curcumin           0.139779  \n",
       "5209               estradiol           0.875147  \n",
       "6891              folic acid           0.130890  \n",
       "8483            indomethacin           0.091397  \n",
       "8595            isotretinoin           0.071860  \n",
       "9333                prazosin           0.060959  \n",
       "9718           rosiglitazone           0.155459  \n",
       "9923             simvastatin           0.108586  "
      ]
     },
     "execution_count": 50,
     "metadata": {},
     "output_type": "execute_result"
    }
   ],
   "source": [
    "# use bracket notation with the boolean Series to tell the DataFrame which rows to display\n",
    "df_merged[degreeIsGreaterThan]"
   ]
  },
  {
   "cell_type": "code",
   "execution_count": 51,
   "metadata": {
    "collapsed": false
   },
   "outputs": [
    {
     "data": {
      "text/html": [
       "<div>\n",
       "<table border=\"1\" class=\"dataframe\">\n",
       "  <thead>\n",
       "    <tr style=\"text-align: right;\">\n",
       "      <th></th>\n",
       "      <th>BEL</th>\n",
       "    </tr>\n",
       "  </thead>\n",
       "  <tbody>\n",
       "    <tr>\n",
       "      <th>5</th>\n",
       "      <td>a(ADO:\"Abeta_42\")</td>\n",
       "    </tr>\n",
       "    <tr>\n",
       "      <th>6</th>\n",
       "      <td>path(MESHD:\"Alzheimer Disease\")</td>\n",
       "    </tr>\n",
       "    <tr>\n",
       "      <th>46</th>\n",
       "      <td>a(CHEBI:\"hydrogen peroxide\")</td>\n",
       "    </tr>\n",
       "    <tr>\n",
       "      <th>66</th>\n",
       "      <td>a(CHEBI:\"nitric oxide\")</td>\n",
       "    </tr>\n",
       "    <tr>\n",
       "      <th>1917</th>\n",
       "      <td>a(CHEBI:\"vitamin E\")</td>\n",
       "    </tr>\n",
       "    <tr>\n",
       "      <th>2875</th>\n",
       "      <td>a(CHEBI:\"resveratrol\")</td>\n",
       "    </tr>\n",
       "    <tr>\n",
       "      <th>2876</th>\n",
       "      <td>a(CHEBI:\"raloxifene\")</td>\n",
       "    </tr>\n",
       "    <tr>\n",
       "      <th>3764</th>\n",
       "      <td>a(CHEBI:\"choline\")</td>\n",
       "    </tr>\n",
       "    <tr>\n",
       "      <th>4321</th>\n",
       "      <td>a(CHEBI:\"copper sulphate(5.H2O)\")</td>\n",
       "    </tr>\n",
       "    <tr>\n",
       "      <th>4896</th>\n",
       "      <td>a(CHEBI:\"curcumin\")</td>\n",
       "    </tr>\n",
       "    <tr>\n",
       "      <th>5209</th>\n",
       "      <td>a(CHEBI:\"estradiol\")</td>\n",
       "    </tr>\n",
       "    <tr>\n",
       "      <th>6891</th>\n",
       "      <td>a(CHEBI:\"Folic Acid\")</td>\n",
       "    </tr>\n",
       "    <tr>\n",
       "      <th>8483</th>\n",
       "      <td>a(CHEBI:\"indomethacin\")</td>\n",
       "    </tr>\n",
       "    <tr>\n",
       "      <th>8595</th>\n",
       "      <td>a(CHEBI:\"isotretinoin\")</td>\n",
       "    </tr>\n",
       "    <tr>\n",
       "      <th>9333</th>\n",
       "      <td>a(CHEBI:\"prazosin\")</td>\n",
       "    </tr>\n",
       "    <tr>\n",
       "      <th>9718</th>\n",
       "      <td>a(CHEBI:\"rosiglitazone\")</td>\n",
       "    </tr>\n",
       "    <tr>\n",
       "      <th>9923</th>\n",
       "      <td>a(CHEBI:\"simvastatin\")</td>\n",
       "    </tr>\n",
       "  </tbody>\n",
       "</table>\n",
       "</div>"
      ],
      "text/plain": [
       "                                    BEL\n",
       "5                     a(ADO:\"Abeta_42\")\n",
       "6       path(MESHD:\"Alzheimer Disease\")\n",
       "46         a(CHEBI:\"hydrogen peroxide\")\n",
       "66              a(CHEBI:\"nitric oxide\")\n",
       "1917               a(CHEBI:\"vitamin E\")\n",
       "2875             a(CHEBI:\"resveratrol\")\n",
       "2876              a(CHEBI:\"raloxifene\")\n",
       "3764                 a(CHEBI:\"choline\")\n",
       "4321  a(CHEBI:\"copper sulphate(5.H2O)\")\n",
       "4896                a(CHEBI:\"curcumin\")\n",
       "5209               a(CHEBI:\"estradiol\")\n",
       "6891              a(CHEBI:\"Folic Acid\")\n",
       "8483            a(CHEBI:\"indomethacin\")\n",
       "8595            a(CHEBI:\"isotretinoin\")\n",
       "9333                a(CHEBI:\"prazosin\")\n",
       "9718           a(CHEBI:\"rosiglitazone\")\n",
       "9923             a(CHEBI:\"simvastatin\")"
      ]
     },
     "execution_count": 51,
     "metadata": {},
     "output_type": "execute_result"
    }
   ],
   "source": [
    "# simplify the steps above: no need to write a for loop to create 'degreeIsGreaterThan' \n",
    "#since pandas will broadcast the comparison\n",
    "is_long = df_merged.degree_centrality > 0.06\n",
    "df_merged[is_long]\n",
    "\n",
    "# or equivalently, write it in one line (no need to create the 'degreeIsGreaterThan' object)\n",
    "df_merged.loc[df_merged.degree_centrality > 0.06,['BEL']]"
   ]
  },
  {
   "cell_type": "markdown",
   "metadata": {},
   "source": [
    "Documentation for [**`loc`**](http://pandas.pydata.org/pandas-docs/stable/generated/pandas.DataFrame.loc.html)\n",
    "\n",
    "[<a href=\"#top\">Back to top</a>]"
   ]
  },
  {
   "cell_type": "markdown",
   "metadata": {},
   "source": [
    "## How do I apply multiple filter criteria to a pandas DataFrame?"
   ]
  },
  {
   "cell_type": "markdown",
   "metadata": {},
   "source": [
    "Rules for specifying **multiple filter criteria** in pandas:\n",
    "\n",
    "- use **`&`** instead of **`and`**\n",
    "- use **`|`** instead of **`or`**\n",
    "- add **parentheses** around each condition to specify evaluation order"
   ]
  },
  {
   "cell_type": "markdown",
   "metadata": {},
   "source": [
    "**Goal:** Further filter the DataFrame degree_centrality greater than 0.01 and a Protein"
   ]
  },
  {
   "cell_type": "code",
   "execution_count": 52,
   "metadata": {
    "collapsed": false
   },
   "outputs": [
    {
     "data": {
      "image/png": "[encoded data removed]",
      "text/plain": [
       "<matplotlib.figure.Figure at 0x7f2abd317358>"
      ]
     },
     "metadata": {},
     "output_type": "display_data"
    }
   ],
   "source": [
    "df_merged[(df_merged.degree_centrality > 0.01) & (df_merged.function=='p')].degree_centrality.hist(log=True)\n",
    "None"
   ]
  },
  {
   "cell_type": "markdown",
   "metadata": {},
   "source": [
    "[<a href=\"#top\">Back to top</a>]"
   ]
  },
  {
   "cell_type": "markdown",
   "metadata": {},
   "source": [
    "## How do I read in only a subset of the rows?"
   ]
  },
  {
   "cell_type": "code",
   "execution_count": 54,
   "metadata": {
    "collapsed": false
   },
   "outputs": [
    {
     "data": {
      "text/html": [
       "<div>\n",
       "<table border=\"1\" class=\"dataframe\">\n",
       "  <thead>\n",
       "    <tr style=\"text-align: right;\">\n",
       "      <th></th>\n",
       "      <th>node_id</th>\n",
       "      <th>BEL</th>\n",
       "      <th>aminoacid_Code_1</th>\n",
       "      <th>aminoacid_Code_2</th>\n",
       "      <th>function</th>\n",
       "      <th>list</th>\n",
       "      <th>modification</th>\n",
       "      <th>namespace</th>\n",
       "      <th>node_id.1</th>\n",
       "      <th>p_modType</th>\n",
       "      <th>position</th>\n",
       "      <th>undefined_namespace</th>\n",
       "      <th>valid_NSV</th>\n",
       "      <th>value</th>\n",
       "    </tr>\n",
       "  </thead>\n",
       "  <tbody>\n",
       "    <tr>\n",
       "      <th>0</th>\n",
       "      <td>1</td>\n",
       "      <td>a(CHEBI:\"gamma-secretase inhibitor\")</td>\n",
       "      <td>NaN</td>\n",
       "      <td>NaN</td>\n",
       "      <td>a</td>\n",
       "      <td>NaN</td>\n",
       "      <td>NaN</td>\n",
       "      <td>CHEBI</td>\n",
       "      <td>1</td>\n",
       "      <td>NaN</td>\n",
       "      <td>NaN</td>\n",
       "      <td>NaN</td>\n",
       "      <td>NaN</td>\n",
       "      <td>gamma-secretase inhibitor</td>\n",
       "    </tr>\n",
       "    <tr>\n",
       "      <th>1</th>\n",
       "      <td>2</td>\n",
       "      <td>complex(SCOMP:\"gamma Secretase Complex\")</td>\n",
       "      <td>NaN</td>\n",
       "      <td>NaN</td>\n",
       "      <td>complex</td>\n",
       "      <td>NaN</td>\n",
       "      <td>NaN</td>\n",
       "      <td>SCOMP</td>\n",
       "      <td>2</td>\n",
       "      <td>NaN</td>\n",
       "      <td>NaN</td>\n",
       "      <td>NaN</td>\n",
       "      <td>NaN</td>\n",
       "      <td>\"gamma Secretase Complex\"</td>\n",
       "    </tr>\n",
       "    <tr>\n",
       "      <th>2</th>\n",
       "      <td>3</td>\n",
       "      <td>p(HGNC:\"BACE1\")</td>\n",
       "      <td>NaN</td>\n",
       "      <td>NaN</td>\n",
       "      <td>p</td>\n",
       "      <td>NaN</td>\n",
       "      <td>NaN</td>\n",
       "      <td>HGNC</td>\n",
       "      <td>3</td>\n",
       "      <td>NaN</td>\n",
       "      <td>NaN</td>\n",
       "      <td>NaN</td>\n",
       "      <td>True</td>\n",
       "      <td>BACE1</td>\n",
       "    </tr>\n",
       "  </tbody>\n",
       "</table>\n",
       "</div>"
      ],
      "text/plain": [
       "   node_id                                       BEL  aminoacid_Code_1  \\\n",
       "0        1      a(CHEBI:\"gamma-secretase inhibitor\")               NaN   \n",
       "1        2  complex(SCOMP:\"gamma Secretase Complex\")               NaN   \n",
       "2        3                           p(HGNC:\"BACE1\")               NaN   \n",
       "\n",
       "   aminoacid_Code_2 function  list  modification namespace  node_id.1  \\\n",
       "0               NaN        a   NaN           NaN     CHEBI          1   \n",
       "1               NaN  complex   NaN           NaN     SCOMP          2   \n",
       "2               NaN        p   NaN           NaN      HGNC          3   \n",
       "\n",
       "   p_modType  position  undefined_namespace valid_NSV  \\\n",
       "0        NaN       NaN                  NaN       NaN   \n",
       "1        NaN       NaN                  NaN       NaN   \n",
       "2        NaN       NaN                  NaN      True   \n",
       "\n",
       "                       value  \n",
       "0  gamma-secretase inhibitor  \n",
       "1  \"gamma Secretase Complex\"  \n",
       "2                      BACE1  "
      ]
     },
     "execution_count": 54,
     "metadata": {},
     "output_type": "execute_result"
    }
   ],
   "source": [
    "# specify how many rows to read\n",
    "df_short = pd.read_table(pathToFile, nrows=3)\n",
    "df_short"
   ]
  },
  {
   "cell_type": "markdown",
   "metadata": {},
   "source": [
    "Documentation for [**`read_csv`**](http://pandas.pydata.org/pandas-docs/stable/generated/pandas.read_csv.html)"
   ]
  },
  {
   "cell_type": "markdown",
   "metadata": {},
   "source": [
    "## How do I iterate through a Series?"
   ]
  },
  {
   "cell_type": "code",
   "execution_count": 55,
   "metadata": {
    "collapsed": false
   },
   "outputs": [
    {
     "name": "stdout",
     "output_type": "stream",
     "text": [
      "a(CHEBI:\"gamma-secretase inhibitor\")\n",
      "complex(SCOMP:\"gamma Secretase Complex\")\n",
      "p(HGNC:\"BACE1\")\n"
     ]
    }
   ],
   "source": [
    "# Series are directly iterable (like a list)\n",
    "for bel in df_short.BEL:\n",
    "    print(bel)"
   ]
  },
  {
   "cell_type": "markdown",
   "metadata": {},
   "source": [
    "## How do I iterate through a DataFrame?"
   ]
  },
  {
   "cell_type": "code",
   "execution_count": 56,
   "metadata": {
    "collapsed": false
   },
   "outputs": [
    {
     "name": "stdout",
     "output_type": "stream",
     "text": [
      "0 a CHEBI gamma-secretase inhibitor\n",
      "1 complex SCOMP \"gamma Secretase Complex\"\n",
      "2 p HGNC BACE1\n"
     ]
    }
   ],
   "source": [
    "# various methods are available to iterate through a DataFrame\n",
    "for index, row in df_short.iterrows():\n",
    "    print(index, row.function, row.namespace, row.value)"
   ]
  },
  {
   "cell_type": "markdown",
   "metadata": {},
   "source": [
    "Documentation for [**`iterrows`**](http://pandas.pydata.org/pandas-docs/stable/generated/pandas.DataFrame.iterrows.html)"
   ]
  },
  {
   "cell_type": "markdown",
   "metadata": {},
   "source": [
    "## How do I drop all non-numeric columns from a DataFrame?"
   ]
  },
  {
   "cell_type": "code",
   "execution_count": 63,
   "metadata": {
    "collapsed": false
   },
   "outputs": [
    {
     "data": {
      "text/plain": [
       "country                          object\n",
       "beer_servings                     int64\n",
       "spirit_servings                   int64\n",
       "wine_servings                     int64\n",
       "total_litres_of_pure_alcohol    float64\n",
       "continent                        object\n",
       "dtype: object"
      ]
     },
     "execution_count": 63,
     "metadata": {},
     "output_type": "execute_result"
    }
   ],
   "source": [
    "# read a dataset into a DataFrame, and check the data types\n",
    "drinks = pd.read_csv('http://bit.ly/drinksbycountry')\n",
    "drinks.dtypes"
   ]
  },
  {
   "cell_type": "code",
   "execution_count": 64,
   "metadata": {
    "collapsed": false
   },
   "outputs": [
    {
     "data": {
      "text/plain": [
       "beer_servings                     int64\n",
       "spirit_servings                   int64\n",
       "wine_servings                     int64\n",
       "total_litres_of_pure_alcohol    float64\n",
       "dtype: object"
      ]
     },
     "execution_count": 64,
     "metadata": {},
     "output_type": "execute_result"
    }
   ],
   "source": [
    "# only include numeric columns in the DataFrame\n",
    "import numpy as np\n",
    "drinks.select_dtypes(include=[np.number]).dtypes"
   ]
  },
  {
   "cell_type": "markdown",
   "metadata": {},
   "source": [
    "Documentation for [**`select_dtypes`**](http://pandas.pydata.org/pandas-docs/stable/generated/pandas.DataFrame.select_dtypes.html)"
   ]
  }
 ],
 "metadata": {
  "kernelspec": {
   "display_name": "Python 3",
   "language": "python",
   "name": "python3"
  },
  "language_info": {
   "codemirror_mode": {
    "name": "ipython",
    "version": 3
   },
   "file_extension": ".py",
   "mimetype": "text/x-python",
   "name": "python",
   "nbconvert_exporter": "python",
   "pygments_lexer": "ipython3",
   "version": "3.5.2"
  }
 },
 "nbformat": 4,
 "nbformat_minor": 0
}
