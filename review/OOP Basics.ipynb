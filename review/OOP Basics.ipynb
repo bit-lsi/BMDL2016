{
 "cells": [
  {
   "cell_type": "markdown",
   "metadata": {},
   "source": [
    "# Everything in Python is an Object. Objects are basic building blocks of a Python OOP program.\n",
    "\n",
    "### Example:\n"
   ]
  },
  {
   "cell_type": "code",
   "execution_count": 1,
   "metadata": {
    "collapsed": false
   },
   "outputs": [
    {
     "data": {
      "text/plain": [
       "function"
      ]
     },
     "execution_count": 1,
     "metadata": {},
     "output_type": "execute_result"
    }
   ],
   "source": [
    "def my_function(): \n",
    "    pass\n",
    "\n",
    "type(my_function)"
   ]
  },
  {
   "cell_type": "code",
   "execution_count": 2,
   "metadata": {
    "collapsed": false
   },
   "outputs": [
    {
     "data": {
      "text/plain": [
       "int"
      ]
     },
     "execution_count": 2,
     "metadata": {},
     "output_type": "execute_result"
    }
   ],
   "source": [
    "type(1)"
   ]
  },
  {
   "cell_type": "code",
   "execution_count": 3,
   "metadata": {
    "collapsed": false
   },
   "outputs": [
    {
     "data": {
      "text/plain": [
       "str"
      ]
     },
     "execution_count": 3,
     "metadata": {},
     "output_type": "execute_result"
    }
   ],
   "source": [
    "type(\"\")"
   ]
  },
  {
   "cell_type": "code",
   "execution_count": 4,
   "metadata": {
    "collapsed": false
   },
   "outputs": [
    {
     "data": {
      "text/plain": [
       "list"
      ]
     },
     "execution_count": 4,
     "metadata": {},
     "output_type": "execute_result"
    }
   ],
   "source": [
    "type([])"
   ]
  },
  {
   "cell_type": "markdown",
   "metadata": {},
   "source": [
    "# Overview of OOP Terminology\n",
    "\n",
    "### Class: \n",
    "A user-defined prototype for an object that defines a set of attributes that characterize any object of the class.\n",
    "\n",
    "### Instance: \n",
    "An individual object of a certain class. An object obj that belongs to a class Circle, for example, is an instance of the class Circle.\n",
    "\n",
    "### Class variable: \n",
    "A variable that is shared by all instances of a class. Class variables are defined within a class but outside any of the class's methods.\n",
    "\n",
    "### Instance variable: \n",
    "A variable that is defined inside a method and belongs only to the current instance of a class.\n",
    "\n",
    "### Function overloading: \n",
    "The assignment of more than one behavior to a particular function. The operation performed varies by the types of objects or arguments involved.\n",
    "\n",
    "### Inheritance: \n",
    "The transfer of the characteristics of a class to other classes that are derived from it.\n",
    "\n"
   ]
  },
  {
   "cell_type": "markdown",
   "metadata": {},
   "source": [
    "# Creating class and instances \n",
    "\n",
    "Syntax:\n",
    "\n",
    "```\n",
    "class ClassName:\n",
    "    \"\"\"Optional class documentation string\"\"\"\n",
    "   \n",
    "   <members>\n",
    "```\n",
    "\n",
    "example:\n",
    "\n",
    "```python\n",
    "class Employee:\n",
    "\n",
    "    empCount = 0 ### class variable\n",
    "    \n",
    "    def __init__(self, name, salary):\n",
    "      self.name = name\n",
    "      self.salary = salary\n",
    "      \n",
    "    def displayEmployee(self):\n",
    "      print \"Name : \", self.name,  \", Salary: \", self.salary\n",
    "```\n",
    "\n",
    "* `__init__()` - Python doesn't have explicit constructors like C++ or Java, but the __init__() method in Python is something similar, though it is strictly speaking not a constructor. It behaves in many ways like a constructor, e.g. it is the first code which is executed, when a new instance of a class is created.\n",
    "*  used to initialize the instance variables of an object\n",
    "* self --> equivalent to \"this\" in java, points to the current instance\n",
    "* other class methods are declared like normal functions with the exception that the first argument to each method is self.\n",
    "* you do not need to include \"self: when you call the methods.python adds it for you to the parameter list.\n",
    "\n",
    " \n",
    "### This would create first object of Employee class\n",
    "\n",
    "```python\n",
    "emp1 = Employee(\"Zara\", 10000)\n",
    "\n",
    "emp1.displayEmployee() # no need to include self in the parameter list\n",
    "```"
   ]
  },
  {
   "cell_type": "markdown",
   "metadata": {},
   "source": [
    "### More on \"self\" variable :\n",
    "\n",
    "The first argument of every class method, including __init__, is always a reference to the current instance of the class. \n",
    "By convention, this argument is always named self. In the __init__ method, self refers to the newly created object; in other class methods, it refers to the instance whose method was called.\n",
    "\n",
    "consider the following class Bank, that defines what a bank looks like :\n",
    "\n",
    "```python\n",
    "class Bank(): \n",
    "    crisis = False\n",
    "    \n",
    "    def create_atm(self) :\n",
    "        while not self.crisis :\n",
    "            yield \"$100\"\n",
    "```\n",
    "\n",
    "Now Create a bank :\n",
    "\n",
    "```python\n",
    "x = Bank()\n",
    "```\n",
    "\n",
    "`x` is now a bank. `x` has a property crisis and a function create_atm. \n",
    "\n",
    "Calling `x.create_atm()` in python is the same as calling `Bank.create_atm(x)`;\n",
    "\n",
    "so \"self\" in the function definition refers to `x`. If you add another bank called y, calling `y.create_atm()` will know to look at `y`'s value of crisis, not `x`'s since in that function self refers to `y`."
   ]
  },
  {
   "cell_type": "markdown",
   "metadata": {},
   "source": [
    "# Class Inheritance:\n",
    "Syntax:\n",
    "\n",
    "```\n",
    "class SubClassName (ParentClass1[, ParentClass2, ...]):\n",
    "   \"\"\"Optional class documentation string\"\"\"\n",
    "   ...\n",
    "   <members>\n",
    "```"
   ]
  },
  {
   "cell_type": "code",
   "execution_count": 5,
   "metadata": {
    "collapsed": true
   },
   "outputs": [],
   "source": [
    "#example for class inheritance\n",
    "\n",
    "class pet(object):\n",
    "    def __init__(self, name, age, weight, dailytins):\n",
    "        self.tinnies = dailytins\n",
    "        self.name = name\n",
    "        self.age = age\n",
    "        self.weight = weight * 2.2\n",
    "\n",
    "    def getfood(self, days):\n",
    "        return float(self.tinnies * days)\n",
    "\n",
    "    def __str__(self):\n",
    "        return \"Woof says \" + self.name\n",
    "\n",
    "# Subclass - a dog is just like a pet\n",
    "\n",
    "class dog(pet): # child class uses the default implementation from parent class\n",
    "    pass\n"
   ]
  },
  {
   "cell_type": "code",
   "execution_count": 6,
   "metadata": {
    "collapsed": false
   },
   "outputs": [
    {
     "name": "stdout",
     "output_type": "stream",
     "text": [
      "Woof says Gypsy will eat 21.0 tins\n",
      "Woof says Billy will eat 24.5 tins\n"
     ]
    }
   ],
   "source": [
    "team = [\n",
    "    pet(\"Gypsy\", 5, 36, 3),\n",
    "    dog(\"Billy\", 3, 32, 3.5)\n",
    "] # create parent and child objects\n",
    "\n",
    "\n",
    "for hound in team:\n",
    "    tins = hound.getfood(7)\n",
    "    print('{} will eat {} tins'.format(hound, tins))"
   ]
  },
  {
   "cell_type": "markdown",
   "metadata": {},
   "source": [
    "# Overriding Methods :\n",
    "\n",
    "Parent class methods can be overridden in the child to achieve special/different functionality in the subclass.\n",
    "\n",
    "see below for example\n"
   ]
  },
  {
   "cell_type": "code",
   "execution_count": 7,
   "metadata": {
    "collapsed": false
   },
   "outputs": [
    {
     "name": "stdout",
     "output_type": "stream",
     "text": [
      "Calling child method\n"
     ]
    }
   ],
   "source": [
    "class Parent:        # define parent class\n",
    "    def myMethod(self):\n",
    "        print('Calling parent method')\n",
    "\n",
    "class Child(Parent): # define child class\n",
    "    def myMethod(self):\n",
    "        print('Calling child method')\n",
    "\n",
    "c = Child()          # instance of child\n",
    "c.myMethod()         # child calls overridden method"
   ]
  },
  {
   "cell_type": "markdown",
   "metadata": {},
   "source": [
    "# Data Hiding:\n",
    "\n",
    "An object's attributes may or may not be visible outside the class definition. You need to name attributes with a double underscore prefix, and those attributes then are not be directly visible to outsiders.\n",
    "\n",
    "Example:\n"
   ]
  },
  {
   "cell_type": "code",
   "execution_count": 8,
   "metadata": {
    "collapsed": false
   },
   "outputs": [
    {
     "name": "stdout",
     "output_type": "stream",
     "text": [
      "1\n",
      "2\n"
     ]
    }
   ],
   "source": [
    "class Counter:\n",
    "    __secretCount = 0\n",
    "  \n",
    "    def count(self):\n",
    "        self.__secretCount += 1\n",
    "        print(self.__secretCount)\n",
    "\n",
    "obj = Counter()\n",
    "obj.count()\n",
    "obj.count()"
   ]
  },
  {
   "cell_type": "code",
   "execution_count": 9,
   "metadata": {
    "collapsed": false
   },
   "outputs": [
    {
     "name": "stdout",
     "output_type": "stream",
     "text": [
      "'Counter' object has no attribute '__secretCount'\n"
     ]
    }
   ],
   "source": [
    "try:\n",
    "    obj.__secretCount \n",
    "except AttributeError as e:\n",
    "    print(e)"
   ]
  },
  {
   "cell_type": "markdown",
   "metadata": {},
   "source": [
    "You can access such attributes as object._className__attrName.\n",
    "\n",
    "Change the line print obj.\\__secretCount  to print obj.\\_Counter\\__secretCount and check the output"
   ]
  },
  {
   "cell_type": "markdown",
   "metadata": {},
   "source": [
    "### Special Methods :"
   ]
  },
  {
   "cell_type": "markdown",
   "metadata": {},
   "source": [
    " They're special methods that you can define to add \"magic\" to your classes. They're always surrounded by double underscores (e.g. \\__init\\__ or \\__lt\\__)"
   ]
  },
  {
   "cell_type": "markdown",
   "metadata": {},
   "source": [
    "* ** Construction and Initialization : **\n",
    "        \n",
    "     * ** \\__init\\__(self, [...)** - As explained earlier, this is the initializer for the class.\n",
    "        \n",
    "     * ** \\__del\\__(self) ** - It is the destructor. It defines behavior for when an object is garbage collected. \n",
    "        It can be quite useful for objects that might require extra cleanup upon deletion, like sockets or file object.\n"
   ]
  },
  {
   "cell_type": "markdown",
   "metadata": {},
   "source": [
    "* ** Representing your Classes : ** \n",
    "\n",
    "    It's often useful to have a string representation of a class. In Python, there's a few methods that you can implement in your class definition to customize how built in functions that return representations of your class behave.\n",
    "\n",
    "    * ** \\__str\\__(self):**\n",
    "        Defines behavior for when str() is called on an instance of your class.\n",
    "        \n",
    "    * ** \\__repr\\__(self):**\n",
    "        Defines behavior for when repr() is called on an instance of your class. repr() is intended to produce output that is mostly machine-readable.\n",
    "        \n",
    "    * ** \\__format\\__(self, formatstr):** \n",
    "        Defines behavior for when an instance of your class is used in new-style string formatting. For instance, \"Hello,  {0:abc}!\".format(a) would lead to the call a.__format__(\"abc\"). This can be useful for defining your own numerical or string types that you might like to give special formatting options."
   ]
  },
  {
   "cell_type": "markdown",
   "metadata": {},
   "source": [
    "* **Making Custom Sequences : ** \n",
    "\n",
    "    There's a number of ways to get your Python classes to act like built in sequences (dict, tuple, list, string, etc.). \n",
    "\n",
    "    * ** \\__len\\__(self)** :\n",
    "        Returns the length of the container. \n",
    "    \n",
    "    * **\\__getitem\\__(self, key)**:\n",
    "        Defines behavior for when an item is accessed, using the notation self[key]. \n",
    "    \n",
    "    * **\\__setitem\\__(self, key, value)** :\n",
    "         Defines behavior for when an item is assigned to, using the notation self[nkey] = value.\n",
    "      \n",
    "    * **\\__delitem__(self, key)**:\n",
    "        Defines behavior for when an item is deleted (e.g. del self[key]). "
   ]
  },
  {
   "cell_type": "markdown",
   "metadata": {},
   "source": [
    "For a complete list of special methods refer [Guide to Python magic methods](http://www.rafekettler.com/magicmethods.html)"
   ]
  },
  {
   "cell_type": "markdown",
   "metadata": {},
   "source": [
    "### For more on OOP in python read through the following links:\n",
    "    \n",
    "[Python_OOP_Blog](https://jeffknupp.com/blog/2014/06/18/improve-your-python-python-classes-and-object-oriented-programming/)\n",
    "\n",
    "[Python_Tutorial](https://docs.python.org/2.7/tutorial/classes.html)"
   ]
  }
 ],
 "metadata": {
  "kernelspec": {
   "display_name": "Python 3",
   "language": "python",
   "name": "python3"
  },
  "language_info": {
   "codemirror_mode": {
    "name": "ipython",
    "version": 3
   },
   "file_extension": ".py",
   "mimetype": "text/x-python",
   "name": "python",
   "nbconvert_exporter": "python",
   "pygments_lexer": "ipython3",
   "version": "3.5.2"
  }
 },
 "nbformat": 4,
 "nbformat_minor": 1
}
