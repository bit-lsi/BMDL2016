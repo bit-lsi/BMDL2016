{
 "cells": [
  {
   "cell_type": "markdown",
   "metadata": {},
   "source": [
    "# Basic python - Quick Review\n",
    "* [python website](https://www.python.org/)"
   ]
  },
  {
   "cell_type": "markdown",
   "metadata": {},
   "source": [
    "# built-in types"
   ]
  },
  {
   "cell_type": "markdown",
   "metadata": {},
   "source": [
    "## int\n",
    "Integer, Immutable"
   ]
  },
  {
   "cell_type": "code",
   "execution_count": null,
   "metadata": {
    "collapsed": true
   },
   "outputs": [],
   "source": [
    "my_int = 2"
   ]
  },
  {
   "cell_type": "markdown",
   "metadata": {},
   "source": [
    "## float\n",
    "Floating point number."
   ]
  },
  {
   "cell_type": "code",
   "execution_count": null,
   "metadata": {
    "collapsed": true
   },
   "outputs": [],
   "source": [
    "my_float = 4.12345986"
   ]
  },
  {
   "cell_type": "markdown",
   "metadata": {},
   "source": [
    "## str\n",
    "A string"
   ]
  },
  {
   "cell_type": "code",
   "execution_count": null,
   "metadata": {
    "collapsed": true
   },
   "outputs": [],
   "source": [
    "my_string1 = 'Biological databases'\n",
    "my_string2 = \"Biological databases\"\n",
    "my_string3 = \"\"\"Spanning\n",
    "multiple\n",
    "lines\"\"\"\n",
    "my_string4 = '''Spanning\n",
    "multiple\n",
    "lines'''"
   ]
  },
  {
   "cell_type": "markdown",
   "metadata": {},
   "source": [
    "## bool\n",
    "Boolean value. **True** or **False** "
   ]
  },
  {
   "cell_type": "code",
   "execution_count": null,
   "metadata": {
    "collapsed": true
   },
   "outputs": [],
   "source": [
    "my_bool1 = True\n",
    "my_bool2 = False"
   ]
  },
  {
   "cell_type": "code",
   "execution_count": null,
   "metadata": {
    "collapsed": false
   },
   "outputs": [],
   "source": [
    "1==1"
   ]
  },
  {
   "cell_type": "code",
   "execution_count": null,
   "metadata": {
    "collapsed": false
   },
   "outputs": [],
   "source": [
    "1!=1"
   ]
  },
  {
   "cell_type": "code",
   "execution_count": null,
   "metadata": {
    "collapsed": false
   },
   "outputs": [],
   "source": [
    "1==2"
   ]
  },
  {
   "cell_type": "code",
   "execution_count": null,
   "metadata": {
    "collapsed": false
   },
   "outputs": [],
   "source": [
    "1!=2"
   ]
  },
  {
   "cell_type": "markdown",
   "metadata": {},
   "source": [
    "## list\n",
    "List, can contain mixed types. Mutable"
   ]
  },
  {
   "cell_type": "code",
   "execution_count": null,
   "metadata": {
    "collapsed": true
   },
   "outputs": [],
   "source": [
    "my_list1 = ['one','two']\n",
    "my_list2 = [4.0, 'string', True, 1]"
   ]
  },
  {
   "cell_type": "markdown",
   "metadata": {},
   "source": [
    "## tuple\n",
    "Can contain mixed types. Immutable"
   ]
  },
  {
   "cell_type": "code",
   "execution_count": null,
   "metadata": {
    "collapsed": true
   },
   "outputs": [],
   "source": [
    "my_tuple = (4.0, 'string', True)"
   ]
  },
  {
   "cell_type": "markdown",
   "metadata": {},
   "source": [
    "## dict\n",
    "Associative array (or dictionary) of key and value pairs.\n",
    "Can contain mixed types (keys and values)."
   ]
  },
  {
   "cell_type": "code",
   "execution_count": null,
   "metadata": {
    "collapsed": true
   },
   "outputs": [],
   "source": [
    "my_dict = {'key1': 1.0, 3: False}"
   ]
  },
  {
   "cell_type": "markdown",
   "metadata": {},
   "source": [
    "## set\n",
    "Unordered set, contains no duplicates. Can contain mixed types. Mutable"
   ]
  },
  {
   "cell_type": "code",
   "execution_count": null,
   "metadata": {
    "collapsed": false
   },
   "outputs": [],
   "source": [
    "my_set1 = {4.0, 'string', True}\n",
    "my_set2 = {'bla', 'bla', 'blup'}\n",
    "my_set2"
   ]
  },
  {
   "cell_type": "markdown",
   "metadata": {},
   "source": [
    "# Accessing elements in list, tuple, str and dict"
   ]
  },
  {
   "cell_type": "markdown",
   "metadata": {},
   "source": [
    "## str"
   ]
  },
  {
   "cell_type": "code",
   "execution_count": null,
   "metadata": {
    "collapsed": false
   },
   "outputs": [],
   "source": [
    "my_string=\"abcde\"\n",
    "print (my_string[0]) # first character\n",
    "print (my_string[1:]) # from second character to the end\n",
    "print (my_string[:-2]) # from beginning until the second last character\n",
    "print (my_string[1:-2]) # from second character to second last character"
   ]
  },
  {
   "cell_type": "markdown",
   "metadata": {},
   "source": [
    "## list"
   ]
  },
  {
   "cell_type": "code",
   "execution_count": null,
   "metadata": {
    "collapsed": false
   },
   "outputs": [],
   "source": [
    "my_list = ['one',2,True,4.0]\n",
    "print (my_list[0]) # first character\n",
    "print (my_list[1:]) # from second character to the end\n",
    "print (my_list[:-2]) # from beginning until the second last character\n",
    "print (my_list[1:-2]) # from second character to second last character"
   ]
  },
  {
   "cell_type": "markdown",
   "metadata": {},
   "source": [
    "## tuple"
   ]
  },
  {
   "cell_type": "code",
   "execution_count": null,
   "metadata": {
    "collapsed": false
   },
   "outputs": [],
   "source": [
    "my_tuple = ('one',2,True,4.0)\n",
    "print my_tuple[0] # first character\n",
    "print my_tuple[1:] # from second character to the end\n",
    "print my_tuple[:-2] # from beginning until the second last character\n",
    "print my_tuple[1:-2] # from second character to second last character"
   ]
  },
  {
   "cell_type": "markdown",
   "metadata": {},
   "source": [
    "## dict"
   ]
  },
  {
   "cell_type": "code",
   "execution_count": null,
   "metadata": {
    "collapsed": false
   },
   "outputs": [],
   "source": [
    "english_spaish_dictionary = {'one':'uno','two':'dos','three':'tres'}\n",
    "print (english_german_dictionary.keys())\n",
    "print (english_german_dictionary.values())\n",
    "print (english_german_dictionary['three'])"
   ]
  },
  {
   "cell_type": "markdown",
   "metadata": {},
   "source": [
    "# Nested structures\n",
    "list, dict, tuple can be nested!\n",
    "examples"
   ]
  },
  {
   "cell_type": "markdown",
   "metadata": {},
   "source": [
    "## 2-dimensional "
   ]
  },
  {
   "cell_type": "code",
   "execution_count": null,
   "metadata": {
    "collapsed": false
   },
   "outputs": [],
   "source": [
    "nested_list = [[1,2],[3,4]]\n",
    "print nested_list[0]\n",
    "print nested_list[1][0]"
   ]
  },
  {
   "cell_type": "code",
   "execution_count": null,
   "metadata": {
    "collapsed": false
   },
   "outputs": [],
   "source": [
    "nested_tuple = ((1,2),(3,(5,6)))\n",
    "print (nested_tuple[0])\n",
    "print (nested_tuple[1])\n",
    "print (nested_tuple[1][1])\n",
    "print (nested_tuple[1][1][0])"
   ]
  },
  {
   "cell_type": "markdown",
   "metadata": {},
   "source": [
    "## Deeply nested and mixed"
   ]
  },
  {
   "cell_type": "code",
   "execution_count": null,
   "metadata": {
    "collapsed": false
   },
   "outputs": [],
   "source": [
    "mixed = ['one',(1,True,3.2,{'one':'uno'})]\n",
    "mixed[1][3]['one']"
   ]
  },
  {
   "cell_type": "markdown",
   "metadata": {},
   "source": [
    "## Unpacking a list / tuple of pairs into two lists / tuples :\n",
    "\n",
    "Use Zip * operator for easier and better code for unpacking tuple into two separate lists"
   ]
  },
  {
   "cell_type": "code",
   "execution_count": null,
   "metadata": {
    "collapsed": false
   },
   "outputs": [],
   "source": [
    "source_list = ('1','a'),('2','b'),('3','c'),('4','d')\n",
    "list1, list2 = zip(*source_list)\n",
    "print list1\n",
    "print list2\n",
    "\n",
    "\n",
    "# Note that zip(*iterable) is its own inverse:\n",
    "\n",
    "list(source_list) == zip(*zip(*source_list))\n",
    "\n",
    "#When unpacking into two lists, this becomes:\n",
    "\n",
    "list1, list2 = zip(*source_list)\n",
    "list(source_list) == zip(list1, list2)\n"
   ]
  },
  {
   "cell_type": "markdown",
   "metadata": {},
   "source": [
    "# Statements and control flow\n",
    "## for loop"
   ]
  },
  {
   "cell_type": "markdown",
   "metadata": {},
   "source": [
    "Access element by element from a list or tuple"
   ]
  },
  {
   "cell_type": "code",
   "execution_count": null,
   "metadata": {
    "collapsed": false
   },
   "outputs": [],
   "source": [
    "my_list = ['one','two','three']\n",
    "for element in my_list:\n",
    "    print \"in the loop\"\n",
    "    print element\n",
    "print \"I'm not in the loop\""
   ]
  },
  {
   "cell_type": "markdown",
   "metadata": {},
   "source": [
    "## if ... else \n",
    "check if somethin is true otherwise do something different"
   ]
  },
  {
   "cell_type": "code",
   "execution_count": null,
   "metadata": {
    "collapsed": false
   },
   "outputs": [],
   "source": [
    "person_1 = \"Max\"\n",
    "person_2 = \"Max\"\n",
    "if person_1 == person_2:\n",
    "    print \"Both persons have the same first name\"\n",
    "else:\n",
    "    print \"diffrent first names\""
   ]
  },
  {
   "cell_type": "code",
   "execution_count": null,
   "metadata": {
    "collapsed": false
   },
   "outputs": [],
   "source": [
    "person_1 = \"Max\"\n",
    "person_2 = \"Zara\"\n",
    "if person_1 == person_2:\n",
    "    print \"Both persons have the same first name\"\n",
    "else:\n",
    "    print \"diffrent first names\""
   ]
  },
  {
   "cell_type": "markdown",
   "metadata": {},
   "source": [
    "# Methods/Functions\n",
    "Functions and Methods are reusable pice of code"
   ]
  },
  {
   "cell_type": "code",
   "execution_count": null,
   "metadata": {
    "collapsed": false
   },
   "outputs": [],
   "source": [
    "# without return value, but print something\n",
    "def my_function(number):\n",
    "    print number\n",
    "    \n",
    "my_function(99)"
   ]
  },
  {
   "cell_type": "code",
   "execution_count": null,
   "metadata": {
    "collapsed": false
   },
   "outputs": [],
   "source": [
    "# with return value\n",
    "def add_one(number):\n",
    "    number = number + 1\n",
    "    return number\n",
    "    \n",
    "print add_one(99)\n",
    "print add_one(add_one(99))"
   ]
  },
  {
   "cell_type": "markdown",
   "metadata": {},
   "source": [
    "## String functions\n",
    "\n",
    "Module - string\n",
    "Here we list some useful string functions, for more details and an extensive list on the same visit the Python doumentation."
   ]
  },
  {
   "cell_type": "markdown",
   "metadata": {},
   "source": [
    "* string.find :\n",
    "\n",
    "**Description**\n",
    "\n",
    "It determines if string str occurs in string, or in a substring of string if starting index beg and ending index end are given.\n",
    "\n",
    "**Syntax**\n",
    "\n",
    "string.find(str, beg=0, end=len(string))\n",
    "\n",
    "**Parameters**\n",
    "\n",
    "str -- This specifies the string to be searched.\n",
    "\n",
    "beg -- This is the starting index, by default its 0.\n",
    "\n",
    "end -- This is the ending index, by default its equal to the length of the string.\n",
    "\n",
    "**Return Value**\n",
    "\n",
    "Index if found and -1 otherwise."
   ]
  },
  {
   "cell_type": "code",
   "execution_count": null,
   "metadata": {
    "collapsed": false
   },
   "outputs": [],
   "source": [
    "str1 = \"this is string.find example....!!!\";\n",
    "str2 = \"exam\";\n",
    "\n",
    "print str1.find(str2)\n",
    "print str1.find(str2, 10)\n",
    "print str1.find(str2, 40)"
   ]
  },
  {
   "cell_type": "markdown",
   "metadata": {},
   "source": [
    "* string.split :\n",
    "    \n",
    "**Description**\n",
    "\n",
    "The method split() returns a list of all the words in the string, using str as the separator (splits on all whitespace if left unspecified), optionally limiting the number of splits to num.\n",
    "\n",
    "**Syntax**\n",
    "\n",
    "str.split(str=\"\", num=string.count(str))\n",
    "\n",
    "**Parameters**\n",
    "\n",
    "str -- This is any delimeter, by default it is space.\n",
    "\n",
    "num -- this is number of lines to be made\n",
    "\n",
    "**Return Value**\n",
    "\n",
    "This method returns a list of lines."
   ]
  },
  {
   "cell_type": "code",
   "execution_count": null,
   "metadata": {
    "collapsed": false
   },
   "outputs": [],
   "source": [
    "str = \"Line1-abcdef Line2-abc Line4-abcd\";\n",
    "print str.split( )\n",
    "print str.split(' ', 1 ) # limits the number of times string is split to 1"
   ]
  },
  {
   "cell_type": "markdown",
   "metadata": {},
   "source": [
    "* string.join :\n",
    "\n",
    "**Description**\n",
    "\n",
    "The method join() returns a string in which the string elements of sequence have been joined by str separator.\n",
    "\n",
    "**Syntax**\n",
    "\n",
    "str.join(sequence)\n",
    "\n",
    "**Parameters**\n",
    "\n",
    "sequence -- This is a sequence of the elements to be joined.\n",
    "\n",
    "**Return Value**\n",
    "\n",
    "This method returns a string, which is the concatenation of the strings in the sequence seq. The separator between elements is the string providing this method."
   ]
  },
  {
   "cell_type": "code",
   "execution_count": null,
   "metadata": {
    "collapsed": false
   },
   "outputs": [],
   "source": [
    "s = \"-\";\n",
    "seq = (\"a\", \"b\", \"c\"); # This is sequence of strings.\n",
    "print s.join( seq )"
   ]
  },
  {
   "cell_type": "markdown",
   "metadata": {},
   "source": [
    "* string.replace :\n",
    "\n",
    "**Description**\n",
    "\n",
    "The method replace() returns a copy of the string in which the occurrences of old have been replaced with new, optionally restricting the number of replacements to max.\n",
    "\n",
    "**Syntax**\n",
    "\n",
    "str.replace(old, new[, max])\n",
    "\n",
    "**Parameters**\n",
    "\n",
    "old -- This is old substring to be replaced.\n",
    "\n",
    "new -- This is new substring, which would replace old substring.\n",
    "\n",
    "max -- If this optional argument max is given, only the first count occurrences are replaced.\n",
    "\n",
    "**Return Value**\n",
    "\n",
    "This method returns a copy of the string with all occurrences of substring old replaced by new. If the optional argument max is given, only the first count occurrences are replaced."
   ]
  },
  {
   "cell_type": "code",
   "execution_count": null,
   "metadata": {
    "collapsed": false
   },
   "outputs": [],
   "source": [
    "str = \"this is an example for replace!!! this is really a string\";\n",
    "print str.replace(\"is\", \"was\")\n",
    "print str.replace(\"is\", \"was\", 3)"
   ]
  },
  {
   "cell_type": "markdown",
   "metadata": {},
   "source": [
    "* string.strip :\n",
    "\n",
    "**Description**\n",
    "\n",
    "The method strip() returns a copy of the string in which all chars have been stripped from the beginning and the end of the string (default whitespace characters).\n",
    "\n",
    "**Syntax**\n",
    "\n",
    "str.strip([chars]);\n",
    "\n",
    "**Parameters**\n",
    "\n",
    "chars -- The characters to be removed from beginning or end of the string.\n",
    "\n",
    "**Return Value**\n",
    "\n",
    "This method returns a copy of the string in which all chars have been stripped from the beginning and the end of the string."
   ]
  },
  {
   "cell_type": "code",
   "execution_count": null,
   "metadata": {
    "collapsed": false
   },
   "outputs": [],
   "source": [
    "str = \"0000000this is string example!!!0000000\";\n",
    "print str.strip( '0' )"
   ]
  }
 ],
 "metadata": {
  "kernelspec": {
   "display_name": "Python 2",
   "language": "python",
   "name": "python2"
  },
  "language_info": {
   "codemirror_mode": {
    "name": "ipython",
    "version": 2
   },
   "file_extension": ".py",
   "mimetype": "text/x-python",
   "name": "python",
   "nbconvert_exporter": "python",
   "pygments_lexer": "ipython2",
   "version": "2.7.12"
  }
 },
 "nbformat": 4,
 "nbformat_minor": 0
}
