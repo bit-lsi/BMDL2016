{
 "cells": [
  {
   "cell_type": "markdown",
   "metadata": {},
   "source": [
    "# Biological Expression Language (BEL)\n",
    "Visit: http://openbel.org/\n"
   ]
  },
  {
   "cell_type": "markdown",
   "metadata": {},
   "source": [
    "## Basics\n",
    "`BEL` is a `domain specific language (DSL)` for biological context. It can be used by domain specialists to design informations in a way that is readable by humans and by machines. `DSL`'s can be used to digitalize data and run automated analyses against it. In conclusion: `BEL` is a language that follows specific rules (Syntax) to describe biological interactions in a computable way."
   ]
  },
  {
   "cell_type": "markdown",
   "metadata": {},
   "source": [
    "![Simplyfied DSL](DSL.png)"
   ]
  },
  {
   "cell_type": "markdown",
   "metadata": {
    "collapsed": true
   },
   "source": [
    "`DSL`'s are desined in a way that is easy to understand for people that are active in the domain. So `BEL` was designed to be easy to learn for biologists, so they can store their data in the format. It can be used to digitalize data, exchange it with other researchers or to enrich it automatically after it was digitalized."
   ]
  },
  {
   "cell_type": "markdown",
   "metadata": {},
   "source": [
    "## Documents\n",
    "Due to the rules of `DSL` a specific syntax has to be designed. A `BEL` document is devided in three sections: `Document description`, `Namespace and Annotation definition` and the `Statement section`."
   ]
  },
  {
   "cell_type": "markdown",
   "metadata": {},
   "source": [
    "![BEL document structure](BEL_document.png)"
   ]
  },
  {
   "cell_type": "markdown",
   "metadata": {},
   "source": [
    "### Document description\n",
    "This section contains all the copyright and legal information of the `BEL` document. \n",
    "\n",
    "```\n",
    "SET DOCUMENT Name = \"Document name\"\n",
    "SET DOCUMENT Version = \"1.0\"    \n",
    "SET DOCUMENT Description = \"Description string\"\n",
    "SET DOCUMENT Copyright = \"Copyright information\"\n",
    "SET DOCUMENT Authors = \"List, of, Authors\"\n",
    "SET DOCUMENT Licenses = \"License inforation\"\n",
    "SET DOCUMENT ContactInfo = \"my@mail.com\"\n",
    "...\n",
    "``` "
   ]
  },
  {
   "cell_type": "markdown",
   "metadata": {},
   "source": [
    "### Namespace and Annotation definition\n",
    "The second section defines the vocabulary that is used in the statement section. Namespaces are allways defined by a namespace file (.belns) and Annotations can be defined by a annotation file (.belanno) or a list of values.\n",
    "\n",
    "```\n",
    "...\n",
    "DEFINE NAMESPACE HGNC AS URL \"http://...\"\n",
    "\n",
    "DEFINE ANNOTATION BodyRegion AS  URL \"http://...\"\n",
    "DEFINE ANNOTATION Confidence AS  LIST {\"very high\",\"high\",\"medium\",\"low\",\"very low\"}\n",
    "...\n",
    "```\n",
    "\n",
    "[Definition of HGNC Namespace](http://resource.belframework.org/belframework/20131211/namespace/hgnc-human-genes.belns)\n",
    "\n",
    "[Definition of BodyRegion Annotation](http://resource.belframework.org/belframework/1.0/annotation/mesh-body-region.belanno)\n",
    "\n",
    "A symilarity between Namespace and Annotation files can be seen. They have the same structure:\n",
    "\n",
    "```\n",
    "[Namespace]\n",
    "NameString=HGNC Approved Gene Symbols\n",
    "Keyword=HGNC\n",
    "DomainString=Gene and Gene Products\n",
    "SpeciesString=9606\n",
    "DescriptionString=HUGO Gene Nomenclature Committee (HGNC) approved gene symbols. These symbols may be used to specify human gene, RNA, microRNA and protein abundances. Single character encoding following each value specify which abundance types are valid.\n",
    "VersionString=20131211\n",
    "CreatedDateTime=2013-12-11T13:14:07\n",
    "QueryValueURL=http://www.genenames.org/data/hgnc_data.php?match=[VALUE]\n",
    "\n",
    "[Author]\n",
    "NameString=OpenBEL\n",
    "CopyrightString=Copyright (c) 2013, OpenBEL Project. This work is licensed under a Creative Commons Attribution 3.0 Unported License.\n",
    "ContactInfoString=info@openbel.org\n",
    "\n",
    "[Citation]\n",
    "NameString=HUGO Gene Nomenclature Committee at the European Bioinformatics Institute\n",
    "DescriptionString=The HGNC approved gene symbols for human. Each symbol is unique and each gene is only given one approved gene symbol.\n",
    "PublishedVersionString=Wed, 11 Dec 2013 11:05:53\n",
    "PublishedDate=2013-12-11\n",
    "ReferenceURL=http://www.genenames.org/\n",
    "\n",
    "[Processing]\n",
    "CaseSensitiveFlag=yes\n",
    "DelimiterString=|\n",
    "CacheableFlag=yes\n",
    "\n",
    "[Values]\n",
    "A1BG|GRP\n",
    "A1BG-AS1|GR\n",
    "```"
   ]
  },
  {
   "cell_type": "markdown",
   "metadata": {},
   "source": [
    "### Statement section\n",
    "The biological data is contained in the statement section. Like seen in the figure above the `Statement section` has some subelements.It contains several `STATEMENT GROUP`'s. The groups contain the biological statements. A statement is composed by three elements: \n",
    "\n",
    "``` \n",
    "(SUBJECT) -[RELATION]-> (OBJECT) \n",
    "```\n",
    "\n",
    "This structure is called a `BEL-Statement` and represents a biological interaction between the subject and the object that is described by the relation. The subject and the object element of the `Statement` represent biological entities and are called `BEL-Terms`. These `Terms` may be described in different levels:\n",
    "\n",
    "<font color='blue'>activity</font> ( <font color='red'>abundance</font> ( <font color='green'>namespace</font> : <font color='black'>entity in namespace</font> , <font color='brown'>modification</font> ) ) \n",
    "\n",
    "The core element of a `BEL-Term` is the biological entity described by `abundance(Namespace:Entity)`. This term describes a biological entity. For example: `p(HGNC:APP)` is the `BEL-Equivalent` of the protein `APP`.\n",
    "\n",
    "The biological entity can be further described by an `activity` and/or by a `modification`. In conclusion the term: `kin(p(HGNC:APP))` would represent the `kinease activity` of the protein `APP` and `p(HGNC:APP,pmod(P))` represents the `phosphoralated` protein `APP`.\n",
    "\n",
    "A statement like:\n",
    "\n",
    "```\n",
    "kin(p(HGNC:PINK1)) -> p(HGNC:TRAP1,pmod(P))\n",
    "```\n",
    "\n",
    "Can be translated to:\n",
    "\n",
    "```\n",
    "Kinase activity of protein PTEN induced putative kinase 1 (PINK1 in gene nomenclature HGNC) increases the level of phosphorylated (pmod(P)) protein TNF receptor-associated protein 1 (TRAP1 in gene nomenclature HGNC).\n",
    "```\n",
    "\n",
    "A statement describes the biological interaction but the context for this interaction is still missing. This is what the previously defined Annotations are used for! A `BEL-Statement` is encapsulated by `BEL-Annotations`. The Annotation is set before the statement:\n",
    "\n",
    "```\n",
    "...\n",
    "SET Pathway = {\"Electron transport chain\",\"Amyloid precursor protein pathway\",\"ROS pathway\"}\n",
    "p(HGNC:APP) -| p(HGNC:COX5B)\n",
    "...\n",
    "```\n",
    "\n",
    "The above described interaction (statement) is defined in the context of a list of different pathways! This means that it is valid in each pathway. \n",
    "\n",
    "Now a last important detail is missing, the proof that the described statement is real. This can be done by two additional annotations: `Evidence` and `Citation`. The `Evidence` contains the sentence that proofs the statement as real and the `Citation` describes where the scentence was found.\n",
    "\n",
    "```\n",
    "SET Citation={\"PubMed\",\"J Aging Res. 2012;2012:324968. Epub 2012 Mar 19\",\"22523685\"}\n",
    "\n",
    "SET Evidence =\"In another study, the authors found that nonglycosylated full-length and C-terminal-truncated APP accumulates in the protein import channels of mitochondria of human AD brains but not in age-matched controls. The accumulation of APP across mitochondrial import channels inhibited the entry of nuclear-encoded cytochrome c-oxidase subunits IV and Vb proteins and was associated with decreased cytochrome oxidase and increased free radical production\"\n",
    "```\n",
    "\n",
    "The statement is encapsulated by this three elements. So a valid statement section can look similiar to this:\n",
    "\n",
    "```\n",
    "SET STATEMENT_GROUP = \"APP - Group\"\n",
    "\n",
    "SET Citation={\"PubMed\",\"J Aging Res. 2012;2012:324968. Epub 2012 Mar 19\",\"22523685\"}\n",
    "\n",
    "SET Evidence =\"In another study, the authors found that nonglycosylated full-length and C-terminal-truncated APP accumulates in the protein import channels of mitochondria of human AD brains but not in age-matched controls. The accumulation of APP across mitochondrial import channels inhibited the entry of nuclear-encoded cytochrome c-oxidase subunits IV and Vb proteins and was associated with decreased cytochrome oxidase and increased free radical production\"\n",
    "\n",
    "SET Pathway = {\"Electron transport chain\",\"Amyloid precursor protein pathway\",\"ROS pathway\"}\n",
    "\n",
    "p(HGNC:APP) -| p(HGNC:COX5B)\n",
    "\n",
    "UNSET Pathway\n",
    "UNSET Evidence\n",
    "UNSET Citation\n",
    "UNSET STATEMENT_GROUP\n",
    "```\n",
    "\n",
    "An annotation in `BEL` is valid until it is overwritten or unset. This way makes it possible to define multiple statements under the same context."
   ]
  },
  {
   "cell_type": "markdown",
   "metadata": {},
   "source": [
    "## Interpretation\n",
    "To work with the data described in `BEL` it has to be interpreted. If we look closely at the syntax of a statement, it can be seen that it can be transformed into a graph:"
   ]
  },
  {
   "cell_type": "markdown",
   "metadata": {},
   "source": [
    "![BEL 2 Graph](graph.png)"
   ]
  },
  {
   "cell_type": "markdown",
   "metadata": {},
   "source": [
    "Example: If we safe the informations from `BEL` into such a graph sturcutre we can run graph algorithms to analyse the data."
   ]
  }
 ],
 "metadata": {
  "kernelspec": {
   "display_name": "Python 3",
   "language": "python",
   "name": "python3"
  },
  "language_info": {
   "codemirror_mode": {
    "name": "ipython",
    "version": 3
   },
   "file_extension": ".py",
   "mimetype": "text/x-python",
   "name": "python",
   "nbconvert_exporter": "python",
   "pygments_lexer": "ipython3",
   "version": "3.5.1"
  }
 },
 "nbformat": 4,
 "nbformat_minor": 0
}
