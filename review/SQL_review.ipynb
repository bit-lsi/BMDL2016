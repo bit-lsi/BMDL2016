{
 "cells": [
  {
   "cell_type": "markdown",
   "metadata": {},
   "source": [
    "# SQL Overview:\n",
    "\n",
    "* SQL is an ANSI (American National Standards Institute) standard, but there are many different versions of the\n",
    "  SQL language.\n",
    "* SQL is the standard language for Relation Database System .Different dialects used for different databases like MYsql,Oracle     and so  on\n",
    "\n",
    "# SQL Commands:\n",
    "\n",
    "The standard SQL commands to interact with relational databases are CREATE, SELECT, INSERT, UPDATE,DELETE and DROP. These commands can be classified into groups based on their nature:\n",
    "\n",
    "### DDL - Data Definition Language:\n",
    "\n",
    "* CREATE -Creates a new table, a view of a table, or other object in database\n",
    "* ALTER -Modifies an existing database object, such as a table.\n",
    "* DROP -Deletes an entire table, a view of a table or other object in the database.\n",
    "\n",
    "* Note : DDL commands include an implicit commit\n",
    "\n",
    "### DML - Data Manipulation Language:\n",
    "\n",
    "* INSERT-Creates a record\n",
    "* UPDATE-Modifies records\n",
    "* DELETE-Deletes records\n",
    "\n",
    "* Note : No implicit commit, use commit after insertion/deletion accordingly\n",
    "\n",
    "### DCL - Data Control Language:\n",
    "\n",
    "* GRANT-Gives a privilege to user\n",
    "* REVOKE-Takes back privileges granted from user\n",
    "\n",
    "### DQL - Data Query Language:\n",
    "\n",
    "* SELECT-Retrieves certain records from one or more tables\n",
    "\n",
    "\n",
    "## What is NULL value in SQL?\n",
    "\n",
    "* A NULL value in a table is a value in a field that appears to be blank, which means a field with a NULL value is a\n",
    "  field with no value.\n",
    "\n",
    "* It is very important to understand that a NULL value is different than a zero value or a field that contains spaces. A\n",
    "  field with a NULL value is one that has been left blank during record creation.\n",
    "\n",
    "\n",
    "## Commonly used SQL Constraints:\n",
    "\n",
    "Constraints are the rules enforced on data columns on table\n",
    "\n",
    "* NOT NULL Constraint: Ensures that a column cannot have NULL value.\n",
    "* DEFAULT Constraint: Provides a default value for a column when none is specified.\n",
    "* UNIQUE Constraint: Ensures that all values in a column are different.\n",
    "* PRIMARY Key: Uniquely identified each rows/records in a database table.\n",
    "* FOREIGN Key: Uniquely identified a rows/records in any another database table.\n",
    "* CHECK Constraint: The CHECK constraint ensures that all values in a column satisfy certain conditions.\n",
    "* INDEX: Use to create and retrieve data from the database very quickly"
   ]
  },
  {
   "cell_type": "markdown",
   "metadata": {},
   "source": [
    "# SQL Syntax - Refresher :\n",
    "\n",
    "* SQL SELECT Statement:\n",
    "        SELECT column1, column2....columnN\n",
    "        FROM table_name;\n",
    "        \n",
    "* SQL DISTINCT Clause:\n",
    "       SELECT DISTINCT column1, column2....columnN\n",
    "       FROM table_name;\n",
    "        \n",
    "* SQL WHERE Clause:\n",
    "       SELECT column1, column2....columnN\n",
    "       FROM table_name\n",
    "       WHERE CONDITION;\n",
    "       \n",
    "* SQL AND/OR Clause:\n",
    "      SELECT column1, column2....columnN\n",
    "      FROM table_name\n",
    "      WHERE CONDITION-1 {AND|OR} CONDITION-2;\n",
    "      \n",
    "* SQL IN Clause:\n",
    "      SELECT column1, column2....columnN\n",
    "      FROM table_name\n",
    "      WHERE column_name IN (val-1, val-2,...val-N);     \n",
    "\n",
    "* SQL ORDER BY Clause:\n",
    "      SELECT column1, column2....columnN\n",
    "      FROM table_name\n",
    "      WHERE CONDITION\n",
    "      ORDER BY column_name {ASC|DESC};\n",
    "\n",
    "* SQL GROUP BY Clause:\n",
    "      SELECT column_name,[aggregate fun]\n",
    "      FROM table_name\n",
    "      WHERE CONDITION\n",
    "      GROUP BY column_name;\n",
    "      \n",
    "* SQL HAVING Clause:\n",
    "      SELECT SUM(column_name)\n",
    "      FROM table_name\n",
    "      WHERE CONDITION\n",
    "      GROUP BY column_name\n",
    "      HAVING (arithematic function condition);"
   ]
  },
  {
   "cell_type": "markdown",
   "metadata": {},
   "source": [
    "## Note on use of Group by clause:\n",
    "\n",
    "* Group by can include one column or multiple columns\n",
    "\n",
    "* Grouping of NULL Values : If grouping is required on a column that contains NULL values, all these NULL values form one group.   When rows are grouped.\n",
    "* **General Rule for the GROUP BY Clause** :\n",
    "    * any column specified in the SELECT clause must occur as a parameter of an aggregated function or in the list of columns         given in the GROUP BY clause, or in both.\n",
    "     \n",
    "      Example : Incorrect use of group by - Toen in included in select but not group by or the aggregate function count()\n",
    "                SELECT   TOWN, COUNT(*)\n",
    "                FROM     PLAYERS\n",
    "                GROUP BY PLAYERNO"
   ]
  },
  {
   "cell_type": "markdown",
   "metadata": {},
   "source": [
    "# SQL Joins :\n",
    "\n",
    "There are different types of joins available in SQL:\n",
    "\n",
    "* INNER JOIN: returns rows when there is a match in both tables.\n",
    "* LEFT JOIN: returns all rows from the left table, even if there are no matches in the right table.\n",
    "* RIGHT JOIN: returns all rows from the right table, even if there are no matches in the left table.\n",
    "* FULL JOIN: returns rows when there is a match in one of the tables.\n",
    "* SELF JOIN: is used to join a table to itself as if the table were two tables, temporarily renaming at least one\n",
    "  table in the SQL statement.\n",
    "* CARTESIAN JOIN: returns the Cartesian product of the sets of records from the two or more joined tables\n",
    "\n",
    "## Syntax :\n",
    "\n",
    "* **Inner Join:**\n",
    "   \n",
    "    SELECT table1.column1, table2.column2...\n",
    "    FROM table1\n",
    "    INNER JOIN table2\n",
    "    ON table1.common_filed = table2.common_field;\n",
    "\n",
    "* **Left Join :**\n",
    "\n",
    "    SELECT table1.column1, table2.column2...\n",
    "    FROM table1\n",
    "    LEFT JOIN table2\n",
    "    ON table1.common_filed = table2.common_field;\n",
    "    \n",
    "* **Right Join: **\n",
    "\n",
    "    SELECT table1.column1, table2.column2...\n",
    "    FROM table1\n",
    "    RIGHT JOIN table2\n",
    "    ON table1.common_filed = table2.common_field;\n",
    "    \n",
    "* **Full Join :**\n",
    "\n",
    "    SELECT table1.column1, table2.column2...\n",
    "    FROM table1\n",
    "    FULL JOIN table2\n",
    "    ON table1.common_filed = table2.common_field;\n"
   ]
  },
  {
   "cell_type": "markdown",
   "metadata": {},
   "source": [
    "** For More Detailed explaination and syntax refer [SQL Tutorial](http://www.tutorialspoint.com/sql/sql_tutorial.pdf)**"
   ]
  },
  {
   "cell_type": "markdown",
   "metadata": {},
   "source": [
    "## SQL in ipython notebook\n",
    "\n",
    "First we have to load ipython-sql"
   ]
  },
  {
   "cell_type": "code",
   "execution_count": null,
   "metadata": {
    "collapsed": false
   },
   "outputs": [],
   "source": [
    "%load_ext sql"
   ]
  },
  {
   "cell_type": "markdown",
   "metadata": {},
   "source": [
    "Connect to database - world ( example database available when MYSQL server is installed)"
   ]
  },
  {
   "cell_type": "code",
   "execution_count": null,
   "metadata": {
    "collapsed": true
   },
   "outputs": [],
   "source": [
    "%sql mysql+pymysql://root:\"password:\"@localhost/world"
   ]
  },
  {
   "cell_type": "markdown",
   "metadata": {},
   "source": [
    "### Basic SQL statements: "
   ]
  },
  {
   "cell_type": "markdown",
   "metadata": {},
   "source": [
    "* Count the number of rows :"
   ]
  },
  {
   "cell_type": "code",
   "execution_count": null,
   "metadata": {
    "collapsed": false
   },
   "outputs": [],
   "source": [
    "%%sql\n",
    "Select count(*) from city;"
   ]
  },
  {
   "cell_type": "markdown",
   "metadata": {},
   "source": [
    "* Select only few columns :"
   ]
  },
  {
   "cell_type": "code",
   "execution_count": null,
   "metadata": {
    "collapsed": true
   },
   "outputs": [],
   "source": [
    "%%sql\n",
    "Select Name,Population from city limit 10;"
   ]
  },
  {
   "cell_type": "markdown",
   "metadata": {},
   "source": [
    "* Where clause:"
   ]
  },
  {
   "cell_type": "code",
   "execution_count": null,
   "metadata": {
    "collapsed": true
   },
   "outputs": [],
   "source": [
    "%%sql\n",
    "Select * from country where Code = 'IND';"
   ]
  },
  {
   "cell_type": "markdown",
   "metadata": {},
   "source": [
    "* Order By Clause:"
   ]
  },
  {
   "cell_type": "code",
   "execution_count": null,
   "metadata": {
    "collapsed": true
   },
   "outputs": [],
   "source": [
    "%%sql\n",
    "Select Name,CountryCode,Population from city order by Population desc limit 10;"
   ]
  },
  {
   "cell_type": "markdown",
   "metadata": {},
   "source": [
    "* Like Clause"
   ]
  },
  {
   "cell_type": "code",
   "execution_count": null,
   "metadata": {
    "collapsed": true
   },
   "outputs": [],
   "source": [
    "%%sql\n",
    "Select * from country where Name like 'Z%';"
   ]
  },
  {
   "cell_type": "markdown",
   "metadata": {},
   "source": [
    "* Aggrgate functions:"
   ]
  },
  {
   "cell_type": "code",
   "execution_count": null,
   "metadata": {
    "collapsed": true
   },
   "outputs": [],
   "source": [
    "%%sql\n",
    "Select min(Population),max(Population),avg(Population), std(Population) from city;"
   ]
  },
  {
   "cell_type": "markdown",
   "metadata": {},
   "source": [
    "* Group By Clause :"
   ]
  },
  {
   "cell_type": "code",
   "execution_count": null,
   "metadata": {
    "collapsed": true
   },
   "outputs": [],
   "source": [
    "%%sql\n",
    "Select CountryCode,sum(Population),count(*) from city group by CountryCode order by count(*) desc limit 10;"
   ]
  },
  {
   "cell_type": "markdown",
   "metadata": {},
   "source": [
    "* Nested Query :"
   ]
  },
  {
   "cell_type": "code",
   "execution_count": null,
   "metadata": {
    "collapsed": true
   },
   "outputs": [],
   "source": [
    "%%sql\n",
    "Select Name from city where Population = (Select min(Population) from city);"
   ]
  },
  {
   "cell_type": "markdown",
   "metadata": {},
   "source": [
    "### Using PYMYSQL to connect to database and execute queries :"
   ]
  },
  {
   "cell_type": "markdown",
   "metadata": {},
   "source": [
    "PyMySQL is a database connectors for Python, it is a library to enable Python programs to talk to a MySQL server."
   ]
  },
  {
   "cell_type": "markdown",
   "metadata": {},
   "source": [
    "#### Example :"
   ]
  },
  {
   "cell_type": "markdown",
   "metadata": {},
   "source": [
    "* Create a database cursor and execute the SQL"
   ]
  },
  {
   "cell_type": "code",
   "execution_count": null,
   "metadata": {
    "collapsed": false
   },
   "outputs": [],
   "source": [
    "import pymysql\n",
    "user = 'root'\n",
    "password = ''\n",
    "\n",
    "sql = \"\"\"\n",
    "        CREATE DATABASE IF NOT EXISTS reviewtest;\n",
    "        USE reviewtest;\n",
    "        DROP TABLE IF EXISTS `DormDetails`;\n",
    "        CREATE TABLE `DormDetails` (\n",
    "            `id` int(11) NOT NULL AUTO_INCREMENT,\n",
    "            `name` varchar(255) NOT NULL,\n",
    "            `address` varchar(255) NOT NULL,\n",
    "            PRIMARY KEY (`id`)  \n",
    "        );\"\"\"\n",
    "\n",
    "connection = pymysql.connect('localhost',user,password)\n",
    "cursor = connection.cursor(pymysql.cursors.DictCursor)\n",
    "cursor.execute(sql)\n",
    "connection.commit()\n",
    "\n",
    "data = [\n",
    "  ('Ferdinandstrasse','Ippendorf Bonn'),\n",
    "  ('Wichelshof','Romerstrasse Bonn'),\n",
    "  ('Bismarckstrasse','Popelsdorf Bonn'),\n",
    "]\n",
    "\n",
    "with connection.cursor() as cursor:\n",
    "    sql = \"\"\"\n",
    "        INSERT INTO `DormDetails` (`name`, `address`)\n",
    "        VALUES (%s, %s)\"\"\"\n",
    "    cursor.executemany(sql, data)\n",
    "\n",
    "    \n",
    "connection.commit()\n",
    "connection.close()"
   ]
  }
 ],
 "metadata": {
  "kernelspec": {
   "display_name": "Python 2",
   "language": "python",
   "name": "python2"
  },
  "language_info": {
   "codemirror_mode": {
    "name": "ipython",
    "version": 2
   },
   "file_extension": ".py",
   "mimetype": "text/x-python",
   "name": "python",
   "nbconvert_exporter": "python",
   "pygments_lexer": "ipython2",
   "version": "2.7.12"
  }
 },
 "nbformat": 4,
 "nbformat_minor": 1
}
