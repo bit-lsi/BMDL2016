{
 "cells": [
  {
   "cell_type": "code",
   "execution_count": null,
   "metadata": {
    "collapsed": true
   },
   "outputs": [],
   "source": [
    "import os\n",
    "\n",
    "from collections import defaultdict\n",
    "from itertools import product\n",
    "\n",
    "import pandas as pd\n",
    "import requests"
   ]
  },
  {
   "cell_type": "code",
   "execution_count": null,
   "metadata": {
    "collapsed": false
   },
   "outputs": [],
   "source": [
    "base = os.environ['BUG_FREE_EUREKA_BASE']\n",
    "roster_path = os.path.join(base, 'grading', 'roster.tsv')"
   ]
  },
  {
   "cell_type": "code",
   "execution_count": null,
   "metadata": {
    "collapsed": true
   },
   "outputs": [],
   "source": [
    "assignment_1 = ['DNA', 'RNA', 'GC', 'HAMM', 'REVC']\n",
    "assignment_2 = ['INI', 'DBPR', 'FIB', 'IPRB']\n",
    "assignment_3 = ['FRMT', 'PROT', 'SUBS', 'CONS', 'FIBD', 'GRPH', 'IEV', 'MPRT', 'MRNA', 'PERM', 'PRTM']\n",
    "assignment_all = assignment_1 + assignment_2 + assignment_3"
   ]
  },
  {
   "cell_type": "code",
   "execution_count": null,
   "metadata": {
    "collapsed": false
   },
   "outputs": [],
   "source": [
    "roster = pd.read_csv(roster_path, index_col=0, sep='\\t')\n",
    "roster.head()"
   ]
  },
  {
   "cell_type": "code",
   "execution_count": null,
   "metadata": {
    "collapsed": false
   },
   "outputs": [],
   "source": [
    "done = defaultdict(dict)\n",
    "\n",
    "for name, assignment in product(roster.index, assignment_all):\n",
    "    done[name][assignment] = 0"
   ]
  },
  {
   "cell_type": "code",
   "execution_count": null,
   "metadata": {
    "collapsed": false
   },
   "outputs": [],
   "source": [
    "for name, github, rosalind in roster.itertuples():\n",
    "    print('Checking {}'.format(name))\n",
    "\n",
    "    res = requests.get(rosalind)\n",
    "\n",
    "    for line in res.iter_lines():\n",
    "        line = line.decode('utf-8').strip()\n",
    "        if 'badge-success' not in line:\n",
    "            continue\n",
    "        success = line[1 + line.find('>'): line.find('<', 2)]\n",
    "        done[name][success] = 1"
   ]
  },
  {
   "cell_type": "code",
   "execution_count": null,
   "metadata": {
    "collapsed": true
   },
   "outputs": [],
   "source": [
    "results = pd.DataFrame(done).T\n",
    "results[results.isnull()] = 0 # sanitize from missing assignments\n",
    "results = results.astype(int)"
   ]
  },
  {
   "cell_type": "code",
   "execution_count": null,
   "metadata": {
    "collapsed": false
   },
   "outputs": [],
   "source": [
    "print('Assignment 1 has {} tasks'.format(len(assignment_1)))\n",
    "results[assignment_1].sum(axis=1)"
   ]
  },
  {
   "cell_type": "code",
   "execution_count": null,
   "metadata": {
    "collapsed": false
   },
   "outputs": [],
   "source": [
    "print('Assignment 2 has {} tasks'.format(len(assignment_2)))\n",
    "results[assignment_2].sum(axis=1)"
   ]
  },
  {
   "cell_type": "code",
   "execution_count": null,
   "metadata": {
    "collapsed": false
   },
   "outputs": [],
   "source": [
    "print('Assignment 3 has {} tasks'.format(len(assignment_3)))\n",
    "results[assignment_3].sum(axis=1)"
   ]
  }
 ],
 "metadata": {
  "kernelspec": {
   "display_name": "Python 3",
   "language": "python",
   "name": "python3"
  },
  "language_info": {
   "codemirror_mode": {
    "name": "ipython",
    "version": 3
   },
   "file_extension": ".py",
   "mimetype": "text/x-python",
   "name": "python",
   "nbconvert_exporter": "python",
   "pygments_lexer": "ipython3",
   "version": "3.5.2"
  }
 },
 "nbformat": 4,
 "nbformat_minor": 1
}
