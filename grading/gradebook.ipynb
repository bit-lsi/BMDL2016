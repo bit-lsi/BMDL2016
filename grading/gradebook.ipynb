{
 "cells": [
  {
   "cell_type": "code",
   "execution_count": null,
   "metadata": {
    "collapsed": true
   },
   "outputs": [],
   "source": [
    "import os\n",
    "\n",
    "from collections import defaultdict\n",
    "from itertools import product\n",
    "\n",
    "import pandas as pd\n",
    "import requests"
   ]
  },
  {
   "cell_type": "code",
   "execution_count": null,
   "metadata": {
    "collapsed": false
   },
   "outputs": [],
   "source": [
    "base = os.environ['BUG_FREE_EUREKA_BASE']\n",
    "roster_path = os.path.join(base, 'grading', 'roster.tsv')"
   ]
  },
  {
   "cell_type": "code",
   "execution_count": null,
   "metadata": {
    "collapsed": true
   },
   "outputs": [],
   "source": [
    "assignment_1 = ['DNA', 'RNA', 'GC', 'HAMM', 'REVC']\n",
    "assignment_2 = ['INI', 'DBPR', 'FIB', 'IPRB']\n",
    "assignment_3 = ['FRMT', 'PROT', 'SUBS', 'CONS', 'FIBD', 'GRPH', 'IEV', 'MPRT', 'MRNA', 'PERM', 'PRTM']\n",
    "assignment_all = assignment_1 + assignment_2 + assignment_3"
   ]
  },
  {
   "cell_type": "code",
   "execution_count": null,
   "metadata": {
    "collapsed": false
   },
   "outputs": [],
   "source": [
    "roster = pd.read_csv(roster_path, index_col=0, sep='\\t')\n",
    "roster.head()"
   ]
  },
  {
   "cell_type": "markdown",
   "metadata": {},
   "source": [
    "# Checking GitHub"
   ]
  },
  {
   "cell_type": "code",
   "execution_count": null,
   "metadata": {
    "collapsed": false
   },
   "outputs": [],
   "source": [
    "gh_check = requests.get('https://api.github.com/rate_limit')\n",
    "gh_check_json = gh_check.json()\n",
    "\n",
    "if gh_check_json['resources']['core']['remaining'] < len(roster.index):\n",
    "    raise Exception('Not enough GitHub API calls left. Wait {}'.format(gh_check_json['resources']['core']['reset']))"
   ]
  },
  {
   "cell_type": "code",
   "execution_count": null,
   "metadata": {
    "collapsed": false
   },
   "outputs": [],
   "source": [
    "gh_fmt = 'https://api.github.com/repos/{}/BioDb2016/contents/'\n",
    "\n",
    "gh_result_dict = defaultdict(list)\n",
    "\n",
    "for name, github_user, rosalind_user in roster.itertuples():\n",
    "    print('Checking GitHub: {} ({})'.format(name, github_user))\n",
    "    \n",
    "    response = requests.get(gh_fmt.format(github_user))\n",
    "    \n",
    "    for d in response.json():\n",
    "        if 'type' not in d:\n",
    "            raise Exception('Missing data.')\n",
    "        if 'file' == d['type']:\n",
    "            gh_result_dict[name].append(d['name'])"
   ]
  },
  {
   "cell_type": "code",
   "execution_count": null,
   "metadata": {
    "collapsed": true
   },
   "outputs": [],
   "source": [
    "gh_results = defaultdict(dict)\n",
    "\n",
    "for name, files in gh_result_dict.items():\n",
    "    filenames = [file.split('.')[0] for file in files]\n",
    "    for assignment in assignment_all:\n",
    "        gh_results[name][assignment] = 1 if assignment in filenames else 0\n",
    "    \n",
    "gh_result_df = pd.DataFrame.from_dict(gh_results, orient='index')"
   ]
  },
  {
   "cell_type": "markdown",
   "metadata": {},
   "source": [
    "# Checking Rosalind"
   ]
  },
  {
   "cell_type": "code",
   "execution_count": null,
   "metadata": {
    "collapsed": false
   },
   "outputs": [],
   "source": [
    "rosalind_result_dict = defaultdict(dict)\n",
    "\n",
    "for name, assignment in product(roster.index, assignment_all):\n",
    "    rosalind_result_dict[name][assignment] = 0"
   ]
  },
  {
   "cell_type": "code",
   "execution_count": null,
   "metadata": {
    "collapsed": false
   },
   "outputs": [],
   "source": [
    "for name, github, rosalind in roster.itertuples():\n",
    "    print('Checking Rosalind: {} ({})'.format(name, rosalind))\n",
    "\n",
    "    res = requests.get(rosalind)\n",
    "\n",
    "    for line in res.iter_lines():\n",
    "        line = line.decode('utf-8').strip()\n",
    "        if 'badge-success' not in line:\n",
    "            continue\n",
    "        success = line[1 + line.find('>'): line.find('<', 2)]\n",
    "        rosalind_result_dict[name][success] = 1"
   ]
  },
  {
   "cell_type": "code",
   "execution_count": null,
   "metadata": {
    "collapsed": true
   },
   "outputs": [],
   "source": [
    "rosalind_result_df = pd.DataFrame(rosalind_result_dict).T\n",
    "rosalind_result_df[rosalind_result_df.isnull()] = 0 # sanitize from missing assignments\n",
    "rosalind_result_df = rosalind_result_df.astype(int)"
   ]
  },
  {
   "cell_type": "markdown",
   "metadata": {},
   "source": [
    "# Summary"
   ]
  },
  {
   "cell_type": "code",
   "execution_count": null,
   "metadata": {
    "collapsed": false
   },
   "outputs": [],
   "source": [
    "print('Assignment 1 has {} tasks'.format(len(assignment_1)))\n",
    "\n",
    "pd.DataFrame({\n",
    "    'GitHub': gh_result_df[assignment_1].sum(axis=1),\n",
    "    'Rosalind': rosalind_result_df[assignment_1].sum(axis=1)\n",
    "})"
   ]
  },
  {
   "cell_type": "code",
   "execution_count": null,
   "metadata": {
    "collapsed": false
   },
   "outputs": [],
   "source": [
    "print('Assignment 2 has {} tasks'.format(len(assignment_2)))\n",
    "\n",
    "pd.DataFrame({\n",
    "    'GitHub': gh_result_df[assignment_2].sum(axis=1),\n",
    "    'Rosalind': rosalind_result_df[assignment_2].sum(axis=1)\n",
    "})"
   ]
  },
  {
   "cell_type": "code",
   "execution_count": null,
   "metadata": {
    "collapsed": false
   },
   "outputs": [],
   "source": [
    "print('Assignment 3 has {} tasks'.format(len(assignment_3)))\n",
    "\n",
    "pd.DataFrame({\n",
    "    'GitHub': gh_result_df[assignment_3].sum(axis=1),\n",
    "    'Rosalind': rosalind_result_df[assignment_3].sum(axis=1)\n",
    "})"
   ]
  }
 ],
 "metadata": {
  "kernelspec": {
   "display_name": "Python 3",
   "language": "python",
   "name": "python3"
  },
  "language_info": {
   "codemirror_mode": {
    "name": "ipython",
    "version": 3
   },
   "file_extension": ".py",
   "mimetype": "text/x-python",
   "name": "python",
   "nbconvert_exporter": "python",
   "pygments_lexer": "ipython3",
   "version": "3.5.2"
  }
 },
 "nbformat": 4,
 "nbformat_minor": 1
}
