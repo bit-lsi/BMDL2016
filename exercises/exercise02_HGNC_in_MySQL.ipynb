{
 "cells": [
  {
   "cell_type": "markdown",
   "metadata": {},
   "source": [
    "# <a name=\"top\">Exercise 2: HGNC and MySQL</span>"
   ]
  },
  {
   "cell_type": "markdown",
   "metadata": {},
   "source": [
    "## Table of content\n",
    "0. <a href=\"#import_and_preparations\">Imports and preparations</a>\n",
    "0. <a href=\"#problem\">Defining the problem</a>\n",
    "0. <a href=\"#objective\">Objective</a>\n",
    "0. <a href=\"#tasks_in_general\">Tasks in general</a>\n",
    "0. <a href=\"#tasks\">Tasks</a>\n",
    "0. <a href=\"#problem\">Defining the problem</a>"
   ]
  },
  {
   "cell_type": "markdown",
   "metadata": {},
   "source": [
    "## <a id=\"import_and_preparations\">Imports and preparations</a>"
   ]
  },
  {
   "cell_type": "code",
   "execution_count": null,
   "metadata": {
    "collapsed": true
   },
   "outputs": [],
   "source": [
    "import pandas as pd\n",
    "import os , json, pymysql, re\n",
    "base = os.path.join(os.environ['BUG_FREE_EUREKA_BASE'])\n",
    "%matplotlib inline"
   ]
  },
  {
   "cell_type": "code",
   "execution_count": null,
   "metadata": {
    "collapsed": false
   },
   "outputs": [],
   "source": [
    "pathToFile = os.path.join(base,'data','exercise05','nodes_in_Alzheimer_BEL_disease_network.tsv')\n",
    "df = pd.read_table(pathToFile)"
   ]
  },
  {
   "cell_type": "markdown",
   "metadata": {},
   "source": [
    "## <a id=\"problem\">Defining the problem</a>\n",
    "We have already loaded a list of biological entities in the context of Alzheimer's disease in a pandas `DataFrame`. The column **`value`** identifies in this `DataFrame` biological entities in specific namespace (stored in the column `namespace`). **`namespace`** and **`value`** together are a ***unique identifier*** for the entities. \n",
    "\n",
    "One of the most used namespaces in our dataset is HGNC. The HGNC database is maintained by the HUGO  Gene Nomenclature Committee and stores approved gene names, symbols (short-form abbreviation, column our `value`) and addtional information about genes.\n",
    "\n",
    "OK, even we have now a clear identify with the short name in our `DataFrame`: But do you know the recommended names of these short names, to which gene family they belong or the gene ID from NCBI?"
   ]
  },
  {
   "cell_type": "code",
   "execution_count": null,
   "metadata": {
    "collapsed": false
   },
   "outputs": [],
   "source": [
    "list(df[(df.namespace=='HGNC')].value[:10])"
   ]
  },
  {
   "cell_type": "markdown",
   "metadata": {},
   "source": [
    " Ice cream for all if you can give me all recommended names (without any further search)!"
   ]
  },
  {
   "cell_type": "markdown",
   "metadata": {},
   "source": [
    "## <a id=\"objective\">Objective</a>\n",
    "+ Find new insights into Alzheimer's disease by analysing the information about genes"
   ]
  },
  {
   "cell_type": "markdown",
   "metadata": {},
   "source": [
    "## <a id=\"tasks_in_general\">Tasks in general</a>"
   ]
  },
  {
   "cell_type": "markdown",
   "metadata": {},
   "source": [
    "   0. Analyse the JSON file, find a way to automatically scan the whole json for datatypes\n",
    "   0. Connect to MySQL, create database\n",
    "   0. Create appropriate tables in MySQL database\n",
    "   0. Store the data in the database\n",
    "   0. Find the gene family with the highest frequency \n",
    "       + by combining \n",
    "           + pandas dataframe\n",
    "           + MySQL database\n",
    "       + loading database into dataframe\n",
    "       + loading dataframe into database\n",
    "       \n",
    "links:\n",
    "+ [Reference manual](http://dev.mysql.com/doc/refman/5.7/en/)\n",
    "+ [HUGO Gene Nomenclature Committee (HGNC)](http://www.genenames.org/)"
   ]
  },
  {
   "cell_type": "markdown",
   "metadata": {},
   "source": [
    "## <a id=\"tasks\">Tasks</a>"
   ]
  },
  {
   "cell_type": "markdown",
   "metadata": {},
   "source": [
    "### Load the JSON file"
   ]
  },
  {
   "cell_type": "markdown",
   "metadata": {},
   "source": [
    "The data is in the JSON format - this means that all atomic data is in nested dictionaries and lists."
   ]
  },
  {
   "cell_type": "code",
   "execution_count": null,
   "metadata": {
    "collapsed": false
   },
   "outputs": [],
   "source": [
    "data_path = os.path.join(base,'data', 'exercise02', 'hgnc_complete_set.json')\n",
    "\n",
    "with open(data_path) as f:\n",
    "    hgnc_json = json.load(f)"
   ]
  },
  {
   "cell_type": "markdown",
   "metadata": {},
   "source": [
    "### Exploration of data structure\n",
    "\n",
    "We want to understand what data is inside this json. To do this, we'll look at the keys of each nested dictionary.\n",
    "\n",
    "The first set of keys shows that there is a response (the data) and a response header (data about the way it was downloaded). We will further explore the response."
   ]
  },
  {
   "cell_type": "code",
   "execution_count": null,
   "metadata": {
    "collapsed": false
   },
   "outputs": [],
   "source": [
    "hgnc_json.keys()"
   ]
  },
  {
   "cell_type": "markdown",
   "metadata": {},
   "source": [
    "The response contains `numFound`, which lists how many results there are in `docs`. Disregard `start`."
   ]
  },
  {
   "cell_type": "code",
   "execution_count": null,
   "metadata": {
    "collapsed": false
   },
   "outputs": [],
   "source": [
    "hgnc_json['response'].keys()"
   ]
  },
  {
   "cell_type": "code",
   "execution_count": null,
   "metadata": {
    "collapsed": false
   },
   "outputs": [],
   "source": [
    "hgnc_json['response']['docs'][0].keys()"
   ]
  },
  {
   "cell_type": "markdown",
   "metadata": {},
   "source": [
    "`docs` is a list where each entry is the data associated with a gene. Below is an example of the first element of this list:"
   ]
  },
  {
   "cell_type": "code",
   "execution_count": null,
   "metadata": {
    "collapsed": false
   },
   "outputs": [],
   "source": [
    "print(json.dumps(hgnc_json['response']['docs'][0], indent=5))"
   ]
  },
  {
   "cell_type": "markdown",
   "metadata": {
    "collapsed": true
   },
   "source": [
    "### Create a Database Schema\n",
    "\n",
    "Analyze the structure of each entry. Depending on the data type, decide what sort of relation you need to store the data. For example, a list would correspond to a 1-to-many relationship, while an atomic would correspond to a 1-to-1.\n",
    "\n",
    "Your goal is to connect to your database, build an appropriate schema, and upload the data from the hgnc_json file. \n",
    "\n",
    "Choose one 1-to-n relationship and some 1-to-1 for your schema."
   ]
  },
  {
   "cell_type": "code",
   "execution_count": null,
   "metadata": {
    "collapsed": false
   },
   "outputs": [],
   "source": [
    "secrets_path = os.path.join(base, 'secrets.json')\n",
    "\n",
    "with open(secrets_path) as f:\n",
    "    secrets = json.load(f)\n",
    "\n",
    "print(json.dumps(secrets, indent=2))"
   ]
  },
  {
   "cell_type": "code",
   "execution_count": null,
   "metadata": {
    "collapsed": true
   },
   "outputs": [],
   "source": [
    "pd.io.sql._SQL_TYPES['string']['mysql']='VARCHAR (255)' # fixes the problem of too short varchar fields"
   ]
  },
  {
   "cell_type": "code",
   "execution_count": null,
   "metadata": {
    "collapsed": false
   },
   "outputs": [],
   "source": [
    "db_params = secrets['test_db']\n",
    "\n",
    "conn = pymysql.connect(**db_params)"
   ]
  },
  {
   "cell_type": "code",
   "execution_count": null,
   "metadata": {
    "collapsed": false
   },
   "outputs": [],
   "source": [
    "schema_sql = \"\"\"\n",
    "select 'YOUR CODE HERE'\n",
    "\"\"\"\n",
    "\n",
    "with conn.cursor(pymysql.cursors.DictCursor) as cursor:\n",
    "    cursor.execute(schema_sql)\n",
    "    print(*cursor.fetchone())"
   ]
  },
  {
   "cell_type": "markdown",
   "metadata": {},
   "source": [
    "## ToDos\n",
    "+ create a database with the name `hgnc`\n",
    "+ Analyse you data structure by iterating over the data and identify \n",
    "    + datatypes\n",
    "    + relationship type (1 to 1, 1 to many)\n",
    "+ use a new cursor and `cursor.executemany()` to execute the same statement over entry of `docs`.\n",
    "+ Upload the Data"
   ]
  },
  {
   "cell_type": "markdown",
   "metadata": {
    "collapsed": true
   },
   "source": [
    "## Solution"
   ]
  },
  {
   "cell_type": "markdown",
   "metadata": {},
   "source": [
    "## Create the database "
   ]
  },
  {
   "cell_type": "markdown",
   "metadata": {},
   "source": [
    "### Analyse you data structure by iterating over the data"
   ]
  },
  {
   "cell_type": "code",
   "execution_count": null,
   "metadata": {
    "collapsed": false
   },
   "outputs": [],
   "source": [
    "docs = hgnc_json['response']['docs']\n",
    "print(type(docs))"
   ]
  },
  {
   "cell_type": "code",
   "execution_count": null,
   "metadata": {
    "collapsed": false
   },
   "outputs": [],
   "source": [
    "dataTypes={}\n",
    "# ... write here your code ti fill up the dataTypes dictionary like dataType = {'column1':[int],'column2':[str,int],...}\n"
   ]
  },
  {
   "cell_type": "markdown",
   "metadata": {},
   "source": [
    "Now we check if there could be more than one datatype per key. We can do this by iterating over the dictionary `dataTypes`. This time we have curly brackets surronding the list compression. This create a set."
   ]
  },
  {
   "cell_type": "code",
   "execution_count": null,
   "metadata": {
    "collapsed": false
   },
   "outputs": [],
   "source": [
    "# Now deside if we have perhaps mixed datatypes in your columns. That could be a problem"
   ]
  },
  {
   "cell_type": "code",
   "execution_count": null,
   "metadata": {
    "collapsed": false
   },
   "outputs": [],
   "source": [
    "# create a list of columns which can be used in the main table because they are 1-to-1 and \n",
    "# a list of columns with more than value "
   ]
  },
  {
   "cell_type": "markdown",
   "metadata": {},
   "source": [
    "Let's create automatically the main table `gene` with `to_sql` method of `pandas.DataFrame`. Exclude the columns which"
   ]
  },
  {
   "cell_type": "code",
   "execution_count": null,
   "metadata": {
    "collapsed": true
   },
   "outputs": [],
   "source": [
    "# load the json into a DataFrame as we did it before\n",
    "# 1. all columns in the table named 'gene'\n",
    "# 2. create dynamically first DataFrames and then\n",
    "#    tables named as the columns with 1-to-many relation. Store also the foreign key in this DataFrame "
   ]
  },
  {
   "cell_type": "code",
   "execution_count": null,
   "metadata": {
    "collapsed": false
   },
   "outputs": [],
   "source": [
    "# Code 1"
   ]
  },
  {
   "cell_type": "markdown",
   "metadata": {},
   "source": [
    "Check this MySQL website [Schema Object Names](http://dev.mysql.com/doc/refman/5.7/en/identifiers.html) for valid column names.\n",
    "\n",
    "[0-9a-zA-Z$_] are allowed characters"
   ]
  },
  {
   "cell_type": "code",
   "execution_count": null,
   "metadata": {
    "collapsed": false
   },
   "outputs": [],
   "source": [
    "# correct column names with regex"
   ]
  },
  {
   "cell_type": "markdown",
   "metadata": {},
   "source": [
    "Let's rename our columns in the dataframe"
   ]
  },
  {
   "cell_type": "markdown",
   "metadata": {},
   "source": [
    "### 1-to1"
   ]
  },
  {
   "cell_type": "markdown",
   "metadata": {},
   "source": [
    "### 1-to-many"
   ]
  }
 ],
 "metadata": {
  "kernelspec": {
   "display_name": "Python 3",
   "language": "python",
   "name": "python3"
  },
  "language_info": {
   "codemirror_mode": {
    "name": "ipython",
    "version": 3
   },
   "file_extension": ".py",
   "mimetype": "text/x-python",
   "name": "python",
   "nbconvert_exporter": "python",
   "pygments_lexer": "ipython3",
   "version": "3.5.2"
  }
 },
 "nbformat": 4,
 "nbformat_minor": 1
}
