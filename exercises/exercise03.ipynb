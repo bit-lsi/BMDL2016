{
 "cells": [
  {
   "cell_type": "markdown",
   "metadata": {},
   "source": [
    "Write a function `my_print` that prints the third, fifth, and 7th-10th latin alphabet letters\n",
    "\n",
    "Note: the lowercase letters are in:\n",
    "\n",
    "```python\n",
    ">>> import string\n",
    ">>> string.ascii_lowercase\n",
    "'abcdefghijklmnopqrstuvwxyz'\n",
    "```\n",
    "\n",
    "\n",
    "```python\n",
    "\n",
    ">>> my_print()\n",
    "'c'\n",
    "'e'\n",
    "'g'\n",
    "'h'\n",
    "'i'\n",
    "'j'\n",
    "```"
   ]
  },
  {
   "cell_type": "code",
   "execution_count": null,
   "metadata": {
    "collapsed": false
   },
   "outputs": [],
   "source": []
  },
  {
   "cell_type": "markdown",
   "metadata": {},
   "source": [
    "Write a function `first(x)` that returns the value if it is not a tuple/list, or the first element if it is a tuple/list\n",
    "\n",
    "```python\n",
    ">>> first('a')\n",
    "'a'\n",
    ">>> first(1)\n",
    "1\n",
    ">>> first([2, 3, 4])\n",
    "2\n",
    ">>> first((5, 6, 7))\n",
    "5\n",
    "```"
   ]
  },
  {
   "cell_type": "code",
   "execution_count": null,
   "metadata": {
    "collapsed": true
   },
   "outputs": [],
   "source": []
  },
  {
   "cell_type": "markdown",
   "metadata": {},
   "source": [
    "Print the following number `1234.56789` normally, truncated as an integer, to 1, 2, and 3 decimal places, and in scientific notation. Do this using both `str.format` and casting with `%`."
   ]
  },
  {
   "cell_type": "code",
   "execution_count": null,
   "metadata": {
    "collapsed": true
   },
   "outputs": [],
   "source": []
  },
  {
   "cell_type": "markdown",
   "metadata": {},
   "source": [
    "Iterate through and print each language and its greeting from the following dictionary:\n",
    "\n",
    "```python\n",
    "greetings = {\n",
    "    'spanish': 'hola',\n",
    "    'german': 'hallo',\n",
    "    'english': 'good day',\n",
    "    'american': 'howdy'\n",
    "}\n",
    "```"
   ]
  },
  {
   "cell_type": "code",
   "execution_count": null,
   "metadata": {
    "collapsed": true
   },
   "outputs": [],
   "source": []
  },
  {
   "cell_type": "markdown",
   "metadata": {},
   "source": [
    "Write a function `get_seconds(my_list)` that takes a list of pairs and gives back a list of only the second items.\n",
    "\n",
    "```python\n",
    ">>> pairs = [[1, 2], [3, 4], [5, 6]]\n",
    ">>> get_seconds(pairs)\n",
    "[2, 4, 6]\n",
    "```"
   ]
  },
  {
   "cell_type": "code",
   "execution_count": null,
   "metadata": {
    "collapsed": true
   },
   "outputs": [],
   "source": []
  },
  {
   "cell_type": "markdown",
   "metadata": {},
   "source": [
    "Write a function `biggest_key(my_dict)` that takes a dictionary and returns the key that has the largest value. Consider using the function `my_dict.get` as a key.\n",
    "\n",
    "Use it to Get the person's name with the highest power level:\n",
    "\n",
    "```python\n",
    ">>> power_levels = {\n",
    "...    'Christian': 9001,\n",
    "...    'Charlie': 6,\n",
    "...    'Nanditha': 6.1\n",
    "... }\n",
    ">>> biggest_key(power_levels)\n",
    "'Christian'\n",
    "```"
   ]
  },
  {
   "cell_type": "code",
   "execution_count": null,
   "metadata": {
    "collapsed": true
   },
   "outputs": [],
   "source": []
  },
  {
   "cell_type": "markdown",
   "metadata": {},
   "source": [
    "Write a function `div7(n)` that returns a list of all the numbers less than n that are divisible by 7\n",
    "\n",
    "```python\n",
    ">>> div7(29)\n",
    "[0, 7, 14, 21, 28]\n",
    "```"
   ]
  },
  {
   "cell_type": "code",
   "execution_count": null,
   "metadata": {
    "collapsed": true
   },
   "outputs": [],
   "source": []
  },
  {
   "cell_type": "markdown",
   "metadata": {},
   "source": [
    "Write a function `flatten(my_list)` that turns a list of lists into a single list\n",
    "\n",
    "```python\n",
    ">>> l = [[1,2,3],['a','b','c'],[7,8,9]]\n",
    ">>> flatten(l)\n",
    "[1,2,3,'a','b','c',7,8,9]\n",
    "```"
   ]
  },
  {
   "cell_type": "code",
   "execution_count": null,
   "metadata": {
    "collapsed": true
   },
   "outputs": [],
   "source": []
  },
  {
   "cell_type": "markdown",
   "metadata": {},
   "source": [
    "Write a function `cartesian(my_list1, my_list2)` that makes the cartesian product between two lists\n",
    "\n",
    "```python\n",
    ">>> x = [1,2,3]\n",
    ">>> y = ['a', 'b']\n",
    ">>> cartesian(x, y)\n",
    "[(1, 'a'), (1, 'b'), (2, 'a'), (2, 'b'), (3, 'a'), (3, 'b')]\n",
    "```"
   ]
  },
  {
   "cell_type": "code",
   "execution_count": null,
   "metadata": {
    "collapsed": true
   },
   "outputs": [],
   "source": []
  },
  {
   "cell_type": "markdown",
   "metadata": {},
   "source": [
    "Write a function `remove_all(my_list, element)` that removes all occurrences of `element` in the list. This function should not return a value. It should not modify the order.\n",
    "\n",
    "```python\n",
    ">>> x = [1, 2, 3, 2, 3, 4, 3, 5]\n",
    ">>> remove_all(x, 2)\n",
    ">>> x\n",
    "[1, 3, 3, 4, 3, 5]\n",
    "```\n"
   ]
  },
  {
   "cell_type": "code",
   "execution_count": null,
   "metadata": {
    "collapsed": true
   },
   "outputs": [],
   "source": []
  },
  {
   "cell_type": "markdown",
   "metadata": {},
   "source": [
    "Write a function `my_combinations(my_list)` that returns all combinations of the elements in `my_list`\n",
    "\n",
    "```python\n",
    ">>> x = [1, 2, 3, 4]\n",
    ">>> my_combinations(x)\n",
    "[[1, 2], [1, 3], [1, 4], [2, 3], [2, 4], [3, 4]]\n",
    "```"
   ]
  },
  {
   "cell_type": "code",
   "execution_count": null,
   "metadata": {
    "collapsed": false
   },
   "outputs": [],
   "source": []
  },
  {
   "cell_type": "markdown",
   "metadata": {},
   "source": [
    "Write a function `cumsum(n)` that gives back the cumulative sum of each number up to i for each position i.\n",
    "\n",
    "```python\n",
    ">>> cumsum(4)\n",
    "[0, 1, 3, 7, 12]\n",
    "```"
   ]
  },
  {
   "cell_type": "code",
   "execution_count": null,
   "metadata": {
    "collapsed": true
   },
   "outputs": [],
   "source": []
  },
  {
   "cell_type": "markdown",
   "metadata": {},
   "source": [
    "Make a dictionary from `continent2countries` from continents to countries in that continent. Make another dictionary `country2capital` from countries to their capitals."
   ]
  },
  {
   "cell_type": "code",
   "execution_count": null,
   "metadata": {
    "collapsed": true
   },
   "outputs": [],
   "source": []
  }
 ],
 "metadata": {
  "kernelspec": {
   "display_name": "Python 3",
   "language": "python",
   "name": "python3"
  },
  "language_info": {
   "codemirror_mode": {
    "name": "ipython",
    "version": 3
   },
   "file_extension": ".py",
   "mimetype": "text/x-python",
   "name": "python",
   "nbconvert_exporter": "python",
   "pygments_lexer": "ipython3",
   "version": "3.5.2"
  }
 },
 "nbformat": 4,
 "nbformat_minor": 1
}
