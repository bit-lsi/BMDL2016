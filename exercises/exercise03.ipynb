{
 "cells": [
  {
   "cell_type": "markdown",
   "metadata": {},
   "source": [
    "Write a function `my_print` that prints the third, fifth, and 7th-10th latin alphabet letters\n",
    "\n",
    "Note: the lowercase letters are in:\n",
    "\n",
    "```python\n",
    ">>> import string\n",
    ">>> string.ascii_lowercase\n",
    "'abcdefghijklmnopqrstuvwxyz'\n",
    "```\n",
    "\n",
    "\n",
    "```python\n",
    "\n",
    ">>> my_print()\n",
    "'c'\n",
    "'e'\n",
    "'g'\n",
    "'h'\n",
    "'i'\n",
    "'j'\n",
    "```"
   ]
  },
  {
   "cell_type": "code",
   "execution_count": 28,
   "metadata": {
    "collapsed": false
   },
   "outputs": [
    {
     "name": "stdout",
     "output_type": "stream",
     "text": [
      "1 2 3 4 5 6 7 8\n",
      "1 2 3 4 5 6 7 8\n",
      "1 2 3 4 5 6 7 8\n"
     ]
    }
   ],
   "source": [
    "import string\n",
    "\n",
    "x = string.ascii_lowercase\n",
    "\n",
    "def my_print():\n",
    "    \n",
    "    \n",
    "    # Ihsan\n",
    "    #print (x[2])\n",
    "    #print (x[4])\n",
    "    #for i in range(6, 10):\n",
    "    #    print (x[i])\n",
    "        \n",
    "    # Alex\n",
    "    #my_list = [2, 4]\n",
    "    #my_list.extend( list(range(6,10)))\n",
    "    #for i in my_list:\n",
    "    #    print(\"'{}'\".format(string.ascii_lowercase[i]))\n",
    "    \n",
    "    print(x[2], x[4], *x[6:10], sep=', ')\n",
    "    \n",
    "    \n",
    "    \n",
    "#my_print()\n",
    "#list(x[6:10])\n",
    "\n",
    "x = [1,2,3,4]\n",
    "print(1,2,3,4,5,6,7,8)\n",
    "print(x[0], x[1], x[2], x[3],5,6,7,8)\n",
    "print(*x[0:4], 5, 6, 7,8)"
   ]
  },
  {
   "cell_type": "code",
   "execution_count": 26,
   "metadata": {
    "collapsed": false
   },
   "outputs": [
    {
     "name": "stdout",
     "output_type": "stream",
     "text": [
      "1, 2, 3\n"
     ]
    }
   ],
   "source": [
    "def print_params(*my_params):\n",
    "    print(*my_params, sep=', ')\n",
    "\n",
    "print_params(1,2,3)    "
   ]
  },
  {
   "cell_type": "markdown",
   "metadata": {},
   "source": [
    "Write a function `first(x)` that returns the value if it is not a tuple/list, or the first element if it is a tuple/list\n",
    "\n",
    "```python\n",
    ">>> first('a')\n",
    "'a'\n",
    ">>> first(1)\n",
    "1\n",
    ">>> first([2, 3, 4])\n",
    "2\n",
    ">>> first((5, 6, 7))\n",
    "5\n",
    "```"
   ]
  },
  {
   "cell_type": "code",
   "execution_count": 34,
   "metadata": {
    "collapsed": false
   },
   "outputs": [
    {
     "data": {
      "text/plain": [
       "'abc'"
      ]
     },
     "execution_count": 34,
     "metadata": {},
     "output_type": "execute_result"
    }
   ],
   "source": [
    "#haritha\n",
    "def first(x):\n",
    "    if isinstance(x,(list,tuple)):\n",
    "        return x[0]\n",
    "    else:\n",
    "        return x\n",
    "def first(x):\n",
    "    return x[0] if isinstance(x,(list,tuple)) else x\n",
    "\n",
    "x='abc'\n",
    "first(x)"
   ]
  },
  {
   "cell_type": "markdown",
   "metadata": {},
   "source": [
    "Print the following number `1234.56789` normally, truncated as an integer, to 1, 2, and 3 decimal places, and in scientific notation. Do this using both `str.format` and casting with `%`."
   ]
  },
  {
   "cell_type": "code",
   "execution_count": 56,
   "metadata": {
    "collapsed": false
   },
   "outputs": [
    {
     "name": "stdout",
     "output_type": "stream",
     "text": [
      "a=1234\n",
      "a=1234.567890\n",
      "a=1234.6\n",
      "a=1234.57\n",
      "a=1234.568\n",
      "a=1.234568e+03\n",
      "b=1234.56789\n",
      "b=1234.6\n",
      "b=1.2e+03\n",
      "b=1.2e+03\n"
     ]
    }
   ],
   "source": [
    "#monica\n",
    "n = 1234.56789\n",
    "print('a=%.d' % n)\n",
    "print('a=%f' % n)\n",
    "print('a=%.1f' % n)\n",
    "print('a=%.2f' % n)\n",
    "print('a=%.3f' % n)\n",
    "print('a=%e' % n)\n",
    "\n",
    "\n",
    "print('b={}'.format(n))\n",
    "print('b={:.1f}'.format(n))\n",
    "print('b={:.1e}'.format(n))\n",
    "print('b={:2.2g}'.format(n))"
   ]
  },
  {
   "cell_type": "markdown",
   "metadata": {},
   "source": [
    "Iterate through and print each language and its greeting from the following dictionary:\n",
    "\n",
    "```python\n",
    "greetings = {\n",
    "    'spanish': 'hola',\n",
    "    'german': 'hallo',\n",
    "    'english': 'good day',\n",
    "    'american': 'howdy'\n",
    "}\n",
    "```"
   ]
  },
  {
   "cell_type": "code",
   "execution_count": 57,
   "metadata": {
    "collapsed": true
   },
   "outputs": [],
   "source": [
    "greetings = {\n",
    "    'spanish': 'hola',\n",
    "    'german': 'hallo',\n",
    "    'english': 'good day',\n",
    "    'american': 'howdy'\n",
    "}"
   ]
  },
  {
   "cell_type": "code",
   "execution_count": 61,
   "metadata": {
    "collapsed": false
   },
   "outputs": [
    {
     "name": "stdout",
     "output_type": "stream",
     "text": [
      "The spanish says hola\n",
      "The english says good day\n",
      "The american says howdy\n",
      "The german says hallo\n"
     ]
    }
   ],
   "source": [
    "# Umesh\n",
    "for language, greeting in greetings.items():\n",
    "    print('The {} says {}'.format(language, greeting))\n",
    "\n",
    "for item in greetings.items():\n",
    "    print('The {} says {}'.format(*item))"
   ]
  },
  {
   "cell_type": "markdown",
   "metadata": {},
   "source": [
    "Write a function `get_seconds(my_list)` that takes a list of pairs and gives back a list of only the second items.\n",
    "\n",
    "```python\n",
    ">>> pairs = [[1, 2], [3, 4], [5, 6]]\n",
    ">>> get_seconds(pairs)\n",
    "[2, 4, 6]\n",
    "```"
   ]
  },
  {
   "cell_type": "code",
   "execution_count": 71,
   "metadata": {
    "collapsed": false
   },
   "outputs": [
    {
     "data": {
      "text/plain": [
       "[2, 4, 6]"
      ]
     },
     "execution_count": 71,
     "metadata": {},
     "output_type": "execute_result"
    }
   ],
   "source": [
    "def get_seconds(my_list):\n",
    "    a=[]\n",
    "    for i in range(0,len(my_list)):\n",
    "        a.append(my_list[i][1])\n",
    "    return a\n",
    "\n",
    "def get_seconds(my_list):\n",
    "    a=[]\n",
    "    for i in range(len(my_list)):\n",
    "        a.append(my_list[i][1])\n",
    "    return a\n",
    "\n",
    "def get_seconds2(my_list):\n",
    "    result =[]\n",
    "    for a, b in my_list:\n",
    "        result.append(b)\n",
    "    return result\n",
    "\n",
    "def get_seconds3(my_list):\n",
    "    a,b = zip(*my_list)\n",
    "    return b\n",
    "\n",
    "def get_seconds4(my_list):\n",
    "    return [i[1] for i in my_list]\n",
    "\n",
    "def get_seconds5(my_list):\n",
    "    return [b for a, b in my_list]\n",
    "\n",
    "from operator import itemgetter\n",
    "\n",
    "def get_seconds6(my_list):\n",
    "    return map(itemgetter(1), my_list)\n",
    "\n",
    "pairs = [[1, 2], [3, 4], [5, 6]]\n",
    "list(get_seconds6(pairs))\n"
   ]
  },
  {
   "cell_type": "markdown",
   "metadata": {},
   "source": [
    "Write a function `biggest_key(my_dict)` that takes a dictionary and returns the key that has the largest value. Consider using the function `my_dict.get` as a key.\n",
    "\n",
    "Use it to Get the person's name with the highest power level:\n",
    "\n",
    "```python\n",
    ">>> power_levels = {\n",
    "...    'Christian': 9001,\n",
    "...    'Charlie': 6,\n",
    "...    'Nanditha': 6.1\n",
    "... }\n",
    ">>> biggest_key(power_levels)\n",
    "'Christian'\n",
    "```"
   ]
  },
  {
   "cell_type": "code",
   "execution_count": 77,
   "metadata": {
    "collapsed": false
   },
   "outputs": [
    {
     "data": {
      "text/plain": [
       "['Charlie', 'Nanditha', 'Christian']"
      ]
     },
     "execution_count": 77,
     "metadata": {},
     "output_type": "execute_result"
    }
   ],
   "source": [
    "power_levels = {\n",
    "    'Christian': 9001,\n",
    "    'Charlie': 6,\n",
    "    'Nanditha': 6.1\n",
    "}\n",
    "\n",
    "list(power_levels)"
   ]
  },
  {
   "cell_type": "code",
   "execution_count": 80,
   "metadata": {
    "collapsed": false
   },
   "outputs": [
    {
     "data": {
      "text/plain": [
       "'Christian'"
      ]
     },
     "execution_count": 80,
     "metadata": {},
     "output_type": "execute_result"
    }
   ],
   "source": [
    "l = ['Charlie', 'Nanditha', 'Christian']\n",
    "\n",
    "max(l, key=len)"
   ]
  },
  {
   "cell_type": "code",
   "execution_count": 79,
   "metadata": {
    "collapsed": false
   },
   "outputs": [
    {
     "data": {
      "text/plain": [
       "'Christian'"
      ]
     },
     "execution_count": 79,
     "metadata": {},
     "output_type": "execute_result"
    }
   ],
   "source": [
    "max(list(power_levels), key=power_levels.get)"
   ]
  },
  {
   "cell_type": "code",
   "execution_count": 75,
   "metadata": {
    "collapsed": false
   },
   "outputs": [
    {
     "name": "stdout",
     "output_type": "stream",
     "text": [
      "Christian 9001\n"
     ]
    }
   ],
   "source": [
    "#akristha\n",
    "def biggest_key(my_dict):\n",
    "    return max(my_dict, key=my_dict.get)\n",
    "\n",
    "p = biggest_key(power_levels) \n",
    "print(p, power_levels[p])"
   ]
  },
  {
   "cell_type": "markdown",
   "metadata": {},
   "source": [
    "Write a function `div7(n)` that returns a list of all the numbers less than n that are divisible by 7\n",
    "\n",
    "```python\n",
    ">>> div7(29)\n",
    "[0, 7, 14, 21, 28]\n",
    "```"
   ]
  },
  {
   "cell_type": "code",
   "execution_count": 83,
   "metadata": {
    "collapsed": false
   },
   "outputs": [
    {
     "data": {
      "text/plain": [
       "[0, 7, 14, 21, 28]"
      ]
     },
     "execution_count": 83,
     "metadata": {},
     "output_type": "execute_result"
    }
   ],
   "source": [
    "# sephr\n",
    "\n",
    "def div7(n):\n",
    "    return [i for i in range(n) if not i % 7]\n",
    "\n",
    "div7(29)"
   ]
  },
  {
   "cell_type": "markdown",
   "metadata": {},
   "source": [
    "Write a function `flatten(my_list)` that turns a list of lists into a single list\n",
    "\n",
    "```python\n",
    ">>> l = [[1,2,3],['a','b','c'],[7,8,9]]\n",
    ">>> flatten(l)\n",
    "[1,2,3,'a','b','c',7,8,9]\n",
    "```"
   ]
  },
  {
   "cell_type": "code",
   "execution_count": 94,
   "metadata": {
    "collapsed": false
   },
   "outputs": [
    {
     "data": {
      "text/plain": [
       "[1, 2, 3, 'a', 'b', 7, 8, 9, 10, 11, 12]"
      ]
     },
     "execution_count": 94,
     "metadata": {},
     "output_type": "execute_result"
    }
   ],
   "source": [
    "# randa\n",
    "\n",
    "def flatten(my_list):\n",
    "    result = []\n",
    "    for i in range(len(my_list)):\n",
    "        for j in range(len(my_list[i])):\n",
    "            result.append(my_list[i][j])\n",
    "    return result\n",
    "\n",
    "def flatten2(my_list):\n",
    "    result = []\n",
    "    for my_sub_list in my_list:\n",
    "        for element in my_sub_list:\n",
    "            result.append(element)\n",
    "    return result\n",
    "\n",
    "def flatten3(my_list):\n",
    "    result = []\n",
    "    for my_sub_list in my_list:\n",
    "        result.extend(my_sub_list)\n",
    "    return result\n",
    "\n",
    "def flatten4(my_list):\n",
    "    return [element for sub_list in my_list for element in sub_list]\n",
    "\n",
    "l = [[1,2,3],['a','b'],[7,8,9],[10,11,12]]\n",
    "flatten4(l)"
   ]
  },
  {
   "cell_type": "markdown",
   "metadata": {},
   "source": [
    "Write a function `cartesian(my_list1, my_list2)` that makes the cartesian product between two lists\n",
    "\n",
    "```python\n",
    ">>> x = [1,2,3]\n",
    ">>> y = ['a', 'b']\n",
    ">>> cartesian(x, y)\n",
    "[(1, 'a'), (1, 'b'), (2, 'a'), (2, 'b'), (3, 'a'), (3, 'b')]\n",
    "```"
   ]
  },
  {
   "cell_type": "code",
   "execution_count": 96,
   "metadata": {
    "collapsed": false
   },
   "outputs": [
    {
     "data": {
      "text/plain": [
       "[(1, 'a'), (1, 'b'), (2, 'a'), (2, 'b'), (3, 'a'), (3, 'b')]"
      ]
     },
     "execution_count": 96,
     "metadata": {},
     "output_type": "execute_result"
    }
   ],
   "source": [
    "# xin\n",
    "def cartesian(x, y):\n",
    "    my_list=[]\n",
    "    for i in range(len(x)):\n",
    "        for j in range(len(y)):\n",
    "            my_list.append((x[i],y[j]))\n",
    "    return my_list\n",
    "\n",
    "def better_cartesian(x, y):\n",
    "    my_list = []\n",
    "    for a in x:\n",
    "        for b in y:\n",
    "            my_list.append((a,b))\n",
    "    return my_list\n",
    "\n",
    "\n",
    "\n",
    "x = [1,2,3]\n",
    "y = ['a', 'b']\n",
    "cartesian(x, y)"
   ]
  },
  {
   "cell_type": "markdown",
   "metadata": {},
   "source": [
    "Write a function `remove_all(my_list, element)` that removes all occurrences of `element` in the list. This function should not return a value. It should not modify the order.\n",
    "\n",
    "```python\n",
    ">>> x = [1, 2, 3, 2, 3, 4, 3, 5]\n",
    ">>> remove_all(x, 2)\n",
    ">>> x\n",
    "[1, 3, 3, 4, 3, 5]\n",
    "```\n"
   ]
  },
  {
   "cell_type": "code",
   "execution_count": 100,
   "metadata": {
    "collapsed": false
   },
   "outputs": [
    {
     "data": {
      "text/plain": [
       "[1, 3, 3, 4, 3, 5]"
      ]
     },
     "execution_count": 100,
     "metadata": {},
     "output_type": "execute_result"
    }
   ],
   "source": [
    "# lilit\n",
    "\n",
    "def remove_all(my_list, element):\n",
    "    for i in my_list:\n",
    "        if i == element:\n",
    "            my_list.remove(element)\n",
    "            \n",
    "def remove_all(my_list, element):\n",
    "    if element in my_list:\n",
    "        my_list.remove(element)\n",
    "        remove_all(my_list, element)\n",
    "    \n",
    "def remove_all(my_list, element)\n",
    "    [my_list.remove(e) for e in my_list if e == element]\n",
    "\n",
    "def remove_all(my_list, element):\n",
    "    for i in my_list.count(element):\n",
    "        my_list.remove(element)\n",
    "        \n",
    "def remove_all(my_list, element):\n",
    "    while element in my_list:\n",
    "        my_list.remove(element)\n",
    "    \n",
    "x = [1, 2, 3, 2, 3, 4, 3, 5]\n",
    "remove_all(x, 2)\n",
    "x"
   ]
  },
  {
   "cell_type": "markdown",
   "metadata": {},
   "source": [
    "Write a function `my_combinations(my_list)` that returns all combinations of the elements in `my_list`\n",
    "\n",
    "```python\n",
    ">>> x = [1, 2, 3, 4]\n",
    ">>> my_combinations(x)\n",
    "[[1, 2], [1, 3], [1, 4], [2, 3], [2, 4], [3, 4]]\n",
    "```"
   ]
  },
  {
   "cell_type": "code",
   "execution_count": 119,
   "metadata": {
    "collapsed": false
   },
   "outputs": [
    {
     "data": {
      "text/plain": [
       "[(1, 2), (1, 3), (1, 4), (2, 3), (2, 4), (3, 4)]"
      ]
     },
     "execution_count": 119,
     "metadata": {},
     "output_type": "execute_result"
    }
   ],
   "source": [
    "# sakthi\n",
    "def my_combinations(my_list):\n",
    "    return {tuple(sorted([a,b])) for a in my_list for b in my_list if a != b}\n",
    "  \n",
    "# asma\n",
    "def my_combinations2(my_list):\n",
    "    return [(el1,el2) for i, el1 in enumerate(my_list) for j, el2 in enumerate(my_list[i + 1:])]\n",
    "\n",
    "def my_combinations3(my_list):\n",
    "    result = []\n",
    "    for i in range(len(my_list) - 1):\n",
    "        for j in range(i + 1, len(my_list)):\n",
    "            result.append((my_list[i], my_list[j]))\n",
    "    return result\n",
    "\n",
    "def my_combinations4(my_list):\n",
    "    result = []\n",
    "    for i in range(len(my_list)):\n",
    "        for j in range(len(my_list)):\n",
    "            if i < j:\n",
    "                result.append((my_list[i], my_list[j]))\n",
    "    return result\n",
    "\n",
    "x = [1, 2, 3, 4]\n",
    "my_combinations4(x)"
   ]
  },
  {
   "cell_type": "markdown",
   "metadata": {},
   "source": [
    "Write a function `cumsum(n)` that gives back the cumulative sum of each number up to i for each position i.\n",
    "\n",
    "```python\n",
    ">>> cumsum(4)\n",
    "[0, 1, 3, 6, 10]\n",
    "```"
   ]
  },
  {
   "cell_type": "code",
   "execution_count": 125,
   "metadata": {
    "collapsed": false
   },
   "outputs": [
    {
     "data": {
      "text/plain": [
       "[0, 1, 3, 6, 10]"
      ]
     },
     "execution_count": 125,
     "metadata": {},
     "output_type": "execute_result"
    }
   ],
   "source": [
    "# amir\n",
    "\n",
    "def cumsum(n):\n",
    "    my_list = []\n",
    "    result = 0\n",
    "    \n",
    "    for x in range(n + 1):\n",
    "        result += x\n",
    "        my_list.append(result)\n",
    "        \n",
    "    return my_list\n",
    "    \n",
    "def cumsum(n):\n",
    "    my_list = [0]\n",
    "    for x in range(1, n + 1):\n",
    "        my_list.append(my_list[x - 1] + x)\n",
    "    return my_list\n",
    "\n",
    "cumsum(4)"
   ]
  },
  {
   "cell_type": "markdown",
   "metadata": {},
   "source": [
    "Make a dictionary from `continent2countries` from continents to countries in that continent. Make another dictionary `country2capital` from countries to their capitals."
   ]
  },
  {
   "cell_type": "code",
   "execution_count": 126,
   "metadata": {
    "collapsed": true
   },
   "outputs": [],
   "source": [
    "#hanan\n",
    "continent2countries = {\n",
    "    'Asia': ['Yemen', 'Pakistan','Saudi Arabia','China'],\n",
    "    'Africa': ['Egypt', 'Democratic Republic of Congo', 'Republic of Congo'],\n",
    "    'Europe': ['Germany', 'France']\n",
    "}\n",
    "\n",
    "country2capital = {\n",
    "    'Yemen': 'Sanaa',\n",
    "    'Saudi Arabia': 'Riyadh',\n",
    "}"
   ]
  }
 ],
 "metadata": {
  "kernelspec": {
   "display_name": "Python 3",
   "language": "python",
   "name": "python3"
  },
  "language_info": {
   "codemirror_mode": {
    "name": "ipython",
    "version": 3
   },
   "file_extension": ".py",
   "mimetype": "text/x-python",
   "name": "python",
   "nbconvert_exporter": "python",
   "pygments_lexer": "ipython3",
   "version": "3.5.2"
  }
 },
 "nbformat": 4,
 "nbformat_minor": 1
}
