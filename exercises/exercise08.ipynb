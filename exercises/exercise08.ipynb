{
 "cells": [
  {
   "cell_type": "markdown",
   "metadata": {},
   "source": [
    "# Introduction\n",
    "\n",
    "This exercise makes use of the database you created in `Exercise02` and the BEL statement parsers you write with regular expressions in `Reading_searching_sending.ipynb`."
   ]
  },
  {
   "cell_type": "code",
   "execution_count": 1,
   "metadata": {
    "collapsed": false
   },
   "outputs": [
    {
     "data": {
      "text/plain": [
       "'Thu Oct  6 14:55:41 2016'"
      ]
     },
     "execution_count": 1,
     "metadata": {},
     "output_type": "execute_result"
    }
   ],
   "source": [
    "import os, json, re, time, logging\n",
    "\n",
    "import pandas as pd\n",
    "import networkx as nx\n",
    "\n",
    "log = logging.getLogger(__name__)\n",
    "time.asctime()"
   ]
  },
  {
   "cell_type": "code",
   "execution_count": 2,
   "metadata": {
    "collapsed": false
   },
   "outputs": [
    {
     "data": {
      "text/plain": [
       "'/Users/cthoyt/dev/bug-free-eureka'"
      ]
     },
     "execution_count": 2,
     "metadata": {},
     "output_type": "execute_result"
    }
   ],
   "source": [
    "base = os.path.join(os.environ['BUG_FREE_EUREKA_BASE'])\n",
    "base"
   ]
  },
  {
   "cell_type": "markdown",
   "metadata": {},
   "source": [
    "# Task 1\n",
    "\n",
    "This exercise is about loading the HGNC data to create a dictionary from HGNC symbols to set of enzyme ID's.\n",
    "\n",
    "## 1.1 Load Data\n",
    "\n",
    "Load json data from `/data/exercise02/hgnc_complete_set.json`."
   ]
  },
  {
   "cell_type": "code",
   "execution_count": 3,
   "metadata": {
    "collapsed": true
   },
   "outputs": [],
   "source": [
    "data_path = os.path.join(base, \n",
    "                         'data', \n",
    "                         'exercise02', \n",
    "                         'hgnc_complete_set.json')\n",
    "with open(data_path) as f:\n",
    "    hgnc_json = json.load(f)"
   ]
  },
  {
   "cell_type": "markdown",
   "metadata": {},
   "source": [
    "## 1.2 Reorganize Data into `pd.DataFrame`\n",
    "\n",
    "Identify the relevant subdictionaries in your `dictionary -> response -> docs`. Load them to a data frame, \n",
    "then create a new data frame with just the HGNC symbol and Enzyme ID"
   ]
  },
  {
   "cell_type": "code",
   "execution_count": 4,
   "metadata": {
    "collapsed": false
   },
   "outputs": [
    {
     "data": {
      "text/plain": [
       "['_version_',\n",
       " 'alias_name',\n",
       " 'alias_symbol',\n",
       " 'bioparadigms_slc',\n",
       " 'ccds_id',\n",
       " 'cd',\n",
       " 'cosmic',\n",
       " 'date_approved_reserved',\n",
       " 'date_modified',\n",
       " 'date_name_changed',\n",
       " 'date_symbol_changed',\n",
       " 'ena',\n",
       " 'ensembl_gene_id',\n",
       " 'entrez_id',\n",
       " 'enzyme_id',\n",
       " 'gene_family',\n",
       " 'gene_family_id',\n",
       " 'hgnc_id',\n",
       " 'homeodb',\n",
       " 'horde_id',\n",
       " 'imgt',\n",
       " 'intermediate_filament_db',\n",
       " 'iuphar',\n",
       " 'kznf_gene_catalog',\n",
       " 'lncrnadb',\n",
       " 'location',\n",
       " 'location_sortable',\n",
       " 'locus_group',\n",
       " 'locus_type',\n",
       " 'lsdb',\n",
       " 'mamit-trnadb',\n",
       " 'merops',\n",
       " 'mgd_id',\n",
       " 'mirbase',\n",
       " 'name',\n",
       " 'omim_id',\n",
       " 'orphanet',\n",
       " 'prev_name',\n",
       " 'prev_symbol',\n",
       " 'pseudogene.org',\n",
       " 'pubmed_id',\n",
       " 'refseq_accession',\n",
       " 'rgd_id',\n",
       " 'snornabase',\n",
       " 'status',\n",
       " 'symbol',\n",
       " 'ucsc_id',\n",
       " 'uniprot_ids',\n",
       " 'uuid',\n",
       " 'vega_id']"
      ]
     },
     "execution_count": 4,
     "metadata": {},
     "output_type": "execute_result"
    }
   ],
   "source": [
    "docs = hgnc_json['response']['docs']\n",
    "df_hgnc = pd.DataFrame(docs)\n",
    "\n",
    "list(df_hgnc.columns)"
   ]
  },
  {
   "cell_type": "markdown",
   "metadata": {},
   "source": [
    "## 1.3 Build dictionary for lookup\n",
    "\n",
    "Iterate over this dataframe to build a dictionary that is `{hgnc symbol: set of enzyme id's}`. Call this dictionary `symbol2ec`"
   ]
  },
  {
   "cell_type": "code",
   "execution_count": 5,
   "metadata": {
    "collapsed": false
   },
   "outputs": [
    {
     "data": {
      "text/html": [
       "<div>\n",
       "<table border=\"1\" class=\"dataframe\">\n",
       "  <thead>\n",
       "    <tr style=\"text-align: right;\">\n",
       "      <th></th>\n",
       "      <th>symbol</th>\n",
       "      <th>enzyme_id</th>\n",
       "    </tr>\n",
       "  </thead>\n",
       "  <tbody>\n",
       "    <tr>\n",
       "      <th>0</th>\n",
       "      <td>A1BG</td>\n",
       "      <td>NaN</td>\n",
       "    </tr>\n",
       "    <tr>\n",
       "      <th>1</th>\n",
       "      <td>A1BG-AS1</td>\n",
       "      <td>NaN</td>\n",
       "    </tr>\n",
       "    <tr>\n",
       "      <th>2</th>\n",
       "      <td>A1CF</td>\n",
       "      <td>NaN</td>\n",
       "    </tr>\n",
       "    <tr>\n",
       "      <th>3</th>\n",
       "      <td>A2M</td>\n",
       "      <td>NaN</td>\n",
       "    </tr>\n",
       "    <tr>\n",
       "      <th>4</th>\n",
       "      <td>A2M-AS1</td>\n",
       "      <td>NaN</td>\n",
       "    </tr>\n",
       "  </tbody>\n",
       "</table>\n",
       "</div>"
      ],
      "text/latex": [
       "\\begin{center}{\\begin{tabular}{lll}\n",
       "\\toprule\n",
       "{} &    symbol & enzyme\\_id \\\\\n",
       "\\midrule\n",
       "0 &      A1BG &       NaN \\\\\n",
       "1 &  A1BG-AS1 &       NaN \\\\\n",
       "2 &      A1CF &       NaN \\\\\n",
       "3 &       A2M &       NaN \\\\\n",
       "4 &   A2M-AS1 &       NaN \\\\\n",
       "\\bottomrule\n",
       "\\end{tabular}\n",
       "}\\end{center}"
      ],
      "text/plain": [
       "     symbol enzyme_id\n",
       "0      A1BG       NaN\n",
       "1  A1BG-AS1       NaN\n",
       "2      A1CF       NaN\n",
       "3       A2M       NaN\n",
       "4   A2M-AS1       NaN"
      ]
     },
     "execution_count": 5,
     "metadata": {},
     "output_type": "execute_result"
    }
   ],
   "source": [
    "df_hgnc[['symbol', 'enzyme_id']].head(5)"
   ]
  },
  {
   "cell_type": "code",
   "execution_count": 6,
   "metadata": {
    "collapsed": true
   },
   "outputs": [],
   "source": [
    "symbol2ec = {}\n",
    "\n",
    "df_hgnc_sliced = df_hgnc[['symbol', 'enzyme_id']]"
   ]
  },
  {
   "cell_type": "code",
   "execution_count": 7,
   "metadata": {
    "collapsed": true
   },
   "outputs": [],
   "source": [
    "for idx, symbol, enzyme_ids in df_hgnc_sliced.itertuples():\n",
    "    if isinstance(enzyme_ids, list):\n",
    "        symbol2ec[symbol] = enzyme_ids\n",
    "    else:\n",
    "        symbol2ec[symbol] = []"
   ]
  },
  {
   "cell_type": "markdown",
   "metadata": {},
   "source": [
    "# Task 2\n",
    "\n",
    "This subexercise is about validating protein and kinase activity statements in BEL. Refer to last Thursday's work in `Reading_searching_sending.ipynb`."
   ]
  },
  {
   "cell_type": "markdown",
   "metadata": {},
   "source": [
    "## 2.1 Valid HGNC\n",
    "\n",
    "Write a function, `valid_hgnc(hgnc_symbol, symbol2ec_instance)` that takes a name and the dictionary from Task 1.3 and returns whether this is a valid name"
   ]
  },
  {
   "cell_type": "code",
   "execution_count": 8,
   "metadata": {
    "collapsed": false
   },
   "outputs": [
    {
     "data": {
      "text/plain": [
       "41041"
      ]
     },
     "execution_count": 8,
     "metadata": {},
     "output_type": "execute_result"
    }
   ],
   "source": [
    "len(symbol2ec)"
   ]
  },
  {
   "cell_type": "code",
   "execution_count": 9,
   "metadata": {
    "collapsed": false
   },
   "outputs": [],
   "source": [
    "def valid_hgnc(hgnc_symbol, symbol2ec_instance):\n",
    "    return hgnc_symbol in symbol2ec_instance\n",
    "\n",
    "assert valid_hgnc('AKT1', symbol2ec)\n",
    "assert not valid_hgnc('blah vlah asfa', symbol2ec)"
   ]
  },
  {
   "cell_type": "markdown",
   "metadata": {},
   "source": [
    "## 2.2 Valid Kinase Activity\n",
    "\n",
    "Write a function, `valid_kinase(hgnc_symbol, symbol2ec_instance)` that takes a name and the dictionary from Task 1.3 and returns whether this protein has kinase activity. Hint: an enzyme code reference can be found [here](http://brenda-enzymes.org/ecexplorer.php?browser=1&f[nodes]=132&f[action]=open&f[change]=153)"
   ]
  },
  {
   "cell_type": "code",
   "execution_count": 10,
   "metadata": {
    "collapsed": false
   },
   "outputs": [
    {
     "data": {
      "text/plain": [
       "(['2.7.11.1'], ['2.7.1.153'], ['2.7.11.1'])"
      ]
     },
     "execution_count": 10,
     "metadata": {},
     "output_type": "execute_result"
    }
   ],
   "source": [
    "# THESE ARE KINASES\n",
    "symbol2ec['AKT1'],symbol2ec['PIK3CA'],symbol2ec['AKT2'], "
   ]
  },
  {
   "cell_type": "code",
   "execution_count": 11,
   "metadata": {
    "collapsed": false
   },
   "outputs": [],
   "source": [
    "def valid_kinase(hgnc_symbol, symbol2ec_instance):\n",
    "    if not valid_hgnc(hgnc_symbol, symbol2ec_instance):\n",
    "        return False\n",
    "    \n",
    "    # symbol2ec_instance[hgnc_symbol] is a list of EC id's\n",
    "    for ec_id in symbol2ec_instance[hgnc_symbol]:\n",
    "        if ec_id.startswith('2.7.'):\n",
    "            return True\n",
    "    \n",
    "    return False\n",
    "\n",
    "assert valid_kinase('AKT1', symbol2ec)\n",
    "assert valid_kinase('AKT2', symbol2ec)\n",
    "assert not valid_kinase('APP', symbol2ec)"
   ]
  },
  {
   "cell_type": "code",
   "execution_count": 12,
   "metadata": {
    "collapsed": false
   },
   "outputs": [
    {
     "data": {
      "text/plain": [
       "{'name': 'ABC'}"
      ]
     },
     "execution_count": 12,
     "metadata": {},
     "output_type": "execute_result"
    }
   ],
   "source": [
    "match_protein = re.compile('p\\(HGNC:(?P<name>\\w+)\\)')\n",
    "match_protein.match('p(HGNC:ABC)').groupdict()\n",
    "\n",
    "match_kin = re.compile('kin\\(p\\(HGNC:(?P<name>\\w+)\\)\\)')\n",
    "match_kin.match('kin(p(HGNC:ABC))').groupdict()"
   ]
  },
  {
   "cell_type": "markdown",
   "metadata": {},
   "source": [
    "## 2.3 Putting it all together\n",
    "\n",
    "Write a function, `validate_bel_term(term, symbol2ec_instance)` that parses a BEL term about either a protein, or the kinase activity of a protein and validates it.\n",
    "\n",
    "```python\n",
    "def validate_bel_term(term, symbol2ec_instance):\n",
    "    pass\n",
    "```\n",
    "\n",
    "### Examples\n",
    "\n",
    "```python\n",
    ">>> # check that the proteins have valid HGNC codes\n",
    ">>> validate_bel_term('p(HGNC:APP)', symbol2ec)\n",
    "True\n",
    ">>> validate_bel_term('p(HGNC:ABCDEF)', symbol2ec)\n",
    "False\n",
    ">>> # check that kinase activity annotations are only on proteins that are\n",
    ">>> # actually protein kinases (hint: check EC annotation)\n",
    ">>> validate_bel_term('kin(p(HGNC:APP))', symbol2ec)\n",
    "False\n",
    ">>> validate_bel_term('kin(p(HGNC:AKT1))', symbol2ec)\n",
    "True\n",
    "```"
   ]
  },
  {
   "cell_type": "code",
   "execution_count": 13,
   "metadata": {
    "collapsed": false
   },
   "outputs": [],
   "source": [
    "match_protein = re.compile('p\\(HGNC:(?P<name>\\w+)\\)')  \n",
    "match_kin = re.compile('kin\\(p\\(HGNC:(?P<name>\\w+)\\)\\)')\n",
    "\n",
    "def validate_bel_term(term, symbol2ec_instance): \n",
    "    m = match_protein.match(term)\n",
    "    if m:\n",
    "        mm = m.groupdict()\n",
    "        symbol = mm['name']\n",
    "        return valid_hgnc(symbol, symbol2ec)\n",
    "    \n",
    "    m = match_kin.match(term)\n",
    "    if m:\n",
    "        mk = m.groupdict()\n",
    "        symbol = mk['name']\n",
    "        return valid_kinase(symbol, symbol2ec)\n",
    "    \n",
    "    return False"
   ]
  },
  {
   "cell_type": "code",
   "execution_count": 14,
   "metadata": {
    "collapsed": false
   },
   "outputs": [
    {
     "data": {
      "text/plain": [
       "True"
      ]
     },
     "execution_count": 14,
     "metadata": {},
     "output_type": "execute_result"
    }
   ],
   "source": [
    ">>> # check that the proteins have valid HGNC codes\n",
    ">>> validate_bel_term('p(HGNC:APP)', symbol2ec)"
   ]
  },
  {
   "cell_type": "code",
   "execution_count": 15,
   "metadata": {
    "collapsed": false
   },
   "outputs": [
    {
     "data": {
      "text/plain": [
       "False"
      ]
     },
     "execution_count": 15,
     "metadata": {},
     "output_type": "execute_result"
    }
   ],
   "source": [
    ">>> validate_bel_term('p(HGNC:ABCDEF)', symbol2ec)"
   ]
  },
  {
   "cell_type": "code",
   "execution_count": 16,
   "metadata": {
    "collapsed": false
   },
   "outputs": [
    {
     "data": {
      "text/plain": [
       "False"
      ]
     },
     "execution_count": 16,
     "metadata": {},
     "output_type": "execute_result"
    }
   ],
   "source": [
    ">>> # check that kinase activity annotations are only on proteins that are\n",
    ">>> # actually protein kinases (hint: check EC annotation)\n",
    ">>> validate_bel_term('kin(p(HGNC:APP))', symbol2ec)"
   ]
  },
  {
   "cell_type": "code",
   "execution_count": 17,
   "metadata": {
    "collapsed": false
   },
   "outputs": [
    {
     "data": {
      "text/plain": [
       "True"
      ]
     },
     "execution_count": 17,
     "metadata": {},
     "output_type": "execute_result"
    }
   ],
   "source": [
    ">>> validate_bel_term('kin(p(HGNC:AKT1))', symbol2ec)"
   ]
  },
  {
   "cell_type": "markdown",
   "metadata": {},
   "source": [
    "# Task 3\n",
    "\n",
    "This task is about manual curation of text. You will be guided through translating the following text into BEL statements as strings within a python list.\n",
    "\n",
    "## Document Definitions\n",
    "\n",
    "Recall citations are written with source, title, then identifier as follows:\n",
    "\n",
    "```\n",
    "SET Citation = {\"PubMed\", \"Nat Cell Biol 2007 Mar 9(3) 316-23\", \"17277771\"}\n",
    "```\n",
    "\n",
    "Use these annotations and these namespaces:\n",
    "\n",
    "```\n",
    "DEFINE NAMESPACE HGNC AS URL \"http://resource.belframework.org/belframework/20131211/namespace/hgnc-human-genes.belns\"\n",
    "\n",
    "DEFINE ANNOTATION CellLocation as LIST {\"cell nucleus\", \"cytoplasm\", \"endoplasmic reticulum\"}\n",
    "```\n",
    "\n",
    "\n",
    "## Source Text\n",
    "\n",
    "> The following statements are from the document \"BEL Exercise\" in edition 00001 of the PyBEL Journal.\n",
    "> The kinase activity of PI3K causes the increased abundance of AKT serine/threonine kinase 1 and AKT serine/threonine kinase 2 in the cytoplasm, \n",
    "> but only the increased expression of AKT serine/threonine kinase 1 in the endoplasmic reticulum. \n",
    "> Additionally, the abundance of AKT serine/threonine kinase 1 and AKT serine/threonine kinase 2 were found to be postively correlated in the cell nuclei.\n",
    "> AKT serine/threonine kinase 2 increases GSK3 Beta in all of the nuclei, cyoplasm, and ER."
   ]
  },
  {
   "cell_type": "code",
   "execution_count": 18,
   "metadata": {
    "collapsed": true
   },
   "outputs": [],
   "source": [
    "definition_statements = [\n",
    "    'SET DOCUMENT name = \"BEL Exercise\"'\n",
    "    'DEFINE NAMESPACE HGNC AS URL \"http://resource.belframework.org/belframework/20131211/namespace/hgnc-human-genes.belns\"',\n",
    "    'DEFINE ANNOTATION CellLocation AS LIST {\"cell nucleus\", \"cytoplasm\", \"endoplasmic reticulum\", \"mitochondria\"}',\n",
    "]"
   ]
  },
  {
   "cell_type": "code",
   "execution_count": 19,
   "metadata": {
    "collapsed": true
   },
   "outputs": [],
   "source": [
    "# hint: there should be 11 statements from this text\n",
    "your_statements = [\n",
    "    'SET Citation ={\"PyBEL Journal\",\"BEL Exercise\",\"00001\"}',\n",
    "    'SET Evidence = \"The following statements are from the document \"BEL Exercise\" in edition 00001 of the PyBEL Journal. The kinase activity of PI3K causes the increased abundance of AKT serine/threonine kinase 1 and AKT serine/threonine kinase 2 in the cytoplasm, but only the increased expression of AKT serine/threonine kinase 1 in the endoplasmic reticulum. Additionally, the abundance of AKT serine/threonine kinase 1 and AKT serine/threonine kinase 2 were found to be postively correlated in the cell nuclei. AKT serine/threonine kinase 2 increases GSK3 Beta in all of the nuclei, cyoplasm, and ER.\"',\n",
    "    'SET CellLocation = \"cytoplasm\"',\n",
    "    'kin(p(HGNC:PIK3CA)) increases p(HGNC:AKT1)',\n",
    "    'kin(p(HGNC:PIK3CA)) increases p(HGNC:AKT2)',\n",
    "    'UNSET CellLocation',\n",
    "    'SET CellLocation = \"endoplasmic reticulum\"',\n",
    "    'kin(p(HGNC:PIK3CA)) increases p(HGNC:AKT1)',\n",
    "    'UNSET CellLocation',\n",
    "    'SET CellLoation = \"cell nucleus\"',\n",
    "    'p(HGNC:AKT2) positiveCorrelation p(HGNC:AKT1)',\n",
    "    'SET CellLocation = {\"endoplasmic reticulum\",\"cell nucleus\",\"cytoplasm\"}',\n",
    "    'p(HGNC:AKT2) increases p(HGNC:GSK3B)'\n",
    "]"
   ]
  },
  {
   "cell_type": "code",
   "execution_count": 20,
   "metadata": {
    "collapsed": true
   },
   "outputs": [],
   "source": [
    "statements = definition_statements + your_statements"
   ]
  },
  {
   "cell_type": "markdown",
   "metadata": {},
   "source": [
    "# Task 4\n",
    "\n",
    "This task is again about regular expressions. Return to `Reading_searching_sending.ipynb` and find your regular expressions that parse the subject, predicate, and object from a statement like `p(HGNC:AKT1) pos p(HGNC:AKT2)`\n",
    "\n",
    "## 4.1 Validating Statements\n",
    "\n",
    "Write a function `validate_bel_statement(statement, symbol2ec)` that takes a subject, predicate, object BEL statement as a string and determines if it its subject and objects are valid."
   ]
  },
  {
   "cell_type": "code",
   "execution_count": 21,
   "metadata": {
    "collapsed": true
   },
   "outputs": [],
   "source": [
    "valid_relations = {\n",
    "    'increases',\n",
    "    'positiveCorrelation',\n",
    "    'negativeCorrelation',\n",
    "    'decreases',\n",
    "    'directlyDecreases',\n",
    "    'pos',\n",
    "    'directlyIncreases'\n",
    "}"
   ]
  },
  {
   "cell_type": "code",
   "execution_count": 22,
   "metadata": {
    "collapsed": true
   },
   "outputs": [],
   "source": [
    "match_relation_string = ('(?P<subject>(p\\(HGNC:(?P<sp>\\w+)\\)|kin\\(p\\(HGNC:(?P<sk>\\w+)\\)\\)))\\s+(?P<relation>\\w+)'\n",
    "                         '\\s+(?P<object>(p\\(HGNC:(?P<op>\\w+)\\)|kin\\(p\\(HGNC:(?P<ok>\\w+)\\)\\)))')\n",
    "match_relation = re.compile(match_relation_string)"
   ]
  },
  {
   "cell_type": "code",
   "execution_count": 23,
   "metadata": {
    "collapsed": true
   },
   "outputs": [],
   "source": [
    "match_protein = re.compile('p\\(HGNC:(?P<name>\\w+)\\)')  \n",
    "match_kin = re.compile('kin\\(p\\(HGNC:(?P<name>\\w+)\\)\\)')\n",
    "\n",
    "def validate_bel_relation(relation, symbol2ec_instance):\n",
    "    \"\"\"\n",
    "    Validate the syntax and semantics of a relation\n",
    "    :param relation: a BEL relation\n",
    "    :type relation: str\n",
    "    :rtype: bool\n",
    "    \"\"\"\n",
    "    mr = match_relation.match(relation)\n",
    "    if not mr:\n",
    "        log.warning('Not valid relation: {}'.format(relation))\n",
    "        return False\n",
    "    mrg = mr.groupdict()\n",
    "    \n",
    "    if mrg['sp'] is None and mrg['sk'] is None:\n",
    "        log.warning('No valid subject')\n",
    "        return False\n",
    "\n",
    "    if mrg['op'] is None and mrg['ok'] is None:\n",
    "        log.warning('No valid object')\n",
    "        return False\n",
    "    \n",
    "    if mrg['sk'] is None:\n",
    "        if not valid_hgnc(mrg['sp'], symbol2ec_instance):\n",
    "            log.warning('Semantically invalid subject - not a valid HGNC')\n",
    "            return False\n",
    "    else:\n",
    "        if not valid_kinase(mrg['sk'], symbol2ec_instance):\n",
    "            log.warning('Semantically invalid subject - {} not a kinase'.format(mrg['sk']))\n",
    "            return False\n",
    "    \n",
    "    if mrg['ok'] is None:\n",
    "        if not valid_hgnc(mrg['op'], symbol2ec_instance):\n",
    "            log.warning('Semantically invalid object - not a valid HGNC')\n",
    "            return False\n",
    "    else:\n",
    "        if not valid_kinase(mrg['ok'], symbol2ec_instance):\n",
    "            log.warning('Semantically invalid object - not a kinase')\n",
    "            return False\n",
    "    \n",
    "    if mrg['relation'] not in valid_relations:\n",
    "        log.warning('invalid relation')\n",
    "        return False\n",
    "    \n",
    "    return True"
   ]
  },
  {
   "cell_type": "code",
   "execution_count": 24,
   "metadata": {
    "collapsed": false
   },
   "outputs": [
    {
     "name": "stderr",
     "output_type": "stream",
     "text": [
      "Semantically invalid subject - APP not a kinase\n"
     ]
    },
    {
     "data": {
      "text/plain": [
       "False"
      ]
     },
     "execution_count": 24,
     "metadata": {},
     "output_type": "execute_result"
    }
   ],
   "source": [
    "my_rel = 'kin(p(HGNC:APP)) increases p(HGNC:AKT2)'\n",
    "validate_bel_relation(my_rel, symbol2ec) "
   ]
  },
  {
   "cell_type": "markdown",
   "metadata": {},
   "source": [
    "## 4.2 Populating a graph\n",
    "\n",
    "Even though its a bit redundant, this function validates a relation and adds it to a `networkx` graph."
   ]
  },
  {
   "cell_type": "code",
   "execution_count": 25,
   "metadata": {
    "collapsed": true
   },
   "outputs": [],
   "source": [
    "def populate_graph(graph, relation, symbol2ec_instance):\n",
    "    \"\"\"\n",
    "    :type graph: nx.MultiDiGraph\n",
    "    :type relation: str\n",
    "    :type symbol2ec_instance: dict\n",
    "    \"\"\"\n",
    "    if not validate_bel_relation(relation, symbol2ec_instance):\n",
    "        return\n",
    "    \n",
    "    mrg = match_relation.match(relation).groupdict() \n",
    "\n",
    "    rel = mrg['relation']\n",
    "\n",
    "    if mrg['sk'] is None:\n",
    "        sub_name = mrg['sp']\n",
    "    else:\n",
    "        sub_name = mrg['sk']\n",
    "\n",
    "    if mrg['ok'] is None:\n",
    "        obj_name = mrg['op']\n",
    "    else:\n",
    "        obj_name = mrg['ok']\n",
    "\n",
    "    graph.add_node(sub_name)\n",
    "    graph.add_node(obj_name)\n",
    "    graph.add_edge(sub_name, obj_name, relation=rel)"
   ]
  },
  {
   "cell_type": "markdown",
   "metadata": {},
   "source": [
    "## 4.3 Validating Your Statements\n",
    "\n",
    "Run this cell to validate the BEL statements you've written and populate the graph"
   ]
  },
  {
   "cell_type": "code",
   "execution_count": 26,
   "metadata": {
    "collapsed": false
   },
   "outputs": [
    {
     "name": "stderr",
     "output_type": "stream",
     "text": [
      "Not valid relation: SET Citation ={\"PyBEL Journal\",\"BEL Exercise\",\"00001\"}\n",
      "Not valid relation: SET Citation ={\"PyBEL Journal\",\"BEL Exercise\",\"00001\"}\n",
      "Not valid relation: SET Evidence = \"The following statements are from the document \"BEL Exercise\" in edition 00001 of the PyBEL Journal. The kinase activity of PI3K causes the increased abundance of AKT serine/threonine kinase 1 and AKT serine/threonine kinase 2 in the cytoplasm, but only the increased expression of AKT serine/threonine kinase 1 in the endoplasmic reticulum. Additionally, the abundance of AKT serine/threonine kinase 1 and AKT serine/threonine kinase 2 were found to be postively correlated in the cell nuclei. AKT serine/threonine kinase 2 increases GSK3 Beta in all of the nuclei, cyoplasm, and ER.\"\n",
      "Not valid relation: SET Evidence = \"The following statements are from the document \"BEL Exercise\" in edition 00001 of the PyBEL Journal. The kinase activity of PI3K causes the increased abundance of AKT serine/threonine kinase 1 and AKT serine/threonine kinase 2 in the cytoplasm, but only the increased expression of AKT serine/threonine kinase 1 in the endoplasmic reticulum. Additionally, the abundance of AKT serine/threonine kinase 1 and AKT serine/threonine kinase 2 were found to be postively correlated in the cell nuclei. AKT serine/threonine kinase 2 increases GSK3 Beta in all of the nuclei, cyoplasm, and ER.\"\n",
      "Not valid relation: SET CellLocation = \"cytoplasm\"\n",
      "Not valid relation: SET CellLocation = \"cytoplasm\"\n",
      "Not valid relation: UNSET CellLocation\n",
      "Not valid relation: UNSET CellLocation\n",
      "Not valid relation: SET CellLocation = \"endoplasmic reticulum\"\n",
      "Not valid relation: SET CellLocation = \"endoplasmic reticulum\"\n",
      "Not valid relation: UNSET CellLocation\n",
      "Not valid relation: UNSET CellLocation\n",
      "Not valid relation: SET CellLoation = \"cell nucleus\"\n",
      "Not valid relation: SET CellLoation = \"cell nucleus\"\n",
      "Not valid relation: SET CellLocation = {\"endoplasmic reticulum\",\"cell nucleus\",\"cytoplasm\"}\n",
      "Not valid relation: SET CellLocation = {\"endoplasmic reticulum\",\"cell nucleus\",\"cytoplasm\"}\n"
     ]
    }
   ],
   "source": [
    "G = nx.MultiDiGraph()\n",
    "\n",
    "for statement in your_statements:\n",
    "    valid = validate_bel_relation(statement, symbol2ec)\n",
    "    populate_graph(G, statement, symbol2ec)"
   ]
  },
  {
   "cell_type": "markdown",
   "metadata": {},
   "source": [
    "## 4.4 Visualization\n",
    "\n",
    "Use `nx` to visualize the network."
   ]
  },
  {
   "cell_type": "code",
   "execution_count": 27,
   "metadata": {
    "collapsed": false
   },
   "outputs": [
    {
     "data": {
      "image/png": "[encoded data removed]",
      "text/plain": [
       "<matplotlib.figure.Figure at 0x11c2445c0>"
      ]
     },
     "metadata": {},
     "output_type": "display_data"
    }
   ],
   "source": [
    "nx.draw(G, with_labels=True)"
   ]
  }
 ],
 "metadata": {
  "kernelspec": {
   "display_name": "Python 3",
   "language": "python",
   "name": "python3"
  },
  "language_info": {
   "codemirror_mode": {
    "name": "ipython",
    "version": 3
   },
   "file_extension": ".py",
   "mimetype": "text/x-python",
   "name": "python",
   "nbconvert_exporter": "python",
   "pygments_lexer": "ipython3",
   "version": "3.5.2"
  }
 },
 "nbformat": 4,
 "nbformat_minor": 1
}
