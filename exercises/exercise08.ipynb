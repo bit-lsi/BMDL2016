{
 "cells": [
  {
   "cell_type": "markdown",
   "metadata": {},
   "source": [
    "# Introduction\n",
    "\n",
    "This exercise makes use of the database you created in `Exercise02` and the BEL statement parsers you write with regular expressions in `Reading_searching_sending.ipynb`."
   ]
  },
  {
   "cell_type": "code",
   "execution_count": 1,
   "metadata": {
    "collapsed": false
   },
   "outputs": [
    {
     "data": {
      "text/plain": [
       "'Tue Oct  4 14:12:24 2016'"
      ]
     },
     "execution_count": 1,
     "metadata": {},
     "output_type": "execute_result"
    }
   ],
   "source": [
    "import pandas as pd\n",
    "import os, json, re, time\n",
    "time.asctime()"
   ]
  },
  {
   "cell_type": "code",
   "execution_count": null,
   "metadata": {
    "collapsed": false
   },
   "outputs": [],
   "source": [
    "base = os.path.join(os.environ['BUG_FREE_EUREKA_BASE'])\n",
    "base"
   ]
  },
  {
   "cell_type": "markdown",
   "metadata": {},
   "source": [
    "# Task 1\n",
    "\n",
    "This exercise is about loading the HGNC data to create a dictionary from HGNC symbols to set of enzyme ID's.\n",
    "\n",
    "## 1.1 Load Data\n",
    "\n",
    "Load json data from `/data/exercise02/hgnc_complete_set.json`."
   ]
  },
  {
   "cell_type": "code",
   "execution_count": null,
   "metadata": {
    "collapsed": true
   },
   "outputs": [],
   "source": []
  },
  {
   "cell_type": "markdown",
   "metadata": {},
   "source": [
    "## 1.2 Reorganize Data into `pd.DataFrame`\n",
    "\n",
    "Identify the relevant subdictionaries in your `dictionary -> response -> docs`. Load them to a data frame, \n",
    "then create a new data frame with just the HGNC symbol and Enzyme ID"
   ]
  },
  {
   "cell_type": "code",
   "execution_count": null,
   "metadata": {
    "collapsed": true
   },
   "outputs": [],
   "source": []
  },
  {
   "cell_type": "markdown",
   "metadata": {},
   "source": [
    "## 1.3 Build dictionary for lookup\n",
    "\n",
    "Iterate over this dataframe to build a dictionary that is `{hgnc symbol: set of enzyme id's}`. Call this dictionary `symbol2ec`"
   ]
  },
  {
   "cell_type": "code",
   "execution_count": null,
   "metadata": {
    "collapsed": true
   },
   "outputs": [],
   "source": [
    "symbol2ec = {}"
   ]
  },
  {
   "cell_type": "markdown",
   "metadata": {},
   "source": [
    "# Task 2\n",
    "\n",
    "This subexercise is about validating protein and kinase activity statements in BEL. Refer to last Thursday's work in `Reading_searching_sending.ipynb`."
   ]
  },
  {
   "cell_type": "markdown",
   "metadata": {},
   "source": [
    "## 2.1 Valid HGNC\n",
    "\n",
    "Write a function, `valid_hgnc(hgnc_symbol, symbol2ec_instance)` that takes a name and the dictionary from Task 1.3 and returns whether this is a valid name"
   ]
  },
  {
   "cell_type": "code",
   "execution_count": null,
   "metadata": {
    "collapsed": true
   },
   "outputs": [],
   "source": [
    "def valid_hgnc(hgnc_symbol, symbol2ec_instance):\n",
    "    pass"
   ]
  },
  {
   "cell_type": "markdown",
   "metadata": {},
   "source": [
    "## 2.2 Valid Kinase Activity\n",
    "\n",
    "Write a function, `valid_kinase(hgnc_symbol, symbol2ec_instance)` that takes a name and the dictionary from Task 1.3 and returns whether this protein has kinase activity. Hint: an enzyme code reference can be found [here](http://brenda-enzymes.org/ecexplorer.php?browser=1&f[nodes]=132&f[action]=open&f[change]=153)"
   ]
  },
  {
   "cell_type": "code",
   "execution_count": null,
   "metadata": {
    "collapsed": true
   },
   "outputs": [],
   "source": [
    "def valid_kinase(hgnc_symbol, symbol2ec_instance):\n",
    "    pass"
   ]
  },
  {
   "cell_type": "markdown",
   "metadata": {},
   "source": [
    "## 2.3 Putting it all together\n",
    "\n",
    "Write a function, `validate_bel_term(term, symbol2ec_instance)` that parses a BEL term about either a protein, or the kinase activity of a protein and validates it.\n",
    "\n",
    "```python\n",
    "def validate_bel_term(term, symbol2ec_instance):\n",
    "    pass\n",
    "```\n",
    "\n",
    "### Examples\n",
    "\n",
    "```python\n",
    ">>> # check that the proteins have valid HGNC codes\n",
    ">>> validate_bel_term('p(HGNC:APP)', symbol2ec)\n",
    "True\n",
    ">>> validate_bel_term('p(HGNC:ABCDEF)', symbol2ec)\n",
    "False\n",
    ">>> # check that kinase activity annotations are only on proteins that are\n",
    ">>> # actually protein kinases (hint: check EC annotation)\n",
    ">>> validate_bel_term('kin(p(HGNC:APP))', symbol2ec)\n",
    "False\n",
    ">>> validate_bel_term('kin(p(HGNC:AKT1))', symbol2ec)\n",
    "True\n",
    "```"
   ]
  },
  {
   "cell_type": "code",
   "execution_count": null,
   "metadata": {
    "collapsed": true
   },
   "outputs": [],
   "source": [
    "def validate_bel_term(term, symbol2ec_instance):\n",
    "    pass"
   ]
  },
  {
   "cell_type": "markdown",
   "metadata": {},
   "source": [
    "# Task 3\n",
    "\n",
    "This task is about manual curation of text. You will be guided through translating the following text into BEL statements as strings within a python list.\n",
    "\n",
    "## Document Definitions\n",
    "\n",
    "Recall citations are written with source, title, then identifier as follows:\n",
    "\n",
    "```\n",
    "SET Citation = {\"PubMed\", \"Nat Cell Biol 2007 Mar 9(3) 316-23\", \"17277771\"}\n",
    "```\n",
    "\n",
    "Use these annotations and these namespaces:\n",
    "\n",
    "```\n",
    "DEFINE NAMESPACE HGNC AS URL \"http://resource.belframework.org/belframework/20131211/namespace/hgnc-human-genes.belns\"\n",
    "\n",
    "DEFINE ANNOTATION CellLocation as LIST {\"cell nucleus\", \"cytoplasm\", \"endoplasmic reticulum\"}\n",
    "```\n",
    "\n",
    "\n",
    "## Source Text\n",
    "\n",
    "> The following statements are from the document \"BEL Exercise\" in edition 00001 of the PyBEL Journal.\n",
    "> The kinase activity of A causes the increased abundance of AKT serine/threonine kinase 1 and AKT serine/threonine kinase 2 in the cytoplasm, \n",
    "> but only the increased expression of AKT serine/threonine kinase 1 in the endoplasmic reticulum. \n",
    "> Additionally, the abundance of AKT serine/threonine kinase 1 and AKT serine/threonine kinase 2 were found to be postively correlated in the cell nuclei.\n",
    "> AKT serine/threonine kinase 2 increases GSK3 Beta in all of the nuclei, cyoplasm, and ER."
   ]
  },
  {
   "cell_type": "code",
   "execution_count": null,
   "metadata": {
    "collapsed": true
   },
   "outputs": [],
   "source": [
    "definition_statements = [\n",
    "    'SET DOCUMENT name = \"BEL Exercise\"'\n",
    "    'DEFINE NAMESPACE HGNC AS URL \"http://resource.belframework.org/belframework/20131211/namespace/hgnc-human-genes.belns\"',\n",
    "    'DEFINE ANNOTATION CellLocation AS LIST {\"cell nucleus\", \"cytoplasm\", \"endoplasmic reticulum\"}',\n",
    "]"
   ]
  },
  {
   "cell_type": "code",
   "execution_count": null,
   "metadata": {
    "collapsed": true
   },
   "outputs": [],
   "source": [
    "# hint: there should be 11 statements from this text\n",
    "your_statements = [\n",
    "    '',\n",
    "    '',\n",
    "    '',\n",
    "    '',\n",
    "    '',\n",
    "    '',\n",
    "    '',\n",
    "    '',\n",
    "    '',\n",
    "    '',\n",
    "    ''\n",
    "]"
   ]
  },
  {
   "cell_type": "code",
   "execution_count": null,
   "metadata": {
    "collapsed": true
   },
   "outputs": [],
   "source": [
    "statements = definition_statements + your_statements"
   ]
  },
  {
   "cell_type": "markdown",
   "metadata": {},
   "source": [
    "# Task 4\n",
    "\n",
    "This task is again about regular expressions. Return to `Reading_searching_sending.ipynb` and find your regular expressions that parse the subject, predicate, and object from a statement like `p(HGNC:AKT1) pos p(HGNC:AKT2)`\n",
    "\n",
    "## 4.1 Validating Statements\n",
    "\n",
    "Write a function `validate_bel_statement(statement, symbol2ec)` that takes a subject, predicate, object BEL statement as a string and determines if it its subject and objects are valid."
   ]
  },
  {
   "cell_type": "code",
   "execution_count": null,
   "metadata": {
    "collapsed": true
   },
   "outputs": [],
   "source": [
    "def validate_bel_statement(statement, symbol2ec):\n",
    "    pass"
   ]
  },
  {
   "cell_type": "markdown",
   "metadata": {},
   "source": [
    "## 4.2 Validating Your Statements\n",
    "\n",
    "Run this cell to validate the BEL statements you've written."
   ]
  },
  {
   "cell_type": "code",
   "execution_count": null,
   "metadata": {
    "collapsed": false
   },
   "outputs": [],
   "source": [
    "for statement in your_statements:\n",
    "    valid = validate_bel_statement(statement, symbol2ec)\n",
    "    print('{} is {}valid'.format(statement, '' if valid else 'in'))"
   ]
  },
  {
   "cell_type": "markdown",
   "metadata": {},
   "source": [
    "## 4.3 Visualization\n",
    "\n",
    "Use `pybel` to visualize the network."
   ]
  },
  {
   "cell_type": "code",
   "execution_count": null,
   "metadata": {
    "collapsed": false
   },
   "outputs": [],
   "source": [
    "try:\n",
    "    import pybel\n",
    "    import networkx\n",
    "    \n",
    "    g = pybel.from_bel(statements)\n",
    "    nx.draw_spring(g, with_labels=True)\n",
    "except:\n",
    "    print('PyBEL not installed')"
   ]
  }
 ],
 "metadata": {
  "kernelspec": {
   "display_name": "Python 3",
   "language": "python",
   "name": "python3"
  },
  "language_info": {
   "codemirror_mode": {
    "name": "ipython",
    "version": 3
   },
   "file_extension": ".py",
   "mimetype": "text/x-python",
   "name": "python",
   "nbconvert_exporter": "python",
   "pygments_lexer": "ipython3",
   "version": "3.5.2"
  }
 },
 "nbformat": 4,
 "nbformat_minor": 1
}
