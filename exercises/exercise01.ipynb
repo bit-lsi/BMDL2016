{
 "cells": [
  {
   "cell_type": "markdown",
   "metadata": {},
   "source": [
    "There are 5 data sets in the [bug-free-eureka](https://github.com/bit-lsi/bug-free-eureka) repository in [data/exercise01](https://github.com/bit-lsi/bug-free-eureka/tree/master/data/exercise01)."
   ]
  },
  {
   "cell_type": "code",
   "execution_count": 1,
   "metadata": {
    "collapsed": false
   },
   "outputs": [],
   "source": [
    "data_dir = 'https://raw.githubusercontent.com/bit-lsi/bug-free-eureka/master/data/exercise01/'\n",
    "files = ['response{:02}.csv'.format(i) for i in range(5)]"
   ]
  },
  {
   "cell_type": "markdown",
   "metadata": {},
   "source": [
    "The [requests](http://docs.python-requests.org/en/master/) library allows for the easy access to data through HTTP."
   ]
  },
  {
   "cell_type": "code",
   "execution_count": 2,
   "metadata": {
    "collapsed": false
   },
   "outputs": [
    {
     "data": {
      "text/plain": [
       "<Response [200]>"
      ]
     },
     "execution_count": 2,
     "metadata": {},
     "output_type": "execute_result"
    }
   ],
   "source": [
    "import requests\n",
    "\n",
    "r = requests.get(data_dir + files[0])\n",
    "r"
   ]
  },
  {
   "cell_type": "markdown",
   "metadata": {},
   "source": [
    "The data are returned as text, but pandas needs a file-like object in the read_csv method, so the string is wrapped with the built-in [StringIO](https://docs.python.org/3.5/library/io.html?highlight=stringio)."
   ]
  },
  {
   "cell_type": "code",
   "execution_count": 3,
   "metadata": {
    "collapsed": false
   },
   "outputs": [
    {
     "data": {
      "text/plain": [
       "<_io.StringIO at 0x106e8edc8>"
      ]
     },
     "execution_count": 3,
     "metadata": {},
     "output_type": "execute_result"
    }
   ],
   "source": [
    "import io\n",
    "\n",
    "rio = io.StringIO(r.text)\n",
    "rio"
   ]
  },
  {
   "cell_type": "markdown",
   "metadata": {},
   "source": [
    "The data are parsed and contained in a [pandas](http://pandas.pydata.org/pandas-docs/stable/) DataFrame."
   ]
  },
  {
   "cell_type": "code",
   "execution_count": 4,
   "metadata": {
    "collapsed": false
   },
   "outputs": [
    {
     "data": {
      "text/html": [
       "<div>\n",
       "<table border=\"1\" class=\"dataframe\">\n",
       "  <thead>\n",
       "    <tr style=\"text-align: right;\">\n",
       "      <th></th>\n",
       "      <th>Response</th>\n",
       "    </tr>\n",
       "  </thead>\n",
       "  <tbody>\n",
       "    <tr>\n",
       "      <th>Node000</th>\n",
       "      <td>-0.427561</td>\n",
       "    </tr>\n",
       "    <tr>\n",
       "      <th>Node001</th>\n",
       "      <td>-0.813055</td>\n",
       "    </tr>\n",
       "    <tr>\n",
       "      <th>Node002</th>\n",
       "      <td>-1.045713</td>\n",
       "    </tr>\n",
       "    <tr>\n",
       "      <th>Node003</th>\n",
       "      <td>0.153123</td>\n",
       "    </tr>\n",
       "    <tr>\n",
       "      <th>Node004</th>\n",
       "      <td>0.828324</td>\n",
       "    </tr>\n",
       "  </tbody>\n",
       "</table>\n",
       "</div>"
      ],
      "text/latex": [
       "\\begin{center}{\\begin{tabular}{lr}\n",
       "\\toprule\n",
       "{} &  Response \\\\\n",
       "\\midrule\n",
       "Node000 & -0.427561 \\\\\n",
       "Node001 & -0.813055 \\\\\n",
       "Node002 & -1.045713 \\\\\n",
       "Node003 &  0.153123 \\\\\n",
       "Node004 &  0.828324 \\\\\n",
       "\\bottomrule\n",
       "\\end{tabular}\n",
       "}\\end{center}"
      ],
      "text/plain": [
       "         Response\n",
       "Node000 -0.427561\n",
       "Node001 -0.813055\n",
       "Node002 -1.045713\n",
       "Node003  0.153123\n",
       "Node004  0.828324"
      ]
     },
     "execution_count": 4,
     "metadata": {},
     "output_type": "execute_result"
    }
   ],
   "source": [
    "import pandas\n",
    "\n",
    "df = pd.read_csv(rio, header=0, index_col=0)\n",
    "df.head()"
   ]
  },
  {
   "cell_type": "markdown",
   "metadata": {},
   "source": [
    "The process is repeated algorithmically for each file."
   ]
  },
  {
   "cell_type": "code",
   "execution_count": 5,
   "metadata": {
    "collapsed": false
   },
   "outputs": [],
   "source": [
    "dfs = []\n",
    "for file in files:\n",
    "    r = requests.get(data_dir + file)\n",
    "    i = io.StringIO(r.text)\n",
    "    d = pd.read_csv(i, header=0, index_col=0)\n",
    "    dfs.append(d)"
   ]
  },
  {
   "cell_type": "markdown",
   "metadata": {},
   "source": [
    "Each file has the same index, so they can be concatenated to a single data frame."
   ]
  },
  {
   "cell_type": "code",
   "execution_count": 6,
   "metadata": {
    "collapsed": false
   },
   "outputs": [
    {
     "data": {
      "text/html": [
       "<div>\n",
       "<table border=\"1\" class=\"dataframe\">\n",
       "  <thead>\n",
       "    <tr style=\"text-align: right;\">\n",
       "      <th></th>\n",
       "      <th>Response</th>\n",
       "      <th>Response</th>\n",
       "      <th>Response</th>\n",
       "      <th>Response</th>\n",
       "      <th>Response</th>\n",
       "    </tr>\n",
       "  </thead>\n",
       "  <tbody>\n",
       "    <tr>\n",
       "      <th>Node000</th>\n",
       "      <td>-0.427561</td>\n",
       "      <td>-0.135055</td>\n",
       "      <td>-0.255436</td>\n",
       "      <td>-2.220150</td>\n",
       "      <td>0.219321</td>\n",
       "    </tr>\n",
       "    <tr>\n",
       "      <th>Node001</th>\n",
       "      <td>-0.813055</td>\n",
       "      <td>0.264931</td>\n",
       "      <td>-0.275383</td>\n",
       "      <td>0.112754</td>\n",
       "      <td>-0.729424</td>\n",
       "    </tr>\n",
       "    <tr>\n",
       "      <th>Node002</th>\n",
       "      <td>-1.045713</td>\n",
       "      <td>-0.258820</td>\n",
       "      <td>-0.032362</td>\n",
       "      <td>-0.912736</td>\n",
       "      <td>0.543240</td>\n",
       "    </tr>\n",
       "    <tr>\n",
       "      <th>Node003</th>\n",
       "      <td>0.153123</td>\n",
       "      <td>0.545559</td>\n",
       "      <td>0.672407</td>\n",
       "      <td>0.722640</td>\n",
       "      <td>0.826312</td>\n",
       "    </tr>\n",
       "    <tr>\n",
       "      <th>Node004</th>\n",
       "      <td>0.828324</td>\n",
       "      <td>0.152085</td>\n",
       "      <td>-0.605080</td>\n",
       "      <td>-1.815755</td>\n",
       "      <td>-0.348430</td>\n",
       "    </tr>\n",
       "  </tbody>\n",
       "</table>\n",
       "</div>"
      ],
      "text/latex": [
       "\\begin{center}{\\begin{tabular}{lrrrrr}\n",
       "\\toprule\n",
       "{} &  Response &  Response &  Response &  Response &  Response \\\\\n",
       "\\midrule\n",
       "Node000 & -0.427561 & -0.135055 & -0.255436 & -2.220150 &  0.219321 \\\\\n",
       "Node001 & -0.813055 &  0.264931 & -0.275383 &  0.112754 & -0.729424 \\\\\n",
       "Node002 & -1.045713 & -0.258820 & -0.032362 & -0.912736 &  0.543240 \\\\\n",
       "Node003 &  0.153123 &  0.545559 &  0.672407 &  0.722640 &  0.826312 \\\\\n",
       "Node004 &  0.828324 &  0.152085 & -0.605080 & -1.815755 & -0.348430 \\\\\n",
       "\\bottomrule\n",
       "\\end{tabular}\n",
       "}\\end{center}"
      ],
      "text/plain": [
       "         Response  Response  Response  Response  Response\n",
       "Node000 -0.427561 -0.135055 -0.255436 -2.220150  0.219321\n",
       "Node001 -0.813055  0.264931 -0.275383  0.112754 -0.729424\n",
       "Node002 -1.045713 -0.258820 -0.032362 -0.912736  0.543240\n",
       "Node003  0.153123  0.545559  0.672407  0.722640  0.826312\n",
       "Node004  0.828324  0.152085 -0.605080 -1.815755 -0.348430"
      ]
     },
     "execution_count": 6,
     "metadata": {},
     "output_type": "execute_result"
    }
   ],
   "source": [
    "df = pd.concat(dfs, axis=1)\n",
    "df.head()"
   ]
  },
  {
   "cell_type": "markdown",
   "metadata": {},
   "source": [
    "The pairwise similarity is calculated for each row using [SciPy](http://docs.scipy.org/doc/)."
   ]
  },
  {
   "cell_type": "code",
   "execution_count": 7,
   "metadata": {
    "collapsed": true
   },
   "outputs": [],
   "source": [
    "from scipy.spatial.distance import squareform, pdist\n",
    "\n",
    "dist = squareform(pdist(df))"
   ]
  },
  {
   "cell_type": "markdown",
   "metadata": {},
   "source": [
    "The similarity matrix is thresholded to make a boolean adjacency matrix."
   ]
  },
  {
   "cell_type": "code",
   "execution_count": 8,
   "metadata": {
    "collapsed": true
   },
   "outputs": [],
   "source": [
    "adj = dist > 5.6"
   ]
  },
  {
   "cell_type": "markdown",
   "metadata": {},
   "source": [
    "A [networkx](https://networkx.readthedocs.io/en/stable/) graph is built from the adjacency matrix."
   ]
  },
  {
   "cell_type": "code",
   "execution_count": null,
   "metadata": {
    "collapsed": true
   },
   "outputs": [],
   "source": [
    "import networkx as nx\n",
    "\n",
    "\n",
    "g = nx.from_numpy_matrix(adj)"
   ]
  },
  {
   "cell_type": "markdown",
   "metadata": {},
   "source": [
    "[Matplotlib](http://matplotlib.org/contents.html) is used to display the resulting graph and its degree distribution."
   ]
  },
  {
   "cell_type": "code",
   "execution_count": 13,
   "metadata": {
    "collapsed": false
   },
   "outputs": [
    {
     "data": {
      "image/png": "[encoded data removed]",
      "text/plain": [
       "<matplotlib.figure.Figure at 0x10a2dc6a0>"
      ]
     },
     "metadata": {},
     "output_type": "display_data"
    }
   ],
   "source": [
    "import matplotlib.pyplot as plt\n",
    "\n",
    "fig, axes = plt.subplots(1, 2, figsize=(10.5, 3.5))\n",
    "\n",
    "nx.draw_spring(g, node_size=20, ax=axes[0])\n",
    "\n",
    "degree_sequence=sorted(nx.degree(g).values(),reverse=True) # degree sequence\n",
    "dmax=max(degree_sequence)\n",
    "axes[1].set_xlabel('Rank')\n",
    "axes[1].set_ylabel('Degree')\n",
    "axes[1].loglog(degree_sequence,'b-',marker='o')\n",
    "\n",
    "plt.show()"
   ]
  }
 ],
 "metadata": {
  "kernelspec": {
   "display_name": "Python 3",
   "language": "python",
   "name": "python3"
  },
  "language_info": {
   "codemirror_mode": {
    "name": "ipython",
    "version": 3
   },
   "file_extension": ".py",
   "mimetype": "text/x-python",
   "name": "python",
   "nbconvert_exporter": "python",
   "pygments_lexer": "ipython3",
   "version": "3.5.2"
  }
 },
 "nbformat": 4,
 "nbformat_minor": 1
}
