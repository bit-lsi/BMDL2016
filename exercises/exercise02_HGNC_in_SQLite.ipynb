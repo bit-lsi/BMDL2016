{
 "cells": [
  {
   "cell_type": "markdown",
   "metadata": {},
   "source": [
    "# Exercise: HGNC in SQLite"
   ]
  },
  {
   "cell_type": "markdown",
   "metadata": {},
   "source": [
    "Task: \n",
    "   1. Analyse the JSON file, find a way to automatically scan the whole json for datatype\n",
    "   2. Connect to MySQL, create database\n",
    "   3. create appropriate tables in SQLite database\n",
    "   4. Store the data in the\n",
    "\n",
    "links:\n",
    "+ [Reference manual](http://dev.mysql.com/doc/refman/5.7/en/)\n",
    "+ [HUGO Gene Nomenclature Committee (HGNC)](http://www.genenames.org/)"
   ]
  },
  {
   "cell_type": "code",
   "execution_count": null,
   "metadata": {
    "collapsed": false
   },
   "outputs": [],
   "source": [
    "import pymysql\n",
    "from pprint import pprint\n",
    "conn = pymysql.connect(host='localhost',user='biodb',passwd='biodb')\n",
    "cursor = conn.cursor()\n",
    "#url = \"ftp://ftp.ebi.ac.uk/pub/databases/genenames/new/json/hgnc_complete_set.json\""
   ]
  },
  {
   "cell_type": "code",
   "execution_count": null,
   "metadata": {
    "collapsed": false
   },
   "outputs": [],
   "source": [
    "import json\n",
    "fd = open(\"../data/exercise02/hgnc_complete_set.json\", \"r\")\n",
    "hgnc_json = json.loads(fd.read())\n",
    "fd.close()"
   ]
  },
  {
   "cell_type": "code",
   "execution_count": null,
   "metadata": {
    "collapsed": false
   },
   "outputs": [],
   "source": [
    "hgnc_json['response']['docs'][0].keys()"
   ]
  },
  {
   "cell_type": "code",
   "execution_count": null,
   "metadata": {
    "collapsed": false
   },
   "outputs": [],
   "source": [
    "hgnc_json['response']['docs'][0].values()"
   ]
  },
  {
   "cell_type": "code",
   "execution_count": null,
   "metadata": {
    "collapsed": false
   },
   "outputs": [],
   "source": [
    "pprint(hgnc_json['response']['docs'][0])"
   ]
  },
  {
   "cell_type": "code",
   "execution_count": null,
   "metadata": {
    "collapsed": true
   },
   "outputs": [],
   "source": []
  }
 ],
 "metadata": {
  "kernelspec": {
   "display_name": "Python 3",
   "language": "python",
   "name": "python3"
  },
  "language_info": {
   "codemirror_mode": {
    "name": "ipython",
    "version": 3
   },
   "file_extension": ".py",
   "mimetype": "text/x-python",
   "name": "python",
   "nbconvert_exporter": "python",
   "pygments_lexer": "ipython3",
   "version": "3.5.2"
  }
 },
 "nbformat": 4,
 "nbformat_minor": 1
}
