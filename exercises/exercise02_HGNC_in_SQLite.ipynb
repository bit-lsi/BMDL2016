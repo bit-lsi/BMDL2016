{
 "cells": [
  {
   "cell_type": "markdown",
   "metadata": {},
   "source": [
    "# Exercise: HGNC in SQLite"
   ]
  },
  {
   "cell_type": "markdown",
   "metadata": {},
   "source": [
    "Task: \n",
    "   1. Analyse the JSON file, find a way to automatically scan the whole json for datatypes\n",
    "   2. Connect to MySQL, create database\n",
    "   3. create appropriate tables in SQLite database\n",
    "   4. Store the data in the\n",
    "\n",
    "links:\n",
    "+ [Reference manual](http://dev.mysql.com/doc/refman/5.7/en/)\n",
    "+ [HUGO Gene Nomenclature Committee (HGNC)](http://www.genenames.org/)"
   ]
  },
  {
   "cell_type": "code",
   "execution_count": 21,
   "metadata": {
    "collapsed": true
   },
   "outputs": [],
   "source": [
    "import os\n",
    "import json\n",
    "import pymysql"
   ]
  },
  {
   "cell_type": "markdown",
   "metadata": {},
   "source": [
    "# Load the Data\n",
    "\n",
    "The data is in the JSON format - this means that all atomic data is in nested dictionaries and lists."
   ]
  },
  {
   "cell_type": "code",
   "execution_count": 3,
   "metadata": {
    "collapsed": true
   },
   "outputs": [],
   "source": [
    "base = os.environ['BUG_FREE_EUREKA_BASE']"
   ]
  },
  {
   "cell_type": "code",
   "execution_count": 6,
   "metadata": {
    "collapsed": true
   },
   "outputs": [],
   "source": [
    "data_path = os.path.join(base, 'data', 'exercise02', 'hgnc_complete_set.json')\n",
    "\n",
    "with open(data_path) as f:\n",
    "    hgnc_json = json.load(f)"
   ]
  },
  {
   "cell_type": "markdown",
   "metadata": {},
   "source": [
    "# Exploration of Structure of Data\n",
    "\n",
    "We want to understand what data is inside this json. To do this, we'll look at the keys of each nested dictionary.\n",
    "\n",
    "The first set of keys shows that there is a response (the data) and a response header (data about the way it was downloaded). We will further explore the response."
   ]
  },
  {
   "cell_type": "code",
   "execution_count": 13,
   "metadata": {
    "collapsed": false
   },
   "outputs": [
    {
     "data": {
      "text/plain": [
       "dict_keys(['response', 'responseHeader'])"
      ]
     },
     "execution_count": 13,
     "metadata": {},
     "output_type": "execute_result"
    }
   ],
   "source": [
    "hgnc_json.keys()"
   ]
  },
  {
   "cell_type": "markdown",
   "metadata": {},
   "source": [
    "The response contains `numFound`, which lists how many results there are in `docs`. Disregard `start`."
   ]
  },
  {
   "cell_type": "code",
   "execution_count": 14,
   "metadata": {
    "collapsed": false
   },
   "outputs": [
    {
     "data": {
      "text/plain": [
       "dict_keys(['numFound', 'docs', 'start'])"
      ]
     },
     "execution_count": 14,
     "metadata": {},
     "output_type": "execute_result"
    }
   ],
   "source": [
    "hgnc_json['response'].keys()"
   ]
  },
  {
   "cell_type": "code",
   "execution_count": 7,
   "metadata": {
    "collapsed": false
   },
   "outputs": [
    {
     "data": {
      "text/plain": [
       "dict_keys(['rgd_id', 'symbol', 'location_sortable', 'date_modified', 'ensembl_gene_id', 'locus_type', 'ucsc_id', 'ccds_id', 'entrez_id', 'location', 'hgnc_id', 'cosmic', 'locus_group', 'gene_family', 'merops', 'omim_id', 'mgd_id', 'pubmed_id', 'gene_family_id', 'name', 'date_approved_reserved', 'uuid', 'uniprot_ids', 'status', '_version_', 'vega_id', 'refseq_accession'])"
      ]
     },
     "execution_count": 7,
     "metadata": {},
     "output_type": "execute_result"
    }
   ],
   "source": [
    "hgnc_json['response']['docs'][0].keys()"
   ]
  },
  {
   "cell_type": "markdown",
   "metadata": {},
   "source": [
    "`docs` is a list where each entry is the data associated with a gene. Below is an example of the first element of this list:"
   ]
  },
  {
   "cell_type": "code",
   "execution_count": 12,
   "metadata": {
    "collapsed": false
   },
   "outputs": [
    {
     "name": "stdout",
     "output_type": "stream",
     "text": [
      "{\n",
      "  \"rgd_id\": [\n",
      "    \"RGD:69417\"\n",
      "  ],\n",
      "  \"symbol\": \"A1BG\",\n",
      "  \"location_sortable\": \"19q13.43\",\n",
      "  \"date_modified\": \"2015-07-13\",\n",
      "  \"ensembl_gene_id\": \"ENSG00000121410\",\n",
      "  \"locus_type\": \"gene with protein product\",\n",
      "  \"ucsc_id\": \"uc002qsd.5\",\n",
      "  \"ccds_id\": [\n",
      "    \"CCDS12976\"\n",
      "  ],\n",
      "  \"entrez_id\": \"1\",\n",
      "  \"location\": \"19q13.43\",\n",
      "  \"hgnc_id\": \"HGNC:5\",\n",
      "  \"cosmic\": \"A1BG\",\n",
      "  \"locus_group\": \"protein-coding gene\",\n",
      "  \"gene_family\": [\n",
      "    \"Immunoglobulin like domain containing\"\n",
      "  ],\n",
      "  \"merops\": \"I43.950\",\n",
      "  \"omim_id\": [\n",
      "    138670\n",
      "  ],\n",
      "  \"mgd_id\": [\n",
      "    \"MGI:2152878\"\n",
      "  ],\n",
      "  \"pubmed_id\": [\n",
      "    2591067\n",
      "  ],\n",
      "  \"gene_family_id\": [\n",
      "    594\n",
      "  ],\n",
      "  \"name\": \"alpha-1-B glycoprotein\",\n",
      "  \"date_approved_reserved\": \"1989-06-30\",\n",
      "  \"uuid\": \"c5fd27c5-7aa4-447c-83b0-1ccc73d90925\",\n",
      "  \"uniprot_ids\": [\n",
      "    \"P04217\"\n",
      "  ],\n",
      "  \"status\": \"Approved\",\n",
      "  \"_version_\": 1546503090507612160,\n",
      "  \"vega_id\": \"OTTHUMG00000183507\",\n",
      "  \"refseq_accession\": [\n",
      "    \"NM_130786\"\n",
      "  ]\n",
      "}\n"
     ]
    }
   ],
   "source": [
    "print(json.dumps(hgnc_json['response']['docs'][0], indent=2))"
   ]
  },
  {
   "cell_type": "markdown",
   "metadata": {
    "collapsed": true
   },
   "source": [
    "# Create a Database Schema\n",
    "\n",
    "Analyze the structure of each entry. Depending on the data type, decide what sort of relation you need to store the data. For example, a list would correspond to a 1-to-many relationship, while an atomic would correspond to a 1-to-1.\n",
    "\n",
    "Your goal is to connect to your database, build an appropriate schema, and upload the data from the hgnc_json file. \n",
    "\n",
    "Choose one 1-to-n relationship and some 1-to-1 for your schema."
   ]
  },
  {
   "cell_type": "code",
   "execution_count": 22,
   "metadata": {
    "collapsed": false
   },
   "outputs": [
    {
     "name": "stdout",
     "output_type": "stream",
     "text": [
      "{\n",
      "  \"test_db\": {\n",
      "    \"port\": 3306,\n",
      "    \"host\": \"localhost\",\n",
      "    \"password\": \"\",\n",
      "    \"user\": \"root\",\n",
      "    \"db\": \"mysql\"\n",
      "  }\n",
      "}\n"
     ]
    }
   ],
   "source": [
    "secrets_path = os.path.join(base, 'secrets.json')\n",
    "\n",
    "with open(secrets_path) as f:\n",
    "    secrets = json.load(f)\n",
    "\n",
    "print(json.dumps(secrets, indent=2))"
   ]
  },
  {
   "cell_type": "code",
   "execution_count": 23,
   "metadata": {
    "collapsed": false
   },
   "outputs": [],
   "source": [
    "db_params = secrets['test_db']\n",
    "\n",
    "conn = pymysql.connect(**db_params)"
   ]
  },
  {
   "cell_type": "code",
   "execution_count": 29,
   "metadata": {
    "collapsed": false
   },
   "outputs": [
    {
     "name": "stdout",
     "output_type": "stream",
     "text": [
      "YOUR CODE HERE\n"
     ]
    }
   ],
   "source": [
    "schema_sql = \"\"\"\n",
    "select 'YOUR CODE HERE'\n",
    "\"\"\"\n",
    "\n",
    "with conn.cursor() as cursor:\n",
    "    cursor.execute(schema_sql)\n",
    "    print(*cursor.fetchone())"
   ]
  },
  {
   "cell_type": "markdown",
   "metadata": {},
   "source": [
    "# Upload the Data\n",
    "\n",
    "Iterate over the data, use a new cursor and `cursor.executemany()` to execute the same statement over entry of `docs`."
   ]
  },
  {
   "cell_type": "code",
   "execution_count": null,
   "metadata": {
    "collapsed": true
   },
   "outputs": [],
   "source": []
  }
 ],
 "metadata": {
  "kernelspec": {
   "display_name": "Python 3",
   "language": "python",
   "name": "python3"
  },
  "language_info": {
   "codemirror_mode": {
    "name": "ipython",
    "version": 3
   },
   "file_extension": ".py",
   "mimetype": "text/x-python",
   "name": "python",
   "nbconvert_exporter": "python",
   "pygments_lexer": "ipython3",
   "version": "3.5.2"
  }
 },
 "nbformat": 4,
 "nbformat_minor": 1
}
