{
 "cells": [
  {
   "cell_type": "code",
   "execution_count": 1,
   "metadata": {
    "collapsed": true
   },
   "outputs": [],
   "source": [
    "import pandas as pd\n",
    "import pymysql\n",
    "import re,json,os"
   ]
  },
  {
   "cell_type": "code",
   "execution_count": 5,
   "metadata": {
    "collapsed": true
   },
   "outputs": [],
   "source": [
    "base = os.environ['BUG_FREE_EUREKA_BASE']\n",
    "pathTofile = os.path.join(base,'data','exercise06','E-TABM-713_A-MEXP-1551-analytics.tsv')\n",
    "\n",
    "\n",
    "with open(os.path.join(base,'secrets.json')) as f:\n",
    "    secrets = json.load(f)"
   ]
  },
  {
   "cell_type": "code",
   "execution_count": 6,
   "metadata": {
    "collapsed": false
   },
   "outputs": [
    {
     "name": "stderr",
     "output_type": "stream",
     "text": [
      "c:\\python35\\lib\\site-packages\\pymysql\\cursors.py:166: Warning: (1007, \"Can't create database 'biodb'; database exists\")\n",
      "  result = self._query(query)\n"
     ]
    },
    {
     "data": {
      "text/plain": [
       "1"
      ]
     },
     "execution_count": 6,
     "metadata": {},
     "output_type": "execute_result"
    }
   ],
   "source": [
    "conn = pymysql.connect(**secrets['test_db'])\n",
    "cursor = conn.cursor()\n",
    "\n",
    "cursor.execute('create database if not exists biodb')"
   ]
  },
  {
   "cell_type": "code",
   "execution_count": 7,
   "metadata": {
    "collapsed": false
   },
   "outputs": [
    {
     "data": {
      "text/html": [
       "<div>\n",
       "<table border=\"1\" class=\"dataframe\">\n",
       "  <thead>\n",
       "    <tr style=\"text-align: right;\">\n",
       "      <th></th>\n",
       "      <th>Gene ID</th>\n",
       "      <th>Gene Name</th>\n",
       "      <th>Design Element</th>\n",
       "      <th>g1_g2.p-value</th>\n",
       "      <th>g1_g2.t-statistic</th>\n",
       "      <th>g1_g2.log2foldchange</th>\n",
       "    </tr>\n",
       "  </thead>\n",
       "  <tbody>\n",
       "    <tr>\n",
       "      <th>0</th>\n",
       "      <td>MIMAT0000062</td>\n",
       "      <td>MIMAT0000062</td>\n",
       "      <td>A_25_P00010086</td>\n",
       "      <td>0.702506</td>\n",
       "      <td>0.625362</td>\n",
       "      <td>0.078492</td>\n",
       "    </tr>\n",
       "    <tr>\n",
       "      <th>1</th>\n",
       "      <td>MIMAT0000062</td>\n",
       "      <td>MIMAT0000062</td>\n",
       "      <td>A_25_P00011584</td>\n",
       "      <td>0.975514</td>\n",
       "      <td>0.065110</td>\n",
       "      <td>0.007410</td>\n",
       "    </tr>\n",
       "    <tr>\n",
       "      <th>2</th>\n",
       "      <td>MIMAT0000063</td>\n",
       "      <td>MIMAT0000063</td>\n",
       "      <td>A_25_P00010070</td>\n",
       "      <td>0.139014</td>\n",
       "      <td>2.431636</td>\n",
       "      <td>0.556112</td>\n",
       "    </tr>\n",
       "    <tr>\n",
       "      <th>3</th>\n",
       "      <td>MIMAT0000063</td>\n",
       "      <td>MIMAT0000063</td>\n",
       "      <td>A_25_P00010071</td>\n",
       "      <td>0.049728</td>\n",
       "      <td>3.254492</td>\n",
       "      <td>0.811621</td>\n",
       "    </tr>\n",
       "    <tr>\n",
       "      <th>4</th>\n",
       "      <td>MIMAT0000064</td>\n",
       "      <td>MIMAT0000064</td>\n",
       "      <td>A_25_P00010072</td>\n",
       "      <td>0.098283</td>\n",
       "      <td>2.697813</td>\n",
       "      <td>0.757066</td>\n",
       "    </tr>\n",
       "  </tbody>\n",
       "</table>\n",
       "</div>"
      ],
      "text/plain": [
       "        Gene ID     Gene Name  Design Element  g1_g2.p-value  \\\n",
       "0  MIMAT0000062  MIMAT0000062  A_25_P00010086       0.702506   \n",
       "1  MIMAT0000062  MIMAT0000062  A_25_P00011584       0.975514   \n",
       "2  MIMAT0000063  MIMAT0000063  A_25_P00010070       0.139014   \n",
       "3  MIMAT0000063  MIMAT0000063  A_25_P00010071       0.049728   \n",
       "4  MIMAT0000064  MIMAT0000064  A_25_P00010072       0.098283   \n",
       "\n",
       "   g1_g2.t-statistic  g1_g2.log2foldchange  \n",
       "0           0.625362              0.078492  \n",
       "1           0.065110              0.007410  \n",
       "2           2.431636              0.556112  \n",
       "3           3.254492              0.811621  \n",
       "4           2.697813              0.757066  "
      ]
     },
     "execution_count": 7,
     "metadata": {},
     "output_type": "execute_result"
    }
   ],
   "source": [
    "#load data to dataframe\n",
    "df = pd.read_csv(pathTofile,sep ='\\t')\n",
    "df.head()"
   ]
  },
  {
   "cell_type": "code",
   "execution_count": 10,
   "metadata": {
    "collapsed": false
   },
   "outputs": [
    {
     "name": "stderr",
     "output_type": "stream",
     "text": [
      "c:\\python35\\lib\\site-packages\\pandas\\core\\generic.py:1165: FutureWarning: The 'mysql' flavor with DBAPI connection is deprecated and will be removed in future versions. MySQL will be further supported with SQLAlchemy connectables.\n",
      "  chunksize=chunksize, dtype=dtype)\n"
     ]
    }
   ],
   "source": [
    "#create table from data frame\n",
    "\n",
    "cursor.execute('use biodb')\n",
    "\n",
    "#fix column names\n",
    "df.columns = [re.sub('[ .-]','',x) for x in df.columns]\n",
    "df.to_sql('dea',conn,flavor='mysql')"
   ]
  },
  {
   "cell_type": "code",
   "execution_count": 11,
   "metadata": {
    "collapsed": false
   },
   "outputs": [
    {
     "data": {
      "text/plain": [
       "(('ache',),\n",
       " ('dea',),\n",
       " ('drugbank',),\n",
       " ('temp',),\n",
       " ('temp1',),\n",
       " ('temp12',),\n",
       " ('uniprot',))"
      ]
     },
     "execution_count": 11,
     "metadata": {},
     "output_type": "execute_result"
    }
   ],
   "source": [
    "#check if table is created\n",
    "cursor.execute(\"show tables\")\n",
    "cursor.fetchall()"
   ]
  },
  {
   "cell_type": "markdown",
   "metadata": {},
   "source": [
    "### Exercises\n",
    "\n",
    "* write a query to fetch the first 10 lines from dea\n",
    "* Count the number of rows in the table\n",
    "* Calculat the average p_value for the entire data\n",
    "* Calculate average p_value for each gene\n",
    "* Find the gene with highest fold change, lowest fold change\n",
    "* add your notebook to your GitHub"
   ]
  },
  {
   "cell_type": "code",
   "execution_count": null,
   "metadata": {
    "collapsed": true
   },
   "outputs": [],
   "source": []
  }
 ],
 "metadata": {
  "kernelspec": {
   "display_name": "Python 3",
   "language": "python",
   "name": "python3"
  },
  "language_info": {
   "codemirror_mode": {
    "name": "ipython",
    "version": 3
   },
   "file_extension": ".py",
   "mimetype": "text/x-python",
   "name": "python",
   "nbconvert_exporter": "python",
   "pygments_lexer": "ipython3",
   "version": "3.5.2"
  }
 },
 "nbformat": 4,
 "nbformat_minor": 1
}
